{
 "cells": [
  {
   "cell_type": "markdown",
   "id": "a6dace09",
   "metadata": {},
   "source": [
    "# Analisis Database Sakila"
   ]
  },
  {
   "cell_type": "markdown",
   "id": "f3025134",
   "metadata": {},
   "source": [
    "Pada project kali ini dilakukan analisis database sakila dari mysql. Analisis berfokus ke store dan staff. Tujuan utamanya adalah melihat performa dari store dan staff."
   ]
  },
  {
   "cell_type": "code",
   "execution_count": 2,
   "id": "71586de0",
   "metadata": {},
   "outputs": [],
   "source": [
    "# Manipulasi data\n",
    "import numpy as np\n",
    "import pandas as pd\n",
    "\n",
    "# Visualiasai -> dipilih karena lebih nyaman dan bisa langsung melakukan preprocessing\n",
    "import matplotlib.pyplot as plt\n",
    "import seaborn as sns\n",
    "\n",
    "# connect ke DB MySql\n",
    "import mysql.connector"
   ]
  },
  {
   "cell_type": "code",
   "execution_count": 2,
   "id": "458c0b8a",
   "metadata": {},
   "outputs": [],
   "source": [
    "sakiladb = mysql.connector.connect(\n",
    "    host = 'localhost',\n",
    "    user = 'root',\n",
    "    passwd = '$29iBnu!',\n",
    "    database = 'sakila',\n",
    ")"
   ]
  },
  {
   "cell_type": "code",
   "execution_count": 3,
   "id": "d38a8e3a",
   "metadata": {},
   "outputs": [],
   "source": [
    "mycursor = sakiladb.cursor()"
   ]
  },
  {
   "cell_type": "code",
   "execution_count": 4,
   "id": "41ce4b6f",
   "metadata": {},
   "outputs": [],
   "source": [
    "def get_data_df(query):\n",
    "    global mycursor\n",
    "    mycursor.execute(query)\n",
    "    result = mycursor.fetchall()\n",
    "    temp = pd.DataFrame(data=result, columns=mycursor.column_names)\n",
    "    \n",
    "    return temp"
   ]
  },
  {
   "cell_type": "markdown",
   "id": "dc27417f",
   "metadata": {},
   "source": [
    "# Get Data"
   ]
  },
  {
   "cell_type": "markdown",
   "id": "b78bffbc",
   "metadata": {},
   "source": [
    "## Address Full"
   ]
  },
  {
   "cell_type": "code",
   "execution_count": 14,
   "id": "b2c0f222",
   "metadata": {},
   "outputs": [],
   "source": [
    "address_full = get_data_df(\n",
    "    '''\n",
    "    WITH\n",
    "    address_city as (\n",
    "        SELECT address_id, address, postal_code ,district, city.city, city.country_id\n",
    "        FROM address\n",
    "        LEFT JOIN city\n",
    "        ON address.city_id = city.city_id\n",
    "    ),\n",
    "    address_full as (\n",
    "        SELECT address_id, address, district, city,  postal_code, country.country\n",
    "        FROM address_city\n",
    "        LEFT JOIN country\n",
    "        ON address_city.country_id = country.country_id\n",
    "    )\n",
    "    SELECT  * FROM\n",
    "    address_full;\n",
    "    '''\n",
    ")"
   ]
  },
  {
   "cell_type": "code",
   "execution_count": 15,
   "id": "81e178be",
   "metadata": {},
   "outputs": [
    {
     "data": {
      "text/html": [
       "<div>\n",
       "<style scoped>\n",
       "    .dataframe tbody tr th:only-of-type {\n",
       "        vertical-align: middle;\n",
       "    }\n",
       "\n",
       "    .dataframe tbody tr th {\n",
       "        vertical-align: top;\n",
       "    }\n",
       "\n",
       "    .dataframe thead th {\n",
       "        text-align: right;\n",
       "    }\n",
       "</style>\n",
       "<table border=\"1\" class=\"dataframe\">\n",
       "  <thead>\n",
       "    <tr style=\"text-align: right;\">\n",
       "      <th></th>\n",
       "      <th>address_id</th>\n",
       "      <th>address</th>\n",
       "      <th>district</th>\n",
       "      <th>city</th>\n",
       "      <th>postal_code</th>\n",
       "      <th>country</th>\n",
       "    </tr>\n",
       "  </thead>\n",
       "  <tbody>\n",
       "    <tr>\n",
       "      <th>0</th>\n",
       "      <td>1</td>\n",
       "      <td>47 MySakila Drive</td>\n",
       "      <td>Alberta</td>\n",
       "      <td>Lethbridge</td>\n",
       "      <td></td>\n",
       "      <td>Canada</td>\n",
       "    </tr>\n",
       "    <tr>\n",
       "      <th>1</th>\n",
       "      <td>2</td>\n",
       "      <td>28 MySQL Boulevard</td>\n",
       "      <td>QLD</td>\n",
       "      <td>Woodridge</td>\n",
       "      <td></td>\n",
       "      <td>Australia</td>\n",
       "    </tr>\n",
       "    <tr>\n",
       "      <th>2</th>\n",
       "      <td>3</td>\n",
       "      <td>23 Workhaven Lane</td>\n",
       "      <td>Alberta</td>\n",
       "      <td>Lethbridge</td>\n",
       "      <td></td>\n",
       "      <td>Canada</td>\n",
       "    </tr>\n",
       "    <tr>\n",
       "      <th>3</th>\n",
       "      <td>4</td>\n",
       "      <td>1411 Lillydale Drive</td>\n",
       "      <td>QLD</td>\n",
       "      <td>Woodridge</td>\n",
       "      <td></td>\n",
       "      <td>Australia</td>\n",
       "    </tr>\n",
       "    <tr>\n",
       "      <th>4</th>\n",
       "      <td>5</td>\n",
       "      <td>1913 Hanoi Way</td>\n",
       "      <td>Nagasaki</td>\n",
       "      <td>Sasebo</td>\n",
       "      <td>35200</td>\n",
       "      <td>Japan</td>\n",
       "    </tr>\n",
       "  </tbody>\n",
       "</table>\n",
       "</div>"
      ],
      "text/plain": [
       "   address_id               address  district        city postal_code  \\\n",
       "0           1     47 MySakila Drive   Alberta  Lethbridge               \n",
       "1           2    28 MySQL Boulevard       QLD   Woodridge               \n",
       "2           3     23 Workhaven Lane   Alberta  Lethbridge               \n",
       "3           4  1411 Lillydale Drive       QLD   Woodridge               \n",
       "4           5        1913 Hanoi Way  Nagasaki      Sasebo       35200   \n",
       "\n",
       "     country  \n",
       "0     Canada  \n",
       "1  Australia  \n",
       "2     Canada  \n",
       "3  Australia  \n",
       "4      Japan  "
      ]
     },
     "execution_count": 15,
     "metadata": {},
     "output_type": "execute_result"
    }
   ],
   "source": [
    "address_full.head()"
   ]
  },
  {
   "cell_type": "code",
   "execution_count": 16,
   "id": "13d152ee",
   "metadata": {},
   "outputs": [
    {
     "name": "stdout",
     "output_type": "stream",
     "text": [
      "<class 'pandas.core.frame.DataFrame'>\n",
      "RangeIndex: 603 entries, 0 to 602\n",
      "Data columns (total 6 columns):\n",
      " #   Column       Non-Null Count  Dtype \n",
      "---  ------       --------------  ----- \n",
      " 0   address_id   603 non-null    int64 \n",
      " 1   address      603 non-null    object\n",
      " 2   district     603 non-null    object\n",
      " 3   city         603 non-null    object\n",
      " 4   postal_code  603 non-null    object\n",
      " 5   country      603 non-null    object\n",
      "dtypes: int64(1), object(5)\n",
      "memory usage: 28.4+ KB\n"
     ]
    }
   ],
   "source": [
    "address_full.info()"
   ]
  },
  {
   "cell_type": "markdown",
   "id": "c92bbddc",
   "metadata": {},
   "source": [
    "## Store"
   ]
  },
  {
   "cell_type": "code",
   "execution_count": 19,
   "id": "6f2da665",
   "metadata": {},
   "outputs": [],
   "source": [
    "store = get_data_df(\n",
    "    '''\n",
    "    SELECT  * FROM\n",
    "    store;\n",
    "    '''\n",
    ")"
   ]
  },
  {
   "cell_type": "code",
   "execution_count": 20,
   "id": "7c1c14f9",
   "metadata": {},
   "outputs": [
    {
     "data": {
      "text/html": [
       "<div>\n",
       "<style scoped>\n",
       "    .dataframe tbody tr th:only-of-type {\n",
       "        vertical-align: middle;\n",
       "    }\n",
       "\n",
       "    .dataframe tbody tr th {\n",
       "        vertical-align: top;\n",
       "    }\n",
       "\n",
       "    .dataframe thead th {\n",
       "        text-align: right;\n",
       "    }\n",
       "</style>\n",
       "<table border=\"1\" class=\"dataframe\">\n",
       "  <thead>\n",
       "    <tr style=\"text-align: right;\">\n",
       "      <th></th>\n",
       "      <th>store_id</th>\n",
       "      <th>manager_staff_id</th>\n",
       "      <th>address_id</th>\n",
       "      <th>last_update</th>\n",
       "    </tr>\n",
       "  </thead>\n",
       "  <tbody>\n",
       "    <tr>\n",
       "      <th>0</th>\n",
       "      <td>1</td>\n",
       "      <td>1</td>\n",
       "      <td>1</td>\n",
       "      <td>2006-02-15 04:57:12</td>\n",
       "    </tr>\n",
       "    <tr>\n",
       "      <th>1</th>\n",
       "      <td>2</td>\n",
       "      <td>2</td>\n",
       "      <td>2</td>\n",
       "      <td>2006-02-15 04:57:12</td>\n",
       "    </tr>\n",
       "  </tbody>\n",
       "</table>\n",
       "</div>"
      ],
      "text/plain": [
       "   store_id  manager_staff_id  address_id         last_update\n",
       "0         1                 1           1 2006-02-15 04:57:12\n",
       "1         2                 2           2 2006-02-15 04:57:12"
      ]
     },
     "execution_count": 20,
     "metadata": {},
     "output_type": "execute_result"
    }
   ],
   "source": [
    "store"
   ]
  },
  {
   "cell_type": "markdown",
   "id": "948b4562",
   "metadata": {},
   "source": [
    "## Staff"
   ]
  },
  {
   "cell_type": "code",
   "execution_count": 42,
   "id": "6e332a84",
   "metadata": {},
   "outputs": [],
   "source": [
    "staff = get_data_df(\n",
    "    '''\n",
    "    SELECT  * FROM\n",
    "    staff;\n",
    "    '''\n",
    ")"
   ]
  },
  {
   "cell_type": "code",
   "execution_count": 43,
   "id": "114a3217",
   "metadata": {},
   "outputs": [
    {
     "data": {
      "text/html": [
       "<div>\n",
       "<style scoped>\n",
       "    .dataframe tbody tr th:only-of-type {\n",
       "        vertical-align: middle;\n",
       "    }\n",
       "\n",
       "    .dataframe tbody tr th {\n",
       "        vertical-align: top;\n",
       "    }\n",
       "\n",
       "    .dataframe thead th {\n",
       "        text-align: right;\n",
       "    }\n",
       "</style>\n",
       "<table border=\"1\" class=\"dataframe\">\n",
       "  <thead>\n",
       "    <tr style=\"text-align: right;\">\n",
       "      <th></th>\n",
       "      <th>staff_id</th>\n",
       "      <th>first_name</th>\n",
       "      <th>last_name</th>\n",
       "      <th>address_id</th>\n",
       "      <th>picture</th>\n",
       "      <th>email</th>\n",
       "      <th>store_id</th>\n",
       "      <th>active</th>\n",
       "      <th>username</th>\n",
       "      <th>password</th>\n",
       "      <th>last_update</th>\n",
       "    </tr>\n",
       "  </thead>\n",
       "  <tbody>\n",
       "    <tr>\n",
       "      <th>0</th>\n",
       "      <td>1</td>\n",
       "      <td>Mike</td>\n",
       "      <td>Hillyer</td>\n",
       "      <td>3</td>\n",
       "      <td>b'\\x89PNG\\r\\n\\x1a\\n\\x00\\x00\\x00\\rIHDR\\x00\\x00\\...</td>\n",
       "      <td>Mike.Hillyer@sakilastaff.com</td>\n",
       "      <td>1</td>\n",
       "      <td>1</td>\n",
       "      <td>Mike</td>\n",
       "      <td>8cb2237d0679ca88db6464eac60da96345513964</td>\n",
       "      <td>2006-02-15 03:57:16</td>\n",
       "    </tr>\n",
       "    <tr>\n",
       "      <th>1</th>\n",
       "      <td>2</td>\n",
       "      <td>Jon</td>\n",
       "      <td>Stephens</td>\n",
       "      <td>4</td>\n",
       "      <td>None</td>\n",
       "      <td>Jon.Stephens@sakilastaff.com</td>\n",
       "      <td>2</td>\n",
       "      <td>1</td>\n",
       "      <td>Jon</td>\n",
       "      <td>None</td>\n",
       "      <td>2006-02-15 03:57:16</td>\n",
       "    </tr>\n",
       "  </tbody>\n",
       "</table>\n",
       "</div>"
      ],
      "text/plain": [
       "   staff_id first_name last_name  address_id  \\\n",
       "0         1       Mike   Hillyer           3   \n",
       "1         2        Jon  Stephens           4   \n",
       "\n",
       "                                             picture  \\\n",
       "0  b'\\x89PNG\\r\\n\\x1a\\n\\x00\\x00\\x00\\rIHDR\\x00\\x00\\...   \n",
       "1                                               None   \n",
       "\n",
       "                          email  store_id  active username  \\\n",
       "0  Mike.Hillyer@sakilastaff.com         1       1     Mike   \n",
       "1  Jon.Stephens@sakilastaff.com         2       1      Jon   \n",
       "\n",
       "                                   password         last_update  \n",
       "0  8cb2237d0679ca88db6464eac60da96345513964 2006-02-15 03:57:16  \n",
       "1                                      None 2006-02-15 03:57:16  "
      ]
     },
     "execution_count": 43,
     "metadata": {},
     "output_type": "execute_result"
    }
   ],
   "source": [
    "staff"
   ]
  },
  {
   "cell_type": "markdown",
   "id": "47b4c63d",
   "metadata": {},
   "source": [
    "### Store Address & Staff"
   ]
  },
  {
   "cell_type": "code",
   "execution_count": 31,
   "id": "08073614",
   "metadata": {},
   "outputs": [],
   "source": [
    "store_full_info = pd.merge(left = store, left_on = 'address_id', \n",
    "                           right = address_full, right_on = 'address_id' )"
   ]
  },
  {
   "cell_type": "code",
   "execution_count": 32,
   "id": "11070c96",
   "metadata": {},
   "outputs": [],
   "source": [
    "store_full_info = pd.merge(left = store_full_info, left_on = 'manager_staff_id', \n",
    "                           right = staff, right_on = 'staff_id' )"
   ]
  },
  {
   "cell_type": "code",
   "execution_count": 33,
   "id": "b5e07f06",
   "metadata": {},
   "outputs": [
    {
     "data": {
      "text/plain": [
       "Index(['store_id_x', 'manager_staff_id', 'address_id_x', 'last_update_x',\n",
       "       'address', 'district', 'city', 'postal_code', 'country', 'staff_id',\n",
       "       'first_name', 'last_name', 'address_id_y', 'picture', 'email',\n",
       "       'store_id_y', 'active', 'username', 'password', 'last_update_y'],\n",
       "      dtype='object')"
      ]
     },
     "execution_count": 33,
     "metadata": {},
     "output_type": "execute_result"
    }
   ],
   "source": [
    "store_full_info.columns"
   ]
  },
  {
   "cell_type": "code",
   "execution_count": 34,
   "id": "4827f56b",
   "metadata": {},
   "outputs": [],
   "source": [
    "store_full_info = store_full_info[['store_id_x', 'manager_staff_id', 'address_id_x',\n",
    "       'address', 'district', 'city', 'country', \n",
    "       'first_name', 'last_name'\n",
    "]]"
   ]
  },
  {
   "cell_type": "code",
   "execution_count": 35,
   "id": "b7c2245f",
   "metadata": {},
   "outputs": [],
   "source": [
    "store_full_info.columns = ['store_id', 'manager_staff_id', 'address_id',\n",
    "       'address', 'district', 'city', 'country', \n",
    "       'first_name', 'last_name']"
   ]
  },
  {
   "cell_type": "code",
   "execution_count": 36,
   "id": "f560b72b",
   "metadata": {},
   "outputs": [
    {
     "data": {
      "text/html": [
       "<div>\n",
       "<style scoped>\n",
       "    .dataframe tbody tr th:only-of-type {\n",
       "        vertical-align: middle;\n",
       "    }\n",
       "\n",
       "    .dataframe tbody tr th {\n",
       "        vertical-align: top;\n",
       "    }\n",
       "\n",
       "    .dataframe thead th {\n",
       "        text-align: right;\n",
       "    }\n",
       "</style>\n",
       "<table border=\"1\" class=\"dataframe\">\n",
       "  <thead>\n",
       "    <tr style=\"text-align: right;\">\n",
       "      <th></th>\n",
       "      <th>store_id</th>\n",
       "      <th>manager_staff_id</th>\n",
       "      <th>address_id</th>\n",
       "      <th>address</th>\n",
       "      <th>district</th>\n",
       "      <th>city</th>\n",
       "      <th>country</th>\n",
       "      <th>first_name</th>\n",
       "      <th>last_name</th>\n",
       "    </tr>\n",
       "  </thead>\n",
       "  <tbody>\n",
       "    <tr>\n",
       "      <th>0</th>\n",
       "      <td>1</td>\n",
       "      <td>1</td>\n",
       "      <td>1</td>\n",
       "      <td>47 MySakila Drive</td>\n",
       "      <td>Alberta</td>\n",
       "      <td>Lethbridge</td>\n",
       "      <td>Canada</td>\n",
       "      <td>Mike</td>\n",
       "      <td>Hillyer</td>\n",
       "    </tr>\n",
       "    <tr>\n",
       "      <th>1</th>\n",
       "      <td>2</td>\n",
       "      <td>2</td>\n",
       "      <td>2</td>\n",
       "      <td>28 MySQL Boulevard</td>\n",
       "      <td>QLD</td>\n",
       "      <td>Woodridge</td>\n",
       "      <td>Australia</td>\n",
       "      <td>Jon</td>\n",
       "      <td>Stephens</td>\n",
       "    </tr>\n",
       "  </tbody>\n",
       "</table>\n",
       "</div>"
      ],
      "text/plain": [
       "   store_id  manager_staff_id  address_id             address district  \\\n",
       "0         1                 1           1   47 MySakila Drive  Alberta   \n",
       "1         2                 2           2  28 MySQL Boulevard      QLD   \n",
       "\n",
       "         city    country first_name last_name  \n",
       "0  Lethbridge     Canada       Mike   Hillyer  \n",
       "1   Woodridge  Australia        Jon  Stephens  "
      ]
     },
     "execution_count": 36,
     "metadata": {},
     "output_type": "execute_result"
    }
   ],
   "source": [
    "store_full_info"
   ]
  },
  {
   "cell_type": "markdown",
   "id": "796e9cb4",
   "metadata": {},
   "source": [
    "### Staff Address"
   ]
  },
  {
   "cell_type": "code",
   "execution_count": 37,
   "id": "0ccb70d5",
   "metadata": {},
   "outputs": [],
   "source": [
    "staff_address = pd.merge(left = staff, left_on = 'address_id', \n",
    "                           right = address_full, right_on = 'address_id' )"
   ]
  },
  {
   "cell_type": "code",
   "execution_count": 39,
   "id": "619c72f5",
   "metadata": {},
   "outputs": [],
   "source": [
    "staff_address.drop(['postal_code'],axis=1, inplace=True)"
   ]
  },
  {
   "cell_type": "code",
   "execution_count": 40,
   "id": "80be7e18",
   "metadata": {},
   "outputs": [
    {
     "data": {
      "text/html": [
       "<div>\n",
       "<style scoped>\n",
       "    .dataframe tbody tr th:only-of-type {\n",
       "        vertical-align: middle;\n",
       "    }\n",
       "\n",
       "    .dataframe tbody tr th {\n",
       "        vertical-align: top;\n",
       "    }\n",
       "\n",
       "    .dataframe thead th {\n",
       "        text-align: right;\n",
       "    }\n",
       "</style>\n",
       "<table border=\"1\" class=\"dataframe\">\n",
       "  <thead>\n",
       "    <tr style=\"text-align: right;\">\n",
       "      <th></th>\n",
       "      <th>staff_id</th>\n",
       "      <th>first_name</th>\n",
       "      <th>last_name</th>\n",
       "      <th>address_id</th>\n",
       "      <th>picture</th>\n",
       "      <th>email</th>\n",
       "      <th>store_id</th>\n",
       "      <th>active</th>\n",
       "      <th>username</th>\n",
       "      <th>password</th>\n",
       "      <th>last_update</th>\n",
       "      <th>address</th>\n",
       "      <th>district</th>\n",
       "      <th>city</th>\n",
       "      <th>country</th>\n",
       "    </tr>\n",
       "  </thead>\n",
       "  <tbody>\n",
       "    <tr>\n",
       "      <th>0</th>\n",
       "      <td>1</td>\n",
       "      <td>Mike</td>\n",
       "      <td>Hillyer</td>\n",
       "      <td>3</td>\n",
       "      <td>b'\\x89PNG\\r\\n\\x1a\\n\\x00\\x00\\x00\\rIHDR\\x00\\x00\\...</td>\n",
       "      <td>Mike.Hillyer@sakilastaff.com</td>\n",
       "      <td>1</td>\n",
       "      <td>1</td>\n",
       "      <td>Mike</td>\n",
       "      <td>8cb2237d0679ca88db6464eac60da96345513964</td>\n",
       "      <td>2006-02-15 03:57:16</td>\n",
       "      <td>23 Workhaven Lane</td>\n",
       "      <td>Alberta</td>\n",
       "      <td>Lethbridge</td>\n",
       "      <td>Canada</td>\n",
       "    </tr>\n",
       "    <tr>\n",
       "      <th>1</th>\n",
       "      <td>2</td>\n",
       "      <td>Jon</td>\n",
       "      <td>Stephens</td>\n",
       "      <td>4</td>\n",
       "      <td>None</td>\n",
       "      <td>Jon.Stephens@sakilastaff.com</td>\n",
       "      <td>2</td>\n",
       "      <td>1</td>\n",
       "      <td>Jon</td>\n",
       "      <td>None</td>\n",
       "      <td>2006-02-15 03:57:16</td>\n",
       "      <td>1411 Lillydale Drive</td>\n",
       "      <td>QLD</td>\n",
       "      <td>Woodridge</td>\n",
       "      <td>Australia</td>\n",
       "    </tr>\n",
       "  </tbody>\n",
       "</table>\n",
       "</div>"
      ],
      "text/plain": [
       "   staff_id first_name last_name  address_id  \\\n",
       "0         1       Mike   Hillyer           3   \n",
       "1         2        Jon  Stephens           4   \n",
       "\n",
       "                                             picture  \\\n",
       "0  b'\\x89PNG\\r\\n\\x1a\\n\\x00\\x00\\x00\\rIHDR\\x00\\x00\\...   \n",
       "1                                               None   \n",
       "\n",
       "                          email  store_id  active username  \\\n",
       "0  Mike.Hillyer@sakilastaff.com         1       1     Mike   \n",
       "1  Jon.Stephens@sakilastaff.com         2       1      Jon   \n",
       "\n",
       "                                   password         last_update  \\\n",
       "0  8cb2237d0679ca88db6464eac60da96345513964 2006-02-15 03:57:16   \n",
       "1                                      None 2006-02-15 03:57:16   \n",
       "\n",
       "                address district        city    country  \n",
       "0     23 Workhaven Lane  Alberta  Lethbridge     Canada  \n",
       "1  1411 Lillydale Drive      QLD   Woodridge  Australia  "
      ]
     },
     "execution_count": 40,
     "metadata": {},
     "output_type": "execute_result"
    }
   ],
   "source": [
    "staff_address"
   ]
  },
  {
   "cell_type": "markdown",
   "id": "a26a32f5",
   "metadata": {},
   "source": [
    "## Inventory and Film"
   ]
  },
  {
   "cell_type": "code",
   "execution_count": 50,
   "id": "7d35e275",
   "metadata": {},
   "outputs": [],
   "source": [
    "inv_film = get_data_df(\n",
    "    '''\n",
    "WITH \n",
    "    film_language AS(\n",
    "        SELECT film_id, title, release_year, film.language_id,\n",
    "               language.name as language, rental_duration, rental_rate, \n",
    "               length, replacement_cost, rating, special_features FROM film\n",
    "        JOIN language\n",
    "        ON film.language_id = language.language_id\n",
    "    )\n",
    "SELECT  * FROM\n",
    "inventory\n",
    "LEFT JOIN film_language\n",
    "ON inventory.film_id = film_language.film_id;\n",
    "    '''\n",
    ")"
   ]
  },
  {
   "cell_type": "code",
   "execution_count": 51,
   "id": "ca51c17b",
   "metadata": {},
   "outputs": [
    {
     "data": {
      "text/html": [
       "<div>\n",
       "<style scoped>\n",
       "    .dataframe tbody tr th:only-of-type {\n",
       "        vertical-align: middle;\n",
       "    }\n",
       "\n",
       "    .dataframe tbody tr th {\n",
       "        vertical-align: top;\n",
       "    }\n",
       "\n",
       "    .dataframe thead th {\n",
       "        text-align: right;\n",
       "    }\n",
       "</style>\n",
       "<table border=\"1\" class=\"dataframe\">\n",
       "  <thead>\n",
       "    <tr style=\"text-align: right;\">\n",
       "      <th></th>\n",
       "      <th>inventory_id</th>\n",
       "      <th>film_id</th>\n",
       "      <th>store_id</th>\n",
       "      <th>last_update</th>\n",
       "      <th>film_id</th>\n",
       "      <th>title</th>\n",
       "      <th>release_year</th>\n",
       "      <th>language_id</th>\n",
       "      <th>language</th>\n",
       "      <th>rental_duration</th>\n",
       "      <th>rental_rate</th>\n",
       "      <th>length</th>\n",
       "      <th>replacement_cost</th>\n",
       "      <th>rating</th>\n",
       "      <th>special_features</th>\n",
       "    </tr>\n",
       "  </thead>\n",
       "  <tbody>\n",
       "    <tr>\n",
       "      <th>0</th>\n",
       "      <td>1</td>\n",
       "      <td>1</td>\n",
       "      <td>1</td>\n",
       "      <td>2006-02-15 05:09:17</td>\n",
       "      <td>1</td>\n",
       "      <td>ACADEMY DINOSAUR</td>\n",
       "      <td>2006</td>\n",
       "      <td>1</td>\n",
       "      <td>English</td>\n",
       "      <td>6</td>\n",
       "      <td>0.99</td>\n",
       "      <td>86</td>\n",
       "      <td>20.99</td>\n",
       "      <td>PG</td>\n",
       "      <td>{Deleted Scenes, Behind the Scenes}</td>\n",
       "    </tr>\n",
       "    <tr>\n",
       "      <th>1</th>\n",
       "      <td>2</td>\n",
       "      <td>1</td>\n",
       "      <td>1</td>\n",
       "      <td>2006-02-15 05:09:17</td>\n",
       "      <td>1</td>\n",
       "      <td>ACADEMY DINOSAUR</td>\n",
       "      <td>2006</td>\n",
       "      <td>1</td>\n",
       "      <td>English</td>\n",
       "      <td>6</td>\n",
       "      <td>0.99</td>\n",
       "      <td>86</td>\n",
       "      <td>20.99</td>\n",
       "      <td>PG</td>\n",
       "      <td>{Deleted Scenes, Behind the Scenes}</td>\n",
       "    </tr>\n",
       "    <tr>\n",
       "      <th>2</th>\n",
       "      <td>3</td>\n",
       "      <td>1</td>\n",
       "      <td>1</td>\n",
       "      <td>2006-02-15 05:09:17</td>\n",
       "      <td>1</td>\n",
       "      <td>ACADEMY DINOSAUR</td>\n",
       "      <td>2006</td>\n",
       "      <td>1</td>\n",
       "      <td>English</td>\n",
       "      <td>6</td>\n",
       "      <td>0.99</td>\n",
       "      <td>86</td>\n",
       "      <td>20.99</td>\n",
       "      <td>PG</td>\n",
       "      <td>{Deleted Scenes, Behind the Scenes}</td>\n",
       "    </tr>\n",
       "    <tr>\n",
       "      <th>3</th>\n",
       "      <td>4</td>\n",
       "      <td>1</td>\n",
       "      <td>1</td>\n",
       "      <td>2006-02-15 05:09:17</td>\n",
       "      <td>1</td>\n",
       "      <td>ACADEMY DINOSAUR</td>\n",
       "      <td>2006</td>\n",
       "      <td>1</td>\n",
       "      <td>English</td>\n",
       "      <td>6</td>\n",
       "      <td>0.99</td>\n",
       "      <td>86</td>\n",
       "      <td>20.99</td>\n",
       "      <td>PG</td>\n",
       "      <td>{Deleted Scenes, Behind the Scenes}</td>\n",
       "    </tr>\n",
       "    <tr>\n",
       "      <th>4</th>\n",
       "      <td>5</td>\n",
       "      <td>1</td>\n",
       "      <td>2</td>\n",
       "      <td>2006-02-15 05:09:17</td>\n",
       "      <td>1</td>\n",
       "      <td>ACADEMY DINOSAUR</td>\n",
       "      <td>2006</td>\n",
       "      <td>1</td>\n",
       "      <td>English</td>\n",
       "      <td>6</td>\n",
       "      <td>0.99</td>\n",
       "      <td>86</td>\n",
       "      <td>20.99</td>\n",
       "      <td>PG</td>\n",
       "      <td>{Deleted Scenes, Behind the Scenes}</td>\n",
       "    </tr>\n",
       "  </tbody>\n",
       "</table>\n",
       "</div>"
      ],
      "text/plain": [
       "   inventory_id  film_id  store_id         last_update  film_id  \\\n",
       "0             1        1         1 2006-02-15 05:09:17        1   \n",
       "1             2        1         1 2006-02-15 05:09:17        1   \n",
       "2             3        1         1 2006-02-15 05:09:17        1   \n",
       "3             4        1         1 2006-02-15 05:09:17        1   \n",
       "4             5        1         2 2006-02-15 05:09:17        1   \n",
       "\n",
       "              title  release_year  language_id language  rental_duration  \\\n",
       "0  ACADEMY DINOSAUR          2006            1  English                6   \n",
       "1  ACADEMY DINOSAUR          2006            1  English                6   \n",
       "2  ACADEMY DINOSAUR          2006            1  English                6   \n",
       "3  ACADEMY DINOSAUR          2006            1  English                6   \n",
       "4  ACADEMY DINOSAUR          2006            1  English                6   \n",
       "\n",
       "  rental_rate  length replacement_cost rating  \\\n",
       "0        0.99      86            20.99     PG   \n",
       "1        0.99      86            20.99     PG   \n",
       "2        0.99      86            20.99     PG   \n",
       "3        0.99      86            20.99     PG   \n",
       "4        0.99      86            20.99     PG   \n",
       "\n",
       "                      special_features  \n",
       "0  {Deleted Scenes, Behind the Scenes}  \n",
       "1  {Deleted Scenes, Behind the Scenes}  \n",
       "2  {Deleted Scenes, Behind the Scenes}  \n",
       "3  {Deleted Scenes, Behind the Scenes}  \n",
       "4  {Deleted Scenes, Behind the Scenes}  "
      ]
     },
     "execution_count": 51,
     "metadata": {},
     "output_type": "execute_result"
    }
   ],
   "source": [
    "inv_film.head()"
   ]
  },
  {
   "cell_type": "markdown",
   "id": "8bf7be5f",
   "metadata": {},
   "source": [
    "## Customer"
   ]
  },
  {
   "cell_type": "markdown",
   "id": "58c0344c",
   "metadata": {},
   "source": [
    "### Customer Address"
   ]
  },
  {
   "cell_type": "code",
   "execution_count": 55,
   "id": "0dc1efd6",
   "metadata": {},
   "outputs": [],
   "source": [
    "customer_address = get_data_df(\n",
    "    '''\n",
    "    WITH\n",
    "    address_city as (\n",
    "        SELECT address_id, address, postal_code ,district, city.city, city.country_id\n",
    "        FROM address\n",
    "        LEFT JOIN city\n",
    "        ON address.city_id = city.city_id\n",
    "    ),\n",
    "    address_full as (\n",
    "        SELECT address_id, address, district, city,  postal_code, country.country\n",
    "        FROM address_city\n",
    "        LEFT JOIN country\n",
    "        ON address_city.country_id = country.country_id\n",
    "    )\n",
    "    SELECT  customer_id, store_id, first_name,  last_name, address, postal_code  ,district, city, country\n",
    "    FROM customer\n",
    "    LEFT JOIN address_full\n",
    "    ON customer.address_id = address_full.address_id;\n",
    "    '''\n",
    ")"
   ]
  },
  {
   "cell_type": "code",
   "execution_count": 56,
   "id": "1002db96",
   "metadata": {},
   "outputs": [
    {
     "data": {
      "text/html": [
       "<div>\n",
       "<style scoped>\n",
       "    .dataframe tbody tr th:only-of-type {\n",
       "        vertical-align: middle;\n",
       "    }\n",
       "\n",
       "    .dataframe tbody tr th {\n",
       "        vertical-align: top;\n",
       "    }\n",
       "\n",
       "    .dataframe thead th {\n",
       "        text-align: right;\n",
       "    }\n",
       "</style>\n",
       "<table border=\"1\" class=\"dataframe\">\n",
       "  <thead>\n",
       "    <tr style=\"text-align: right;\">\n",
       "      <th></th>\n",
       "      <th>customer_id</th>\n",
       "      <th>store_id</th>\n",
       "      <th>first_name</th>\n",
       "      <th>last_name</th>\n",
       "      <th>address</th>\n",
       "      <th>postal_code</th>\n",
       "      <th>district</th>\n",
       "      <th>city</th>\n",
       "      <th>country</th>\n",
       "    </tr>\n",
       "  </thead>\n",
       "  <tbody>\n",
       "    <tr>\n",
       "      <th>0</th>\n",
       "      <td>1</td>\n",
       "      <td>1</td>\n",
       "      <td>MARY</td>\n",
       "      <td>SMITH</td>\n",
       "      <td>1913 Hanoi Way</td>\n",
       "      <td>35200</td>\n",
       "      <td>Nagasaki</td>\n",
       "      <td>Sasebo</td>\n",
       "      <td>Japan</td>\n",
       "    </tr>\n",
       "    <tr>\n",
       "      <th>1</th>\n",
       "      <td>2</td>\n",
       "      <td>1</td>\n",
       "      <td>PATRICIA</td>\n",
       "      <td>JOHNSON</td>\n",
       "      <td>1121 Loja Avenue</td>\n",
       "      <td>17886</td>\n",
       "      <td>California</td>\n",
       "      <td>San Bernardino</td>\n",
       "      <td>United States</td>\n",
       "    </tr>\n",
       "    <tr>\n",
       "      <th>2</th>\n",
       "      <td>3</td>\n",
       "      <td>1</td>\n",
       "      <td>LINDA</td>\n",
       "      <td>WILLIAMS</td>\n",
       "      <td>692 Joliet Street</td>\n",
       "      <td>83579</td>\n",
       "      <td>Attika</td>\n",
       "      <td>Athenai</td>\n",
       "      <td>Greece</td>\n",
       "    </tr>\n",
       "    <tr>\n",
       "      <th>3</th>\n",
       "      <td>4</td>\n",
       "      <td>2</td>\n",
       "      <td>BARBARA</td>\n",
       "      <td>JONES</td>\n",
       "      <td>1566 Inegl Manor</td>\n",
       "      <td>53561</td>\n",
       "      <td>Mandalay</td>\n",
       "      <td>Myingyan</td>\n",
       "      <td>Myanmar</td>\n",
       "    </tr>\n",
       "    <tr>\n",
       "      <th>4</th>\n",
       "      <td>5</td>\n",
       "      <td>1</td>\n",
       "      <td>ELIZABETH</td>\n",
       "      <td>BROWN</td>\n",
       "      <td>53 Idfu Parkway</td>\n",
       "      <td>42399</td>\n",
       "      <td>Nantou</td>\n",
       "      <td>Nantou</td>\n",
       "      <td>Taiwan</td>\n",
       "    </tr>\n",
       "  </tbody>\n",
       "</table>\n",
       "</div>"
      ],
      "text/plain": [
       "   customer_id  store_id first_name last_name            address postal_code  \\\n",
       "0            1         1       MARY     SMITH     1913 Hanoi Way       35200   \n",
       "1            2         1   PATRICIA   JOHNSON   1121 Loja Avenue       17886   \n",
       "2            3         1      LINDA  WILLIAMS  692 Joliet Street       83579   \n",
       "3            4         2    BARBARA     JONES   1566 Inegl Manor       53561   \n",
       "4            5         1  ELIZABETH     BROWN    53 Idfu Parkway       42399   \n",
       "\n",
       "     district            city        country  \n",
       "0    Nagasaki          Sasebo          Japan  \n",
       "1  California  San Bernardino  United States  \n",
       "2      Attika         Athenai         Greece  \n",
       "3    Mandalay        Myingyan        Myanmar  \n",
       "4      Nantou          Nantou         Taiwan  "
      ]
     },
     "execution_count": 56,
     "metadata": {},
     "output_type": "execute_result"
    }
   ],
   "source": [
    "customer_address.head()"
   ]
  },
  {
   "cell_type": "markdown",
   "id": "9fc0aac6",
   "metadata": {},
   "source": [
    "## Rental"
   ]
  },
  {
   "cell_type": "code",
   "execution_count": 57,
   "id": "870fab4b",
   "metadata": {},
   "outputs": [],
   "source": [
    "rental = get_data_df('SELECT * FROM rental;')"
   ]
  },
  {
   "cell_type": "code",
   "execution_count": 58,
   "id": "92748abe",
   "metadata": {},
   "outputs": [
    {
     "data": {
      "text/html": [
       "<div>\n",
       "<style scoped>\n",
       "    .dataframe tbody tr th:only-of-type {\n",
       "        vertical-align: middle;\n",
       "    }\n",
       "\n",
       "    .dataframe tbody tr th {\n",
       "        vertical-align: top;\n",
       "    }\n",
       "\n",
       "    .dataframe thead th {\n",
       "        text-align: right;\n",
       "    }\n",
       "</style>\n",
       "<table border=\"1\" class=\"dataframe\">\n",
       "  <thead>\n",
       "    <tr style=\"text-align: right;\">\n",
       "      <th></th>\n",
       "      <th>rental_id</th>\n",
       "      <th>rental_date</th>\n",
       "      <th>inventory_id</th>\n",
       "      <th>customer_id</th>\n",
       "      <th>return_date</th>\n",
       "      <th>staff_id</th>\n",
       "      <th>last_update</th>\n",
       "    </tr>\n",
       "  </thead>\n",
       "  <tbody>\n",
       "    <tr>\n",
       "      <th>0</th>\n",
       "      <td>1</td>\n",
       "      <td>2005-05-24 22:53:30</td>\n",
       "      <td>367</td>\n",
       "      <td>130</td>\n",
       "      <td>2005-05-26 22:04:30</td>\n",
       "      <td>1</td>\n",
       "      <td>2006-02-15 21:30:53</td>\n",
       "    </tr>\n",
       "    <tr>\n",
       "      <th>1</th>\n",
       "      <td>2</td>\n",
       "      <td>2005-05-24 22:54:33</td>\n",
       "      <td>1525</td>\n",
       "      <td>459</td>\n",
       "      <td>2005-05-28 19:40:33</td>\n",
       "      <td>1</td>\n",
       "      <td>2006-02-15 21:30:53</td>\n",
       "    </tr>\n",
       "    <tr>\n",
       "      <th>2</th>\n",
       "      <td>3</td>\n",
       "      <td>2005-05-24 23:03:39</td>\n",
       "      <td>1711</td>\n",
       "      <td>408</td>\n",
       "      <td>2005-06-01 22:12:39</td>\n",
       "      <td>1</td>\n",
       "      <td>2006-02-15 21:30:53</td>\n",
       "    </tr>\n",
       "    <tr>\n",
       "      <th>3</th>\n",
       "      <td>4</td>\n",
       "      <td>2005-05-24 23:04:41</td>\n",
       "      <td>2452</td>\n",
       "      <td>333</td>\n",
       "      <td>2005-06-03 01:43:41</td>\n",
       "      <td>2</td>\n",
       "      <td>2006-02-15 21:30:53</td>\n",
       "    </tr>\n",
       "    <tr>\n",
       "      <th>4</th>\n",
       "      <td>5</td>\n",
       "      <td>2005-05-24 23:05:21</td>\n",
       "      <td>2079</td>\n",
       "      <td>222</td>\n",
       "      <td>2005-06-02 04:33:21</td>\n",
       "      <td>1</td>\n",
       "      <td>2006-02-15 21:30:53</td>\n",
       "    </tr>\n",
       "  </tbody>\n",
       "</table>\n",
       "</div>"
      ],
      "text/plain": [
       "   rental_id         rental_date  inventory_id  customer_id  \\\n",
       "0          1 2005-05-24 22:53:30           367          130   \n",
       "1          2 2005-05-24 22:54:33          1525          459   \n",
       "2          3 2005-05-24 23:03:39          1711          408   \n",
       "3          4 2005-05-24 23:04:41          2452          333   \n",
       "4          5 2005-05-24 23:05:21          2079          222   \n",
       "\n",
       "          return_date  staff_id         last_update  \n",
       "0 2005-05-26 22:04:30         1 2006-02-15 21:30:53  \n",
       "1 2005-05-28 19:40:33         1 2006-02-15 21:30:53  \n",
       "2 2005-06-01 22:12:39         1 2006-02-15 21:30:53  \n",
       "3 2005-06-03 01:43:41         2 2006-02-15 21:30:53  \n",
       "4 2005-06-02 04:33:21         1 2006-02-15 21:30:53  "
      ]
     },
     "execution_count": 58,
     "metadata": {},
     "output_type": "execute_result"
    }
   ],
   "source": [
    "rental.head()"
   ]
  },
  {
   "cell_type": "code",
   "execution_count": 60,
   "id": "41a51921",
   "metadata": {},
   "outputs": [],
   "source": [
    "rental_inventory = rental.merge(inv_film, left_on='inventory_id', right_on='inventory_id',how='left')"
   ]
  },
  {
   "cell_type": "code",
   "execution_count": 61,
   "id": "9a0a0ae8",
   "metadata": {},
   "outputs": [
    {
     "data": {
      "text/plain": [
       "Index(['rental_id', 'rental_date', 'inventory_id', 'customer_id',\n",
       "       'return_date', 'staff_id', 'last_update_x', 'film_id', 'store_id',\n",
       "       'last_update_y', 'film_id', 'title', 'release_year', 'language_id',\n",
       "       'language', 'rental_duration', 'rental_rate', 'length',\n",
       "       'replacement_cost', 'rating', 'special_features'],\n",
       "      dtype='object')"
      ]
     },
     "execution_count": 61,
     "metadata": {},
     "output_type": "execute_result"
    }
   ],
   "source": [
    "rental_inventory.columns"
   ]
  },
  {
   "cell_type": "code",
   "execution_count": 62,
   "id": "6b27242f",
   "metadata": {},
   "outputs": [
    {
     "data": {
      "text/html": [
       "<div>\n",
       "<style scoped>\n",
       "    .dataframe tbody tr th:only-of-type {\n",
       "        vertical-align: middle;\n",
       "    }\n",
       "\n",
       "    .dataframe tbody tr th {\n",
       "        vertical-align: top;\n",
       "    }\n",
       "\n",
       "    .dataframe thead th {\n",
       "        text-align: right;\n",
       "    }\n",
       "</style>\n",
       "<table border=\"1\" class=\"dataframe\">\n",
       "  <thead>\n",
       "    <tr style=\"text-align: right;\">\n",
       "      <th></th>\n",
       "      <th>rental_id</th>\n",
       "      <th>rental_date</th>\n",
       "      <th>inventory_id</th>\n",
       "      <th>customer_id</th>\n",
       "      <th>return_date</th>\n",
       "      <th>staff_id</th>\n",
       "      <th>film_id</th>\n",
       "      <th>store_id</th>\n",
       "      <th>film_id</th>\n",
       "      <th>title</th>\n",
       "      <th>release_year</th>\n",
       "      <th>language_id</th>\n",
       "      <th>language</th>\n",
       "      <th>rental_duration</th>\n",
       "      <th>rental_rate</th>\n",
       "      <th>length</th>\n",
       "      <th>replacement_cost</th>\n",
       "      <th>rating</th>\n",
       "      <th>special_features</th>\n",
       "    </tr>\n",
       "  </thead>\n",
       "  <tbody>\n",
       "    <tr>\n",
       "      <th>0</th>\n",
       "      <td>1</td>\n",
       "      <td>2005-05-24 22:53:30</td>\n",
       "      <td>367</td>\n",
       "      <td>130</td>\n",
       "      <td>2005-05-26 22:04:30</td>\n",
       "      <td>1</td>\n",
       "      <td>80</td>\n",
       "      <td>1</td>\n",
       "      <td>80</td>\n",
       "      <td>BLANKET BEVERLY</td>\n",
       "      <td>2006</td>\n",
       "      <td>1</td>\n",
       "      <td>English</td>\n",
       "      <td>7</td>\n",
       "      <td>2.99</td>\n",
       "      <td>148</td>\n",
       "      <td>21.99</td>\n",
       "      <td>G</td>\n",
       "      <td>{Trailers}</td>\n",
       "    </tr>\n",
       "    <tr>\n",
       "      <th>1</th>\n",
       "      <td>2</td>\n",
       "      <td>2005-05-24 22:54:33</td>\n",
       "      <td>1525</td>\n",
       "      <td>459</td>\n",
       "      <td>2005-05-28 19:40:33</td>\n",
       "      <td>1</td>\n",
       "      <td>333</td>\n",
       "      <td>2</td>\n",
       "      <td>333</td>\n",
       "      <td>FREAKY POCUS</td>\n",
       "      <td>2006</td>\n",
       "      <td>1</td>\n",
       "      <td>English</td>\n",
       "      <td>7</td>\n",
       "      <td>2.99</td>\n",
       "      <td>126</td>\n",
       "      <td>16.99</td>\n",
       "      <td>R</td>\n",
       "      <td>{Trailers, Behind the Scenes}</td>\n",
       "    </tr>\n",
       "    <tr>\n",
       "      <th>2</th>\n",
       "      <td>3</td>\n",
       "      <td>2005-05-24 23:03:39</td>\n",
       "      <td>1711</td>\n",
       "      <td>408</td>\n",
       "      <td>2005-06-01 22:12:39</td>\n",
       "      <td>1</td>\n",
       "      <td>373</td>\n",
       "      <td>2</td>\n",
       "      <td>373</td>\n",
       "      <td>GRADUATE LORD</td>\n",
       "      <td>2006</td>\n",
       "      <td>1</td>\n",
       "      <td>English</td>\n",
       "      <td>7</td>\n",
       "      <td>2.99</td>\n",
       "      <td>156</td>\n",
       "      <td>14.99</td>\n",
       "      <td>G</td>\n",
       "      <td>{Trailers, Behind the Scenes}</td>\n",
       "    </tr>\n",
       "    <tr>\n",
       "      <th>3</th>\n",
       "      <td>4</td>\n",
       "      <td>2005-05-24 23:04:41</td>\n",
       "      <td>2452</td>\n",
       "      <td>333</td>\n",
       "      <td>2005-06-03 01:43:41</td>\n",
       "      <td>2</td>\n",
       "      <td>535</td>\n",
       "      <td>1</td>\n",
       "      <td>535</td>\n",
       "      <td>LOVE SUICIDES</td>\n",
       "      <td>2006</td>\n",
       "      <td>1</td>\n",
       "      <td>English</td>\n",
       "      <td>6</td>\n",
       "      <td>0.99</td>\n",
       "      <td>181</td>\n",
       "      <td>21.99</td>\n",
       "      <td>R</td>\n",
       "      <td>{Trailers, Behind the Scenes}</td>\n",
       "    </tr>\n",
       "    <tr>\n",
       "      <th>4</th>\n",
       "      <td>5</td>\n",
       "      <td>2005-05-24 23:05:21</td>\n",
       "      <td>2079</td>\n",
       "      <td>222</td>\n",
       "      <td>2005-06-02 04:33:21</td>\n",
       "      <td>1</td>\n",
       "      <td>450</td>\n",
       "      <td>2</td>\n",
       "      <td>450</td>\n",
       "      <td>IDOLS SNATCHERS</td>\n",
       "      <td>2006</td>\n",
       "      <td>1</td>\n",
       "      <td>English</td>\n",
       "      <td>5</td>\n",
       "      <td>2.99</td>\n",
       "      <td>84</td>\n",
       "      <td>29.99</td>\n",
       "      <td>NC-17</td>\n",
       "      <td>{Trailers}</td>\n",
       "    </tr>\n",
       "    <tr>\n",
       "      <th>...</th>\n",
       "      <td>...</td>\n",
       "      <td>...</td>\n",
       "      <td>...</td>\n",
       "      <td>...</td>\n",
       "      <td>...</td>\n",
       "      <td>...</td>\n",
       "      <td>...</td>\n",
       "      <td>...</td>\n",
       "      <td>...</td>\n",
       "      <td>...</td>\n",
       "      <td>...</td>\n",
       "      <td>...</td>\n",
       "      <td>...</td>\n",
       "      <td>...</td>\n",
       "      <td>...</td>\n",
       "      <td>...</td>\n",
       "      <td>...</td>\n",
       "      <td>...</td>\n",
       "      <td>...</td>\n",
       "    </tr>\n",
       "    <tr>\n",
       "      <th>16039</th>\n",
       "      <td>16045</td>\n",
       "      <td>2005-08-23 22:25:26</td>\n",
       "      <td>772</td>\n",
       "      <td>14</td>\n",
       "      <td>2005-08-25 23:54:26</td>\n",
       "      <td>1</td>\n",
       "      <td>168</td>\n",
       "      <td>1</td>\n",
       "      <td>168</td>\n",
       "      <td>COMANCHEROS ENEMY</td>\n",
       "      <td>2006</td>\n",
       "      <td>1</td>\n",
       "      <td>English</td>\n",
       "      <td>5</td>\n",
       "      <td>0.99</td>\n",
       "      <td>67</td>\n",
       "      <td>23.99</td>\n",
       "      <td>R</td>\n",
       "      <td>{Trailers, Behind the Scenes}</td>\n",
       "    </tr>\n",
       "    <tr>\n",
       "      <th>16040</th>\n",
       "      <td>16046</td>\n",
       "      <td>2005-08-23 22:26:47</td>\n",
       "      <td>4364</td>\n",
       "      <td>74</td>\n",
       "      <td>2005-08-27 18:02:47</td>\n",
       "      <td>2</td>\n",
       "      <td>951</td>\n",
       "      <td>2</td>\n",
       "      <td>951</td>\n",
       "      <td>VOYAGE LEGALLY</td>\n",
       "      <td>2006</td>\n",
       "      <td>1</td>\n",
       "      <td>English</td>\n",
       "      <td>6</td>\n",
       "      <td>0.99</td>\n",
       "      <td>78</td>\n",
       "      <td>28.99</td>\n",
       "      <td>PG-13</td>\n",
       "      <td>{Commentaries, Behind the Scenes}</td>\n",
       "    </tr>\n",
       "    <tr>\n",
       "      <th>16041</th>\n",
       "      <td>16047</td>\n",
       "      <td>2005-08-23 22:42:48</td>\n",
       "      <td>2088</td>\n",
       "      <td>114</td>\n",
       "      <td>2005-08-25 02:48:48</td>\n",
       "      <td>2</td>\n",
       "      <td>452</td>\n",
       "      <td>2</td>\n",
       "      <td>452</td>\n",
       "      <td>ILLUSION AMELIE</td>\n",
       "      <td>2006</td>\n",
       "      <td>1</td>\n",
       "      <td>English</td>\n",
       "      <td>4</td>\n",
       "      <td>0.99</td>\n",
       "      <td>122</td>\n",
       "      <td>15.99</td>\n",
       "      <td>R</td>\n",
       "      <td>{Commentaries, Behind the Scenes}</td>\n",
       "    </tr>\n",
       "    <tr>\n",
       "      <th>16042</th>\n",
       "      <td>16048</td>\n",
       "      <td>2005-08-23 22:43:07</td>\n",
       "      <td>2019</td>\n",
       "      <td>103</td>\n",
       "      <td>2005-08-31 21:33:07</td>\n",
       "      <td>1</td>\n",
       "      <td>439</td>\n",
       "      <td>1</td>\n",
       "      <td>439</td>\n",
       "      <td>HUNCHBACK IMPOSSIBLE</td>\n",
       "      <td>2006</td>\n",
       "      <td>1</td>\n",
       "      <td>English</td>\n",
       "      <td>4</td>\n",
       "      <td>4.99</td>\n",
       "      <td>151</td>\n",
       "      <td>28.99</td>\n",
       "      <td>PG-13</td>\n",
       "      <td>{Deleted Scenes, Trailers}</td>\n",
       "    </tr>\n",
       "    <tr>\n",
       "      <th>16043</th>\n",
       "      <td>16049</td>\n",
       "      <td>2005-08-23 22:50:12</td>\n",
       "      <td>2666</td>\n",
       "      <td>393</td>\n",
       "      <td>2005-08-30 01:01:12</td>\n",
       "      <td>2</td>\n",
       "      <td>585</td>\n",
       "      <td>2</td>\n",
       "      <td>585</td>\n",
       "      <td>MOB DUFFEL</td>\n",
       "      <td>2006</td>\n",
       "      <td>1</td>\n",
       "      <td>English</td>\n",
       "      <td>4</td>\n",
       "      <td>0.99</td>\n",
       "      <td>105</td>\n",
       "      <td>25.99</td>\n",
       "      <td>G</td>\n",
       "      <td>{Trailers}</td>\n",
       "    </tr>\n",
       "  </tbody>\n",
       "</table>\n",
       "<p>16044 rows × 19 columns</p>\n",
       "</div>"
      ],
      "text/plain": [
       "       rental_id         rental_date  inventory_id  customer_id  \\\n",
       "0              1 2005-05-24 22:53:30           367          130   \n",
       "1              2 2005-05-24 22:54:33          1525          459   \n",
       "2              3 2005-05-24 23:03:39          1711          408   \n",
       "3              4 2005-05-24 23:04:41          2452          333   \n",
       "4              5 2005-05-24 23:05:21          2079          222   \n",
       "...          ...                 ...           ...          ...   \n",
       "16039      16045 2005-08-23 22:25:26           772           14   \n",
       "16040      16046 2005-08-23 22:26:47          4364           74   \n",
       "16041      16047 2005-08-23 22:42:48          2088          114   \n",
       "16042      16048 2005-08-23 22:43:07          2019          103   \n",
       "16043      16049 2005-08-23 22:50:12          2666          393   \n",
       "\n",
       "              return_date  staff_id  film_id  store_id  film_id  \\\n",
       "0     2005-05-26 22:04:30         1       80         1       80   \n",
       "1     2005-05-28 19:40:33         1      333         2      333   \n",
       "2     2005-06-01 22:12:39         1      373         2      373   \n",
       "3     2005-06-03 01:43:41         2      535         1      535   \n",
       "4     2005-06-02 04:33:21         1      450         2      450   \n",
       "...                   ...       ...      ...       ...      ...   \n",
       "16039 2005-08-25 23:54:26         1      168         1      168   \n",
       "16040 2005-08-27 18:02:47         2      951         2      951   \n",
       "16041 2005-08-25 02:48:48         2      452         2      452   \n",
       "16042 2005-08-31 21:33:07         1      439         1      439   \n",
       "16043 2005-08-30 01:01:12         2      585         2      585   \n",
       "\n",
       "                      title  release_year  language_id language  \\\n",
       "0           BLANKET BEVERLY          2006            1  English   \n",
       "1              FREAKY POCUS          2006            1  English   \n",
       "2             GRADUATE LORD          2006            1  English   \n",
       "3             LOVE SUICIDES          2006            1  English   \n",
       "4           IDOLS SNATCHERS          2006            1  English   \n",
       "...                     ...           ...          ...      ...   \n",
       "16039     COMANCHEROS ENEMY          2006            1  English   \n",
       "16040        VOYAGE LEGALLY          2006            1  English   \n",
       "16041       ILLUSION AMELIE          2006            1  English   \n",
       "16042  HUNCHBACK IMPOSSIBLE          2006            1  English   \n",
       "16043            MOB DUFFEL          2006            1  English   \n",
       "\n",
       "       rental_duration rental_rate  length replacement_cost rating  \\\n",
       "0                    7        2.99     148            21.99      G   \n",
       "1                    7        2.99     126            16.99      R   \n",
       "2                    7        2.99     156            14.99      G   \n",
       "3                    6        0.99     181            21.99      R   \n",
       "4                    5        2.99      84            29.99  NC-17   \n",
       "...                ...         ...     ...              ...    ...   \n",
       "16039                5        0.99      67            23.99      R   \n",
       "16040                6        0.99      78            28.99  PG-13   \n",
       "16041                4        0.99     122            15.99      R   \n",
       "16042                4        4.99     151            28.99  PG-13   \n",
       "16043                4        0.99     105            25.99      G   \n",
       "\n",
       "                        special_features  \n",
       "0                             {Trailers}  \n",
       "1          {Trailers, Behind the Scenes}  \n",
       "2          {Trailers, Behind the Scenes}  \n",
       "3          {Trailers, Behind the Scenes}  \n",
       "4                             {Trailers}  \n",
       "...                                  ...  \n",
       "16039      {Trailers, Behind the Scenes}  \n",
       "16040  {Commentaries, Behind the Scenes}  \n",
       "16041  {Commentaries, Behind the Scenes}  \n",
       "16042         {Deleted Scenes, Trailers}  \n",
       "16043                         {Trailers}  \n",
       "\n",
       "[16044 rows x 19 columns]"
      ]
     },
     "execution_count": 62,
     "metadata": {},
     "output_type": "execute_result"
    }
   ],
   "source": [
    "rental_inventory.drop(['last_update_y','last_update_x'],axis=1)"
   ]
  },
  {
   "cell_type": "code",
   "execution_count": 68,
   "id": "996a2e29",
   "metadata": {},
   "outputs": [],
   "source": [
    "payment = get_data_df('SELECT * FROM payment;')"
   ]
  },
  {
   "cell_type": "code",
   "execution_count": 80,
   "id": "3981a3dc",
   "metadata": {},
   "outputs": [],
   "source": [
    "rental_inventory_payment = pd.merge(left=rental_inventory, left_on='rental_id',\n",
    "                                    right=payment, right_on='rental_id',how='outer',copy=False,suffixes=('','_payment'))"
   ]
  },
  {
   "cell_type": "markdown",
   "id": "486b474f",
   "metadata": {},
   "source": [
    "# Save Data"
   ]
  },
  {
   "cell_type": "code",
   "execution_count": 84,
   "id": "6f4b938b",
   "metadata": {},
   "outputs": [],
   "source": [
    "need_to_save = [store_full_info,staff_address,store_full_info,customer_address,rental_inventory_payment,inv_film]\n",
    "file_name = ['store_full_info','staff_address','store_full_info','customer_address','rental_inventory_payment','inv_film']"
   ]
  },
  {
   "cell_type": "code",
   "execution_count": 85,
   "id": "3cdc13dd",
   "metadata": {},
   "outputs": [],
   "source": [
    "for file,df in zip(file_name, need_to_save):\n",
    "    df.to_csv('data/'+file+'.csv')"
   ]
  },
  {
   "cell_type": "markdown",
   "id": "53e0c96c",
   "metadata": {},
   "source": [
    "# Analisis"
   ]
  },
  {
   "cell_type": "code",
   "execution_count": 3,
   "id": "e414edc7",
   "metadata": {},
   "outputs": [],
   "source": [
    "color_store_1 = '#FF7F0E'\n",
    "color_store_2 = '#9467BD'"
   ]
  },
  {
   "cell_type": "code",
   "execution_count": 4,
   "id": "3f3424b5",
   "metadata": {},
   "outputs": [],
   "source": [
    "store = pd.read_csv('data/store_full_info.csv',index_col=0)\n",
    "staff = pd.read_csv('data/staff_address.csv',index_col=0)\n",
    "rental = pd.read_csv('data/rental_inventory_payment.csv',index_col=0)"
   ]
  },
  {
   "cell_type": "markdown",
   "id": "5b08cf2b",
   "metadata": {},
   "source": [
    "# Store"
   ]
  },
  {
   "cell_type": "code",
   "execution_count": 5,
   "id": "590d65ba",
   "metadata": {
    "scrolled": true
   },
   "outputs": [
    {
     "data": {
      "text/html": [
       "<div>\n",
       "<style scoped>\n",
       "    .dataframe tbody tr th:only-of-type {\n",
       "        vertical-align: middle;\n",
       "    }\n",
       "\n",
       "    .dataframe tbody tr th {\n",
       "        vertical-align: top;\n",
       "    }\n",
       "\n",
       "    .dataframe thead th {\n",
       "        text-align: right;\n",
       "    }\n",
       "</style>\n",
       "<table border=\"1\" class=\"dataframe\">\n",
       "  <thead>\n",
       "    <tr style=\"text-align: right;\">\n",
       "      <th></th>\n",
       "      <th>store_id</th>\n",
       "      <th>manager_staff_id</th>\n",
       "      <th>address_id</th>\n",
       "      <th>address</th>\n",
       "      <th>district</th>\n",
       "      <th>city</th>\n",
       "      <th>country</th>\n",
       "      <th>first_name</th>\n",
       "      <th>last_name</th>\n",
       "    </tr>\n",
       "  </thead>\n",
       "  <tbody>\n",
       "    <tr>\n",
       "      <th>0</th>\n",
       "      <td>1</td>\n",
       "      <td>1</td>\n",
       "      <td>1</td>\n",
       "      <td>47 MySakila Drive</td>\n",
       "      <td>Alberta</td>\n",
       "      <td>Lethbridge</td>\n",
       "      <td>Canada</td>\n",
       "      <td>Mike</td>\n",
       "      <td>Hillyer</td>\n",
       "    </tr>\n",
       "    <tr>\n",
       "      <th>1</th>\n",
       "      <td>2</td>\n",
       "      <td>2</td>\n",
       "      <td>2</td>\n",
       "      <td>28 MySQL Boulevard</td>\n",
       "      <td>QLD</td>\n",
       "      <td>Woodridge</td>\n",
       "      <td>Australia</td>\n",
       "      <td>Jon</td>\n",
       "      <td>Stephens</td>\n",
       "    </tr>\n",
       "  </tbody>\n",
       "</table>\n",
       "</div>"
      ],
      "text/plain": [
       "   store_id  manager_staff_id  address_id             address district  \\\n",
       "0         1                 1           1   47 MySakila Drive  Alberta   \n",
       "1         2                 2           2  28 MySQL Boulevard      QLD   \n",
       "\n",
       "         city    country first_name last_name  \n",
       "0  Lethbridge     Canada       Mike   Hillyer  \n",
       "1   Woodridge  Australia        Jon  Stephens  "
      ]
     },
     "execution_count": 5,
     "metadata": {},
     "output_type": "execute_result"
    }
   ],
   "source": [
    "store"
   ]
  },
  {
   "cell_type": "markdown",
   "id": "c00c84df",
   "metadata": {},
   "source": [
    "## Basic Info"
   ]
  },
  {
   "cell_type": "markdown",
   "id": "38a3861b",
   "metadata": {},
   "source": [
    "* Terdapat 2 Toko Sakila DVD Rental\n",
    "* Terletak di Canada dan Australia\n",
    "* Manajer dari toko Canada adalah Mike Hillyer dan manajer dari toko Australia adalah Jon Stephens"
   ]
  },
  {
   "cell_type": "markdown",
   "id": "e0168a0c",
   "metadata": {},
   "source": [
    "## Berapa banyak staff di setiap toko?"
   ]
  },
  {
   "cell_type": "code",
   "execution_count": 6,
   "id": "d82b0d62",
   "metadata": {},
   "outputs": [
    {
     "data": {
      "text/html": [
       "<div>\n",
       "<style scoped>\n",
       "    .dataframe tbody tr th:only-of-type {\n",
       "        vertical-align: middle;\n",
       "    }\n",
       "\n",
       "    .dataframe tbody tr th {\n",
       "        vertical-align: top;\n",
       "    }\n",
       "\n",
       "    .dataframe thead th {\n",
       "        text-align: right;\n",
       "    }\n",
       "</style>\n",
       "<table border=\"1\" class=\"dataframe\">\n",
       "  <thead>\n",
       "    <tr style=\"text-align: right;\">\n",
       "      <th></th>\n",
       "      <th>staff_id</th>\n",
       "      <th>first_name</th>\n",
       "      <th>last_name</th>\n",
       "      <th>address_id</th>\n",
       "      <th>picture</th>\n",
       "      <th>email</th>\n",
       "      <th>store_id</th>\n",
       "      <th>active</th>\n",
       "      <th>username</th>\n",
       "      <th>password</th>\n",
       "      <th>last_update</th>\n",
       "      <th>address</th>\n",
       "      <th>district</th>\n",
       "      <th>city</th>\n",
       "      <th>country</th>\n",
       "    </tr>\n",
       "  </thead>\n",
       "  <tbody>\n",
       "    <tr>\n",
       "      <th>0</th>\n",
       "      <td>1</td>\n",
       "      <td>Mike</td>\n",
       "      <td>Hillyer</td>\n",
       "      <td>3</td>\n",
       "      <td>b'\\x89PNG\\r\\n\\x1a\\n\\x00\\x00\\x00\\rIHDR\\x00\\x00\\...</td>\n",
       "      <td>Mike.Hillyer@sakilastaff.com</td>\n",
       "      <td>1</td>\n",
       "      <td>1</td>\n",
       "      <td>Mike</td>\n",
       "      <td>8cb2237d0679ca88db6464eac60da96345513964</td>\n",
       "      <td>2006-02-15 03:57:16</td>\n",
       "      <td>23 Workhaven Lane</td>\n",
       "      <td>Alberta</td>\n",
       "      <td>Lethbridge</td>\n",
       "      <td>Canada</td>\n",
       "    </tr>\n",
       "    <tr>\n",
       "      <th>1</th>\n",
       "      <td>2</td>\n",
       "      <td>Jon</td>\n",
       "      <td>Stephens</td>\n",
       "      <td>4</td>\n",
       "      <td>NaN</td>\n",
       "      <td>Jon.Stephens@sakilastaff.com</td>\n",
       "      <td>2</td>\n",
       "      <td>1</td>\n",
       "      <td>Jon</td>\n",
       "      <td>NaN</td>\n",
       "      <td>2006-02-15 03:57:16</td>\n",
       "      <td>1411 Lillydale Drive</td>\n",
       "      <td>QLD</td>\n",
       "      <td>Woodridge</td>\n",
       "      <td>Australia</td>\n",
       "    </tr>\n",
       "  </tbody>\n",
       "</table>\n",
       "</div>"
      ],
      "text/plain": [
       "   staff_id first_name last_name  address_id  \\\n",
       "0         1       Mike   Hillyer           3   \n",
       "1         2        Jon  Stephens           4   \n",
       "\n",
       "                                             picture  \\\n",
       "0  b'\\x89PNG\\r\\n\\x1a\\n\\x00\\x00\\x00\\rIHDR\\x00\\x00\\...   \n",
       "1                                                NaN   \n",
       "\n",
       "                          email  store_id  active username  \\\n",
       "0  Mike.Hillyer@sakilastaff.com         1       1     Mike   \n",
       "1  Jon.Stephens@sakilastaff.com         2       1      Jon   \n",
       "\n",
       "                                   password          last_update  \\\n",
       "0  8cb2237d0679ca88db6464eac60da96345513964  2006-02-15 03:57:16   \n",
       "1                                       NaN  2006-02-15 03:57:16   \n",
       "\n",
       "                address district        city    country  \n",
       "0     23 Workhaven Lane  Alberta  Lethbridge     Canada  \n",
       "1  1411 Lillydale Drive      QLD   Woodridge  Australia  "
      ]
     },
     "execution_count": 6,
     "metadata": {},
     "output_type": "execute_result"
    }
   ],
   "source": [
    "staff.head()"
   ]
  },
  {
   "cell_type": "markdown",
   "id": "190f2549",
   "metadata": {},
   "source": [
    "* Ternyata setiap toko hanya memiliki 1 karyawan\n",
    "* Karyawan tersebut juga merupakan manajer\n",
    "* Kemungkinan Toko ini merupakan one man store\n",
    "* Setiap karyawan berada di negara dan kota yang sama dengan storenya"
   ]
  },
  {
   "cell_type": "markdown",
   "id": "f6888bcc",
   "metadata": {},
   "source": [
    "---"
   ]
  },
  {
   "cell_type": "markdown",
   "id": "29dce7c0",
   "metadata": {},
   "source": [
    "## Sales"
   ]
  },
  {
   "cell_type": "code",
   "execution_count": 7,
   "id": "4f0a9269",
   "metadata": {},
   "outputs": [
    {
     "data": {
      "text/plain": [
       "rental_id                5\n",
       "rental_date              5\n",
       "inventory_id             5\n",
       "customer_id              5\n",
       "return_date            188\n",
       "staff_id                 5\n",
       "last_update_x            5\n",
       "film_id                  5\n",
       "store_id                 5\n",
       "last_update_y            5\n",
       "film_id.1                5\n",
       "title                    5\n",
       "release_year             5\n",
       "language_id              5\n",
       "language                 5\n",
       "rental_duration          5\n",
       "rental_rate              5\n",
       "length                   5\n",
       "replacement_cost         5\n",
       "rating                   5\n",
       "special_features         5\n",
       "payment_id               0\n",
       "customer_id_payment      0\n",
       "staff_id_payment         0\n",
       "amount                   0\n",
       "payment_date             0\n",
       "last_update              0\n",
       "dtype: int64"
      ]
     },
     "execution_count": 7,
     "metadata": {},
     "output_type": "execute_result"
    }
   ],
   "source": [
    "rental.isna().sum()"
   ]
  },
  {
   "cell_type": "markdown",
   "id": "def1e9e7",
   "metadata": {},
   "source": [
    "Ada keadaan yang aneh, dimana rental_id ada yang null tetapi payment ada tidak ada yang null"
   ]
  },
  {
   "cell_type": "markdown",
   "id": "7c8f9a72",
   "metadata": {},
   "source": [
    "### Berapa total sales dari toko sakila?"
   ]
  },
  {
   "cell_type": "code",
   "execution_count": 8,
   "id": "7f8603ba",
   "metadata": {},
   "outputs": [
    {
     "data": {
      "text/plain": [
       "67416.51000000001"
      ]
     },
     "execution_count": 8,
     "metadata": {},
     "output_type": "execute_result"
    }
   ],
   "source": [
    "rental['amount'].sum()"
   ]
  },
  {
   "cell_type": "code",
   "execution_count": 9,
   "id": "bbdec956",
   "metadata": {},
   "outputs": [
    {
     "data": {
      "text/html": [
       "<div>\n",
       "<style scoped>\n",
       "    .dataframe tbody tr th:only-of-type {\n",
       "        vertical-align: middle;\n",
       "    }\n",
       "\n",
       "    .dataframe tbody tr th {\n",
       "        vertical-align: top;\n",
       "    }\n",
       "\n",
       "    .dataframe thead th {\n",
       "        text-align: right;\n",
       "    }\n",
       "</style>\n",
       "<table border=\"1\" class=\"dataframe\">\n",
       "  <thead>\n",
       "    <tr style=\"text-align: right;\">\n",
       "      <th></th>\n",
       "      <th>rental_id</th>\n",
       "      <th>rental_date</th>\n",
       "      <th>inventory_id</th>\n",
       "      <th>customer_id</th>\n",
       "      <th>return_date</th>\n",
       "      <th>staff_id</th>\n",
       "      <th>last_update_x</th>\n",
       "      <th>film_id</th>\n",
       "      <th>store_id</th>\n",
       "      <th>last_update_y</th>\n",
       "      <th>...</th>\n",
       "      <th>length</th>\n",
       "      <th>replacement_cost</th>\n",
       "      <th>rating</th>\n",
       "      <th>special_features</th>\n",
       "      <th>payment_id</th>\n",
       "      <th>customer_id_payment</th>\n",
       "      <th>staff_id_payment</th>\n",
       "      <th>amount</th>\n",
       "      <th>payment_date</th>\n",
       "      <th>last_update</th>\n",
       "    </tr>\n",
       "  </thead>\n",
       "  <tbody>\n",
       "    <tr>\n",
       "      <th>16044</th>\n",
       "      <td>NaN</td>\n",
       "      <td>NaN</td>\n",
       "      <td>NaN</td>\n",
       "      <td>NaN</td>\n",
       "      <td>NaN</td>\n",
       "      <td>NaN</td>\n",
       "      <td>NaN</td>\n",
       "      <td>NaN</td>\n",
       "      <td>NaN</td>\n",
       "      <td>NaN</td>\n",
       "      <td>...</td>\n",
       "      <td>NaN</td>\n",
       "      <td>NaN</td>\n",
       "      <td>NaN</td>\n",
       "      <td>NaN</td>\n",
       "      <td>424</td>\n",
       "      <td>16</td>\n",
       "      <td>1</td>\n",
       "      <td>1.99</td>\n",
       "      <td>2005-06-18 04:56:12</td>\n",
       "      <td>2006-02-15 22:12:32</td>\n",
       "    </tr>\n",
       "    <tr>\n",
       "      <th>16045</th>\n",
       "      <td>NaN</td>\n",
       "      <td>NaN</td>\n",
       "      <td>NaN</td>\n",
       "      <td>NaN</td>\n",
       "      <td>NaN</td>\n",
       "      <td>NaN</td>\n",
       "      <td>NaN</td>\n",
       "      <td>NaN</td>\n",
       "      <td>NaN</td>\n",
       "      <td>NaN</td>\n",
       "      <td>...</td>\n",
       "      <td>NaN</td>\n",
       "      <td>NaN</td>\n",
       "      <td>NaN</td>\n",
       "      <td>NaN</td>\n",
       "      <td>7011</td>\n",
       "      <td>259</td>\n",
       "      <td>2</td>\n",
       "      <td>1.99</td>\n",
       "      <td>2005-08-23 06:13:16</td>\n",
       "      <td>2006-02-15 22:14:58</td>\n",
       "    </tr>\n",
       "    <tr>\n",
       "      <th>16046</th>\n",
       "      <td>NaN</td>\n",
       "      <td>NaN</td>\n",
       "      <td>NaN</td>\n",
       "      <td>NaN</td>\n",
       "      <td>NaN</td>\n",
       "      <td>NaN</td>\n",
       "      <td>NaN</td>\n",
       "      <td>NaN</td>\n",
       "      <td>NaN</td>\n",
       "      <td>NaN</td>\n",
       "      <td>...</td>\n",
       "      <td>NaN</td>\n",
       "      <td>NaN</td>\n",
       "      <td>NaN</td>\n",
       "      <td>NaN</td>\n",
       "      <td>10840</td>\n",
       "      <td>401</td>\n",
       "      <td>1</td>\n",
       "      <td>0.99</td>\n",
       "      <td>2005-07-12 06:26:10</td>\n",
       "      <td>2006-02-15 22:17:49</td>\n",
       "    </tr>\n",
       "    <tr>\n",
       "      <th>16047</th>\n",
       "      <td>NaN</td>\n",
       "      <td>NaN</td>\n",
       "      <td>NaN</td>\n",
       "      <td>NaN</td>\n",
       "      <td>NaN</td>\n",
       "      <td>NaN</td>\n",
       "      <td>NaN</td>\n",
       "      <td>NaN</td>\n",
       "      <td>NaN</td>\n",
       "      <td>NaN</td>\n",
       "      <td>...</td>\n",
       "      <td>NaN</td>\n",
       "      <td>NaN</td>\n",
       "      <td>NaN</td>\n",
       "      <td>NaN</td>\n",
       "      <td>14675</td>\n",
       "      <td>546</td>\n",
       "      <td>1</td>\n",
       "      <td>3.99</td>\n",
       "      <td>2005-07-30 21:16:20</td>\n",
       "      <td>2006-02-15 22:21:38</td>\n",
       "    </tr>\n",
       "    <tr>\n",
       "      <th>16048</th>\n",
       "      <td>NaN</td>\n",
       "      <td>NaN</td>\n",
       "      <td>NaN</td>\n",
       "      <td>NaN</td>\n",
       "      <td>NaN</td>\n",
       "      <td>NaN</td>\n",
       "      <td>NaN</td>\n",
       "      <td>NaN</td>\n",
       "      <td>NaN</td>\n",
       "      <td>NaN</td>\n",
       "      <td>...</td>\n",
       "      <td>NaN</td>\n",
       "      <td>NaN</td>\n",
       "      <td>NaN</td>\n",
       "      <td>NaN</td>\n",
       "      <td>15458</td>\n",
       "      <td>577</td>\n",
       "      <td>2</td>\n",
       "      <td>0.99</td>\n",
       "      <td>2005-05-27 00:46:39</td>\n",
       "      <td>2006-02-15 22:22:32</td>\n",
       "    </tr>\n",
       "  </tbody>\n",
       "</table>\n",
       "<p>5 rows × 27 columns</p>\n",
       "</div>"
      ],
      "text/plain": [
       "       rental_id rental_date  inventory_id  customer_id return_date  staff_id  \\\n",
       "16044        NaN         NaN           NaN          NaN         NaN       NaN   \n",
       "16045        NaN         NaN           NaN          NaN         NaN       NaN   \n",
       "16046        NaN         NaN           NaN          NaN         NaN       NaN   \n",
       "16047        NaN         NaN           NaN          NaN         NaN       NaN   \n",
       "16048        NaN         NaN           NaN          NaN         NaN       NaN   \n",
       "\n",
       "      last_update_x  film_id  store_id last_update_y  ...  length  \\\n",
       "16044           NaN      NaN       NaN           NaN  ...     NaN   \n",
       "16045           NaN      NaN       NaN           NaN  ...     NaN   \n",
       "16046           NaN      NaN       NaN           NaN  ...     NaN   \n",
       "16047           NaN      NaN       NaN           NaN  ...     NaN   \n",
       "16048           NaN      NaN       NaN           NaN  ...     NaN   \n",
       "\n",
       "      replacement_cost  rating  special_features payment_id  \\\n",
       "16044              NaN     NaN               NaN        424   \n",
       "16045              NaN     NaN               NaN       7011   \n",
       "16046              NaN     NaN               NaN      10840   \n",
       "16047              NaN     NaN               NaN      14675   \n",
       "16048              NaN     NaN               NaN      15458   \n",
       "\n",
       "       customer_id_payment  staff_id_payment  amount         payment_date  \\\n",
       "16044                   16                 1    1.99  2005-06-18 04:56:12   \n",
       "16045                  259                 2    1.99  2005-08-23 06:13:16   \n",
       "16046                  401                 1    0.99  2005-07-12 06:26:10   \n",
       "16047                  546                 1    3.99  2005-07-30 21:16:20   \n",
       "16048                  577                 2    0.99  2005-05-27 00:46:39   \n",
       "\n",
       "               last_update  \n",
       "16044  2006-02-15 22:12:32  \n",
       "16045  2006-02-15 22:14:58  \n",
       "16046  2006-02-15 22:17:49  \n",
       "16047  2006-02-15 22:21:38  \n",
       "16048  2006-02-15 22:22:32  \n",
       "\n",
       "[5 rows x 27 columns]"
      ]
     },
     "execution_count": 9,
     "metadata": {},
     "output_type": "execute_result"
    }
   ],
   "source": [
    "rental[rental['rental_id'].isna()]"
   ]
  },
  {
   "cell_type": "markdown",
   "id": "b279f14a",
   "metadata": {},
   "source": [
    "Tidak ada data rental tetapi ada payment masuk, mungkin untuk sementara tidak terlalu masalah."
   ]
  },
  {
   "cell_type": "markdown",
   "id": "204cad7a",
   "metadata": {},
   "source": [
    "### Bagaimana penjualan dari kedua toko?"
   ]
  },
  {
   "cell_type": "code",
   "execution_count": 10,
   "id": "5bca0192",
   "metadata": {},
   "outputs": [],
   "source": [
    "sales_per_store = rental.groupby('store_id').sum()['amount']"
   ]
  },
  {
   "cell_type": "code",
   "execution_count": 11,
   "id": "bce978f9",
   "metadata": {},
   "outputs": [
    {
     "data": {
      "image/png": "[encoded data removed]",
      "text/plain": [
       "<Figure size 432x288 with 1 Axes>"
      ]
     },
     "metadata": {
      "needs_background": "light"
     },
     "output_type": "display_data"
    }
   ],
   "source": [
    "sns.barplot(x=sales_per_store.index, y=sales_per_store.values)\n",
    "plt.annotate(sales_per_store[1],(-0.125,sales_per_store[1]+500))\n",
    "plt.annotate(f\"{sales_per_store[2]:.2f}\",(0.875,sales_per_store[2]+500))\n",
    "plt.ylim([0,38000])\n",
    "plt.show()"
   ]
  },
  {
   "cell_type": "markdown",
   "id": "dbc33fc4",
   "metadata": {},
   "source": [
    "Jumlah penjualan per toko tidak terlalu jauh."
   ]
  },
  {
   "cell_type": "markdown",
   "id": "5d7bfc97",
   "metadata": {},
   "source": [
    "### Bagaimana penjualan per hari dari toko sakila?"
   ]
  },
  {
   "cell_type": "code",
   "execution_count": 12,
   "id": "08decefd",
   "metadata": {},
   "outputs": [
    {
     "data": {
      "text/html": [
       "<div>\n",
       "<style scoped>\n",
       "    .dataframe tbody tr th:only-of-type {\n",
       "        vertical-align: middle;\n",
       "    }\n",
       "\n",
       "    .dataframe tbody tr th {\n",
       "        vertical-align: top;\n",
       "    }\n",
       "\n",
       "    .dataframe thead th {\n",
       "        text-align: right;\n",
       "    }\n",
       "</style>\n",
       "<table border=\"1\" class=\"dataframe\">\n",
       "  <thead>\n",
       "    <tr style=\"text-align: right;\">\n",
       "      <th></th>\n",
       "      <th>rental_date</th>\n",
       "      <th>payment_date</th>\n",
       "    </tr>\n",
       "  </thead>\n",
       "  <tbody>\n",
       "    <tr>\n",
       "      <th>0</th>\n",
       "      <td>2005-05-24 22:53:30</td>\n",
       "      <td>2005-05-24 22:53:30</td>\n",
       "    </tr>\n",
       "    <tr>\n",
       "      <th>1</th>\n",
       "      <td>2005-05-24 22:54:33</td>\n",
       "      <td>2005-05-24 22:54:33</td>\n",
       "    </tr>\n",
       "    <tr>\n",
       "      <th>2</th>\n",
       "      <td>2005-05-24 23:03:39</td>\n",
       "      <td>2005-05-24 23:03:39</td>\n",
       "    </tr>\n",
       "    <tr>\n",
       "      <th>3</th>\n",
       "      <td>2005-05-24 23:04:41</td>\n",
       "      <td>2005-05-24 23:04:41</td>\n",
       "    </tr>\n",
       "    <tr>\n",
       "      <th>4</th>\n",
       "      <td>2005-05-24 23:05:21</td>\n",
       "      <td>2005-05-24 23:05:21</td>\n",
       "    </tr>\n",
       "    <tr>\n",
       "      <th>...</th>\n",
       "      <td>...</td>\n",
       "      <td>...</td>\n",
       "    </tr>\n",
       "    <tr>\n",
       "      <th>16044</th>\n",
       "      <td>NaN</td>\n",
       "      <td>2005-06-18 04:56:12</td>\n",
       "    </tr>\n",
       "    <tr>\n",
       "      <th>16045</th>\n",
       "      <td>NaN</td>\n",
       "      <td>2005-08-23 06:13:16</td>\n",
       "    </tr>\n",
       "    <tr>\n",
       "      <th>16046</th>\n",
       "      <td>NaN</td>\n",
       "      <td>2005-07-12 06:26:10</td>\n",
       "    </tr>\n",
       "    <tr>\n",
       "      <th>16047</th>\n",
       "      <td>NaN</td>\n",
       "      <td>2005-07-30 21:16:20</td>\n",
       "    </tr>\n",
       "    <tr>\n",
       "      <th>16048</th>\n",
       "      <td>NaN</td>\n",
       "      <td>2005-05-27 00:46:39</td>\n",
       "    </tr>\n",
       "  </tbody>\n",
       "</table>\n",
       "<p>16049 rows × 2 columns</p>\n",
       "</div>"
      ],
      "text/plain": [
       "               rental_date         payment_date\n",
       "0      2005-05-24 22:53:30  2005-05-24 22:53:30\n",
       "1      2005-05-24 22:54:33  2005-05-24 22:54:33\n",
       "2      2005-05-24 23:03:39  2005-05-24 23:03:39\n",
       "3      2005-05-24 23:04:41  2005-05-24 23:04:41\n",
       "4      2005-05-24 23:05:21  2005-05-24 23:05:21\n",
       "...                    ...                  ...\n",
       "16044                  NaN  2005-06-18 04:56:12\n",
       "16045                  NaN  2005-08-23 06:13:16\n",
       "16046                  NaN  2005-07-12 06:26:10\n",
       "16047                  NaN  2005-07-30 21:16:20\n",
       "16048                  NaN  2005-05-27 00:46:39\n",
       "\n",
       "[16049 rows x 2 columns]"
      ]
     },
     "execution_count": 12,
     "metadata": {},
     "output_type": "execute_result"
    }
   ],
   "source": [
    "rental[['rental_date','payment_date']]"
   ]
  },
  {
   "cell_type": "markdown",
   "id": "2e2a6113",
   "metadata": {},
   "source": [
    "rental_date == payment_date\\\n",
    "berarti pembayaran dilakukan ketika meminjam, bukan mengembalikan"
   ]
  },
  {
   "cell_type": "code",
   "execution_count": 13,
   "id": "aa534619",
   "metadata": {},
   "outputs": [],
   "source": [
    "pay_date = pd.to_datetime(rental['payment_date'])"
   ]
  },
  {
   "cell_type": "code",
   "execution_count": 14,
   "id": "041923de",
   "metadata": {},
   "outputs": [],
   "source": [
    "def get_yyyy_mm_dd(val):\n",
    "    return str(val.year)+'-'+str(val.month)+'-'+str(val.day)"
   ]
  },
  {
   "cell_type": "code",
   "execution_count": 15,
   "id": "426f10c9",
   "metadata": {},
   "outputs": [],
   "source": [
    "rental['payment_date'] = pay_date.apply(get_yyyy_mm_dd)"
   ]
  },
  {
   "cell_type": "code",
   "execution_count": 16,
   "id": "f608c669",
   "metadata": {},
   "outputs": [],
   "source": [
    "sales_per_day = rental.groupby('payment_date').sum()['amount']"
   ]
  },
  {
   "cell_type": "code",
   "execution_count": 17,
   "id": "702f84cc",
   "metadata": {},
   "outputs": [],
   "source": [
    "dummy_date_idx = pd.date_range('2005-5-24', '2006-2-14')"
   ]
  },
  {
   "cell_type": "code",
   "execution_count": 18,
   "id": "8599bc0c",
   "metadata": {},
   "outputs": [],
   "source": [
    "sales_per_day.index = pd.DatetimeIndex(sales_per_day.index)"
   ]
  },
  {
   "cell_type": "code",
   "execution_count": 19,
   "id": "9128f899",
   "metadata": {},
   "outputs": [],
   "source": [
    "dummy_date_sales = sales_per_day.reindex(dummy_date_idx, fill_value=0)"
   ]
  },
  {
   "cell_type": "code",
   "execution_count": 20,
   "id": "85e144cb",
   "metadata": {},
   "outputs": [],
   "source": [
    "max_sales_id = dummy_date_sales.argmax()"
   ]
  },
  {
   "cell_type": "code",
   "execution_count": 21,
   "id": "beb0977f",
   "metadata": {},
   "outputs": [],
   "source": [
    "max_sales_val = dummy_date_sales[max_sales_id]"
   ]
  },
  {
   "cell_type": "code",
   "execution_count": 22,
   "id": "f64d4511",
   "metadata": {},
   "outputs": [],
   "source": [
    "max_sales_date = dummy_date_sales.index[max_sales_id]"
   ]
  },
  {
   "cell_type": "code",
   "execution_count": 23,
   "id": "2a33fa57",
   "metadata": {},
   "outputs": [
    {
     "data": {
      "image/png": "[encoded data removed]",
      "text/plain": [
       "<Figure size 1008x360 with 1 Axes>"
      ]
     },
     "metadata": {
      "needs_background": "light"
     },
     "output_type": "display_data"
    }
   ],
   "source": [
    "fig, ax = plt.subplots(1,1)\n",
    "fig.set_size_inches(14,5)\n",
    "sns.lineplot(x=dummy_date_sales.index, y=dummy_date_sales.values,ax=ax,color='#27344D')\n",
    "ax.axhline(y=dummy_date_sales.mean(), color='red', linestyle='--')\n",
    "ax.annotate(f'Mean {dummy_date_sales.mean():.2f}',(pd.to_datetime('2005-11-24'),dummy_date_sales.mean()+100))\n",
    "ax.annotate(f'Max {max_sales_val:.2f}',(max_sales_date,max_sales_val+100))\n",
    "ax.set_title('Sales per Day')\n",
    "ax.set_ylim([-20,3000])\n",
    "ax.set_ylabel('Dollar USD')\n",
    "sns.despine()\n",
    "plt.show()"
   ]
  },
  {
   "cell_type": "markdown",
   "id": "e4c4bd9e",
   "metadata": {},
   "source": [
    "Pola penjualan pada Toko Sakila cukup unik karena hanya ada transaksi di beberapa periode waktu tertentu saja. Ini membuat rata-rata penjualan menjadi rendah. Mungkin saat tidak terjadi transaksi, memang kedua toko tidak buka."
   ]
  },
  {
   "cell_type": "markdown",
   "id": "ad483c7b",
   "metadata": {},
   "source": [
    "Penjualan tertinggi Toko Sakila terjadi pada tanggal 2005-07-31"
   ]
  },
  {
   "cell_type": "code",
   "execution_count": 24,
   "id": "17483b19",
   "metadata": {},
   "outputs": [],
   "source": [
    "sales_per_day_store = rental.groupby(['store_id','payment_date']).sum()['amount']"
   ]
  },
  {
   "cell_type": "code",
   "execution_count": 25,
   "id": "becf1876",
   "metadata": {},
   "outputs": [],
   "source": [
    "sales_per_day_store_1 = sales_per_day_store[1]\n",
    "sales_per_day_store_2 = sales_per_day_store[2]\n",
    "\n",
    "dummy_date_idx = pd.date_range('2005-5-24', '2006-2-14')\n",
    "sales_per_day_store_1.index = pd.DatetimeIndex(sales_per_day_store_1.index)\n",
    "sales_per_day_store_2.index = pd.DatetimeIndex(sales_per_day_store_2.index)\n",
    "\n",
    "dummy_sales_per_day_store_1 = sales_per_day_store_1.reindex(dummy_date_idx, fill_value=0)\n",
    "dummy_sales_per_day_store_2 = sales_per_day_store_2.reindex(dummy_date_idx, fill_value=0)"
   ]
  },
  {
   "cell_type": "markdown",
   "id": "f4647571",
   "metadata": {},
   "source": [
    "### Apakah ada perbedaan penjualan antar toko?"
   ]
  },
  {
   "cell_type": "code",
   "execution_count": 26,
   "id": "46cd83c9",
   "metadata": {},
   "outputs": [
    {
     "data": {
      "image/png": "[encoded data removed]",
      "text/plain": [
       "<Figure size 1008x360 with 1 Axes>"
      ]
     },
     "metadata": {
      "needs_background": "light"
     },
     "output_type": "display_data"
    }
   ],
   "source": [
    "fig, ax = plt.subplots(1,1)\n",
    "fig.set_size_inches(14,5)\n",
    "\n",
    "sns.lineplot(x=dummy_date_sales.index, y=dummy_date_sales.values,ax=ax,color='#27344D',alpha=0.3,label='Total Sales')\n",
    "sns.lineplot(x=dummy_sales_per_day_store_1.index, y=dummy_sales_per_day_store_1.values,ax=ax,color='#FF7F0E',label='Store 1')\n",
    "sns.lineplot(x=dummy_sales_per_day_store_2.index, y=dummy_sales_per_day_store_2.values,ax=ax,color='#9467BD',label='Store 2')\n",
    "\n",
    "ax.set_title('Sales per Day')\n",
    "ax.set_ylim([-20,3000])\n",
    "ax.set_ylabel('Dollar USD')\n",
    "sns.despine()\n",
    "plt.show()"
   ]
  },
  {
   "cell_type": "markdown",
   "id": "96eb1433",
   "metadata": {},
   "source": [
    "Secara kasat mata dapat dilihat bahwa penjualan per hari antara toko 1 dan 2 tidak terlihat jauh berbeda."
   ]
  },
  {
   "cell_type": "code",
   "execution_count": 27,
   "id": "64081b88",
   "metadata": {},
   "outputs": [
    {
     "name": "stdout",
     "output_type": "stream",
     "text": [
      "Toko 1\n",
      "Tanggal penjualan tertinggi\t:  2005-07-31 00:00:00\n",
      "Nilai penjualan tertinggi\t:  1545.46\n"
     ]
    }
   ],
   "source": [
    "print('Toko 1')\n",
    "print(\"Tanggal penjualan tertinggi\\t: \",sales_per_day_store_1.index[sales_per_day_store_1.argmax()])\n",
    "print(\"Nilai penjualan tertinggi\\t: \",sales_per_day_store_1.values[sales_per_day_store_1.argmax()])"
   ]
  },
  {
   "cell_type": "code",
   "execution_count": 28,
   "id": "a9475afe",
   "metadata": {},
   "outputs": [
    {
     "name": "stdout",
     "output_type": "stream",
     "text": [
      "Toko 2\n",
      "Tanggal penjualan tertinggi\t:  2005-08-02 00:00:00\n",
      "Nilai penjualan tertinggi\t:  1465.5700000000002\n"
     ]
    }
   ],
   "source": [
    "print('Toko 2')\n",
    "print(\"Tanggal penjualan tertinggi\\t: \",sales_per_day_store_2.index[sales_per_day_store_2.argmax()])\n",
    "print(\"Nilai penjualan tertinggi\\t: \",sales_per_day_store_2.values[sales_per_day_store_2.argmax()])"
   ]
  },
  {
   "cell_type": "markdown",
   "id": "a567b84a",
   "metadata": {},
   "source": [
    "Penjualan tertinggi pada Toko 1 terjadi di tanggal 2005-07-31, sementara pada Toko 2 terjadi di tanggal 2005-08-02. Dengan jumlah terpaut hampir 100 Dollar USD"
   ]
  },
  {
   "cell_type": "markdown",
   "id": "df0c7210",
   "metadata": {},
   "source": [
    "### Bagaimana penjualan dari toko 1 dan 2?"
   ]
  },
  {
   "cell_type": "code",
   "execution_count": 29,
   "id": "371eadf7",
   "metadata": {
    "scrolled": false
   },
   "outputs": [
    {
     "data": {
      "image/png": "[encoded data removed]",
      "text/plain": [
       "<Figure size 1008x432 with 2 Axes>"
      ]
     },
     "metadata": {
      "needs_background": "light"
     },
     "output_type": "display_data"
    }
   ],
   "source": [
    "fig, ax = plt.subplots(1,2,sharey=True, sharex=True)\n",
    "fig.set_size_inches((14,6))\n",
    "\n",
    "ax[0].set_title('Toko 1')\n",
    "sns.histplot(sales_per_day_store_1,ax=ax[0],kde=True,color='#FF7F0E')\n",
    "ax[0].axvline(sales_per_day_store_1.mean(), color='red', linestyle='--')\n",
    "ax[0].annotate(f\"Mean {sales_per_day_store_1.mean():.2f}\",(sales_per_day_store_1.mean()+25,10))\n",
    "\n",
    "ax[1].set_title('Toko 2')\n",
    "sns.histplot(sales_per_day_store_2,ax=ax[1],kde=True,color='#9467BD')\n",
    "ax[1].axvline(sales_per_day_store_2.mean(), color='red', linestyle='--')\n",
    "ax[1].annotate(f\"Mean {sales_per_day_store_2.mean():.2f}\",(sales_per_day_store_2.mean()+25,10))\n",
    "plt.suptitle('Sales per Day')\n",
    "plt.show()"
   ]
  },
  {
   "cell_type": "markdown",
   "id": "cd767fdf",
   "metadata": {},
   "source": [
    "Dapat dilihat bahwa distribusi dari 2 toko tidak normal.\\\n",
    "Sehingga untuk pengujian rerata penjualan perharinya menggunakan Mann-Whitneyu Test"
   ]
  },
  {
   "cell_type": "markdown",
   "id": "9aee7c7a",
   "metadata": {},
   "source": [
    "Asumsi : Penjualan 0 tidak dimasukkan, karena tanggalnya terjadi di setiap toko. Mungkin memang ada penutupan berkala."
   ]
  },
  {
   "cell_type": "code",
   "execution_count": 30,
   "id": "42b8e268",
   "metadata": {},
   "outputs": [],
   "source": [
    "from scipy.stats import mannwhitneyu"
   ]
  },
  {
   "cell_type": "code",
   "execution_count": 31,
   "id": "57b171ea",
   "metadata": {},
   "outputs": [],
   "source": [
    "stats, pval = mannwhitneyu(sales_per_day_store_1,\n",
    "                           sales_per_day_store_2,\n",
    "                           alternative='two-sided')"
   ]
  },
  {
   "cell_type": "code",
   "execution_count": 32,
   "id": "560d7621",
   "metadata": {},
   "outputs": [
    {
     "data": {
      "text/plain": [
       "False"
      ]
     },
     "execution_count": 32,
     "metadata": {},
     "output_type": "execute_result"
    }
   ],
   "source": [
    "pval <= 0.05"
   ]
  },
  {
   "cell_type": "markdown",
   "id": "c781fba6",
   "metadata": {},
   "source": [
    "Ternyata toko 1 dan 2 memiliki rerata penjualan perhari yang sama."
   ]
  },
  {
   "cell_type": "markdown",
   "id": "9b1d8624",
   "metadata": {},
   "source": [
    "Dari eksplorasi penjualan toko sakila, dapat diketahui beberapa informasi:\n",
    "* Total penjualan Toko Sakila adalah 67.416 Dollar (USD), pada rentang 2005-5-24 sampai 2006-2-14\n",
    "* Total penjualan per toko tidak terlalu beda.\n",
    "* Toko Sakila tidak buka setiap saat, hanya beberapa rentang waktu tertentu.\n",
    "* Penjualan tertinggi Toko Sakila terjadi pada tanggal 2005-07-31 dengan nilai 2.868 Dollar (USD)\n",
    "* Rerata penjualan per hari kedua toko tidak terlalu berbeda."
   ]
  },
  {
   "cell_type": "markdown",
   "id": "90bf796d",
   "metadata": {},
   "source": [
    "---"
   ]
  },
  {
   "cell_type": "markdown",
   "id": "09cee934",
   "metadata": {},
   "source": [
    "## Waktu"
   ]
  },
  {
   "cell_type": "markdown",
   "id": "6d854471",
   "metadata": {},
   "source": [
    "### Bagaimana periode buka dari Toko Sakila?"
   ]
  },
  {
   "cell_type": "markdown",
   "id": "112df0fb",
   "metadata": {},
   "source": [
    "Setelah melihat ada periode buka dari toko, kami ingin melihat waktu atau hari yang paling sering muncul"
   ]
  },
  {
   "cell_type": "code",
   "execution_count": 33,
   "id": "47f53e38",
   "metadata": {},
   "outputs": [],
   "source": [
    "day_freq = dict()\n",
    "for date in sales_per_day.index:\n",
    "    name = date.day_name()\n",
    "    if name in day_freq:\n",
    "        day_freq[name] += 1\n",
    "    else:\n",
    "        day_freq[name] = 1"
   ]
  },
  {
   "cell_type": "code",
   "execution_count": 34,
   "id": "429d62e9",
   "metadata": {},
   "outputs": [
    {
     "data": {
      "text/html": [
       "<div>\n",
       "<style scoped>\n",
       "    .dataframe tbody tr th:only-of-type {\n",
       "        vertical-align: middle;\n",
       "    }\n",
       "\n",
       "    .dataframe tbody tr th {\n",
       "        vertical-align: top;\n",
       "    }\n",
       "\n",
       "    .dataframe thead th {\n",
       "        text-align: right;\n",
       "    }\n",
       "</style>\n",
       "<table border=\"1\" class=\"dataframe\">\n",
       "  <thead>\n",
       "    <tr style=\"text-align: right;\">\n",
       "      <th></th>\n",
       "      <th>freq</th>\n",
       "    </tr>\n",
       "  </thead>\n",
       "  <tbody>\n",
       "    <tr>\n",
       "      <th>Tuesday</th>\n",
       "      <td>11</td>\n",
       "    </tr>\n",
       "    <tr>\n",
       "      <th>Wednesday</th>\n",
       "      <td>5</td>\n",
       "    </tr>\n",
       "    <tr>\n",
       "      <th>Thursday</th>\n",
       "      <td>5</td>\n",
       "    </tr>\n",
       "    <tr>\n",
       "      <th>Friday</th>\n",
       "      <td>5</td>\n",
       "    </tr>\n",
       "    <tr>\n",
       "      <th>Saturday</th>\n",
       "      <td>5</td>\n",
       "    </tr>\n",
       "    <tr>\n",
       "      <th>Sunday</th>\n",
       "      <td>5</td>\n",
       "    </tr>\n",
       "    <tr>\n",
       "      <th>Monday</th>\n",
       "      <td>5</td>\n",
       "    </tr>\n",
       "  </tbody>\n",
       "</table>\n",
       "</div>"
      ],
      "text/plain": [
       "           freq\n",
       "Tuesday      11\n",
       "Wednesday     5\n",
       "Thursday      5\n",
       "Friday        5\n",
       "Saturday      5\n",
       "Sunday        5\n",
       "Monday        5"
      ]
     },
     "execution_count": 34,
     "metadata": {},
     "output_type": "execute_result"
    }
   ],
   "source": [
    "pd.DataFrame(data=day_freq.values(),index=day_freq.keys(),columns=['freq'])"
   ]
  },
  {
   "cell_type": "markdown",
   "id": "11216aa2",
   "metadata": {},
   "source": [
    "Ternyata hari dimana toko paling sering buka adalah hari Selasa"
   ]
  },
  {
   "cell_type": "code",
   "execution_count": 35,
   "id": "aad8b76c",
   "metadata": {},
   "outputs": [
    {
     "name": "stdout",
     "output_type": "stream",
     "text": [
      "8\n",
      "8\n",
      "8\n",
      "8\n",
      "8\n"
     ]
    }
   ],
   "source": [
    "open_prd = list()\n",
    "start = None\n",
    "end = None\n",
    "prev = None\n",
    "for row in dummy_date_sales.iteritems():\n",
    "    curr = row\n",
    "    if curr[-1] != 0 and start is None:\n",
    "        start = curr  \n",
    "    elif curr[-1] == 0 and start != None:\n",
    "        end = prev\n",
    "        open_prd.append([start[0],end[0]])\n",
    "        start = None\n",
    "        end = None\n",
    "    else:\n",
    "        prev = curr\n",
    "        \n",
    "for i in range(len(open_prd)):\n",
    "    open_prd[i][-1] = open_prd[i][-1].replace(hour=23,minute=59,second=59)\n",
    "    \n",
    "for item in open_prd:\n",
    "    print((item[-1]-item[0]).days+1)"
   ]
  },
  {
   "cell_type": "code",
   "execution_count": 36,
   "id": "463c105a",
   "metadata": {},
   "outputs": [
    {
     "data": {
      "text/html": [
       "<div>\n",
       "<style scoped>\n",
       "    .dataframe tbody tr th:only-of-type {\n",
       "        vertical-align: middle;\n",
       "    }\n",
       "\n",
       "    .dataframe tbody tr th {\n",
       "        vertical-align: top;\n",
       "    }\n",
       "\n",
       "    .dataframe thead th {\n",
       "        text-align: right;\n",
       "    }\n",
       "</style>\n",
       "<table border=\"1\" class=\"dataframe\">\n",
       "  <thead>\n",
       "    <tr style=\"text-align: right;\">\n",
       "      <th></th>\n",
       "      <th>start</th>\n",
       "      <th>end</th>\n",
       "    </tr>\n",
       "  </thead>\n",
       "  <tbody>\n",
       "    <tr>\n",
       "      <th>0</th>\n",
       "      <td>2005-05-24</td>\n",
       "      <td>2005-05-31 23:59:59</td>\n",
       "    </tr>\n",
       "    <tr>\n",
       "      <th>1</th>\n",
       "      <td>2005-06-14</td>\n",
       "      <td>2005-06-21 23:59:59</td>\n",
       "    </tr>\n",
       "    <tr>\n",
       "      <th>2</th>\n",
       "      <td>2005-07-05</td>\n",
       "      <td>2005-07-12 23:59:59</td>\n",
       "    </tr>\n",
       "    <tr>\n",
       "      <th>3</th>\n",
       "      <td>2005-07-26</td>\n",
       "      <td>2005-08-02 23:59:59</td>\n",
       "    </tr>\n",
       "    <tr>\n",
       "      <th>4</th>\n",
       "      <td>2005-08-16</td>\n",
       "      <td>2005-08-23 23:59:59</td>\n",
       "    </tr>\n",
       "  </tbody>\n",
       "</table>\n",
       "</div>"
      ],
      "text/plain": [
       "       start                 end\n",
       "0 2005-05-24 2005-05-31 23:59:59\n",
       "1 2005-06-14 2005-06-21 23:59:59\n",
       "2 2005-07-05 2005-07-12 23:59:59\n",
       "3 2005-07-26 2005-08-02 23:59:59\n",
       "4 2005-08-16 2005-08-23 23:59:59"
      ]
     },
     "execution_count": 36,
     "metadata": {},
     "output_type": "execute_result"
    }
   ],
   "source": [
    "pd.DataFrame(data=open_prd,columns=['start','end'])"
   ]
  },
  {
   "cell_type": "markdown",
   "id": "388cb7a2",
   "metadata": {},
   "source": [
    "Rata-rata toko sakila akan buka 8 hari berturut-turut, namun pada data penjualan per hari dihitung ada 41 hari."
   ]
  },
  {
   "cell_type": "code",
   "execution_count": 37,
   "id": "29a7a35c",
   "metadata": {},
   "outputs": [
    {
     "data": {
      "text/plain": [
       "(Timestamp('2006-02-14 00:00:00', freq='D'), 514.1800000000001)"
      ]
     },
     "execution_count": 37,
     "metadata": {},
     "output_type": "execute_result"
    }
   ],
   "source": [
    "start # => yang tidak disimpan"
   ]
  },
  {
   "cell_type": "markdown",
   "id": "ccaeb131",
   "metadata": {},
   "source": [
    "Ternyata pada akhir iterasi untuk mencari periode buka dari toko, ada 1 hari buka yang belum disimpan. Ini dikarenakan append terjadi ketika bertemu end sedangkan start akhir ini belum bertemu end :\"(."
   ]
  },
  {
   "cell_type": "code",
   "execution_count": 38,
   "id": "6e816dac",
   "metadata": {},
   "outputs": [],
   "source": [
    "interval_open = list()\n",
    "for i in range(1,len(open_prd)):\n",
    "    interval_open.append((open_prd[i][-1]-open_prd[i-1][-1]).days)"
   ]
  },
  {
   "cell_type": "code",
   "execution_count": 39,
   "id": "325905df",
   "metadata": {},
   "outputs": [
    {
     "data": {
      "text/plain": [
       "[21, 21, 21, 21]"
      ]
     },
     "execution_count": 39,
     "metadata": {},
     "output_type": "execute_result"
    }
   ],
   "source": [
    "interval_open"
   ]
  },
  {
   "cell_type": "code",
   "execution_count": 40,
   "id": "4c6dd03b",
   "metadata": {},
   "outputs": [
    {
     "data": {
      "text/plain": [
       "Timedelta('174 days 00:00:01')"
      ]
     },
     "execution_count": 40,
     "metadata": {},
     "output_type": "execute_result"
    }
   ],
   "source": [
    "start[0] - open_prd[-1][-1] # jarak antara periode yang tidak disimpan"
   ]
  },
  {
   "cell_type": "markdown",
   "id": "b7e96770",
   "metadata": {},
   "source": [
    "Rata-rata jarak antara periode buka adalah 21 hari, namun ada juga jarak sekitar 174 hari atau sekitar 6 bulan."
   ]
  },
  {
   "cell_type": "markdown",
   "id": "e60d8fb5",
   "metadata": {},
   "source": [
    "### Rangkuman\n",
    "* Toko paling sering buka pada hari Selasa, kedua toko sama.\n",
    "* Toko akan buka selama 8 hari dan tutup selama 21 hari.\n",
    "* Pada data akhir ditemukan toko sudah tidak buka selama hampir 6 bulan."
   ]
  },
  {
   "cell_type": "markdown",
   "id": "fd280f47",
   "metadata": {},
   "source": [
    "---"
   ]
  },
  {
   "cell_type": "markdown",
   "id": "8cf925bd",
   "metadata": {},
   "source": [
    "## Transaksi"
   ]
  },
  {
   "cell_type": "code",
   "execution_count": 41,
   "id": "35b02b0d",
   "metadata": {},
   "outputs": [],
   "source": [
    "trans_per_day = rental.groupby('payment_date').count()['rental_id']\n",
    "trans_per_day.columns = ['count']\n",
    "dummy_date_idx = pd.date_range('2005-5-24', '2006-2-14')\n",
    "\n",
    "trans_per_day.index = pd.DatetimeIndex(trans_per_day.index)\n",
    "\n",
    "dummy_date_trans = trans_per_day.reindex(dummy_date_idx, fill_value=0)\n",
    "\n",
    "max_trans_id = dummy_date_trans.argmax()\n",
    "\n",
    "max_trans_val = dummy_date_trans[max_sales_id]\n",
    "\n",
    "max_trans_date = dummy_date_trans.index[max_sales_id]"
   ]
  },
  {
   "cell_type": "markdown",
   "id": "8a98fb81",
   "metadata": {},
   "source": [
    "### Bagaimana pola transaksi dari toko sakila?"
   ]
  },
  {
   "cell_type": "code",
   "execution_count": 42,
   "id": "15784e9f",
   "metadata": {},
   "outputs": [
    {
     "data": {
      "image/png": "[encoded data removed]",
      "text/plain": [
       "<Figure size 1008x360 with 1 Axes>"
      ]
     },
     "metadata": {
      "needs_background": "light"
     },
     "output_type": "display_data"
    }
   ],
   "source": [
    "fig, ax = plt.subplots(1,1)\n",
    "fig.set_size_inches(14,5)\n",
    "\n",
    "sns.lineplot(x=dummy_date_sales.index, y=dummy_date_sales.values,ax=ax,color='#27344D')\n",
    "ax.set_title('Sales and Transaction per Day')\n",
    "ax.set_ylim([-20,3000])\n",
    "ax.set_ylabel('Dollar USD')\n",
    "sns.despine()\n",
    "\n",
    "\n",
    "sns.lineplot(x=dummy_date_trans.index, y=dummy_date_trans.values,ax=ax,color='green')\n",
    "ax.set_ylabel('')\n",
    "sns.despine()\n",
    "plt.show()"
   ]
  },
  {
   "cell_type": "code",
   "execution_count": 43,
   "id": "c035230f",
   "metadata": {},
   "outputs": [
    {
     "data": {
      "text/html": [
       "<div>\n",
       "<style scoped>\n",
       "    .dataframe tbody tr th:only-of-type {\n",
       "        vertical-align: middle;\n",
       "    }\n",
       "\n",
       "    .dataframe tbody tr th {\n",
       "        vertical-align: top;\n",
       "    }\n",
       "\n",
       "    .dataframe thead th {\n",
       "        text-align: right;\n",
       "    }\n",
       "</style>\n",
       "<table border=\"1\" class=\"dataframe\">\n",
       "  <thead>\n",
       "    <tr style=\"text-align: right;\">\n",
       "      <th></th>\n",
       "      <th>amount</th>\n",
       "      <th>rental_id</th>\n",
       "    </tr>\n",
       "  </thead>\n",
       "  <tbody>\n",
       "    <tr>\n",
       "      <th>amount</th>\n",
       "      <td>1.000000</td>\n",
       "      <td>0.998014</td>\n",
       "    </tr>\n",
       "    <tr>\n",
       "      <th>rental_id</th>\n",
       "      <td>0.998014</td>\n",
       "      <td>1.000000</td>\n",
       "    </tr>\n",
       "  </tbody>\n",
       "</table>\n",
       "</div>"
      ],
      "text/plain": [
       "             amount  rental_id\n",
       "amount     1.000000   0.998014\n",
       "rental_id  0.998014   1.000000"
      ]
     },
     "execution_count": 43,
     "metadata": {},
     "output_type": "execute_result"
    }
   ],
   "source": [
    "pd.merge(left=sales_per_day,right=trans_per_day,left_index=True,right_index=True).corr()"
   ]
  },
  {
   "cell_type": "markdown",
   "id": "c6a83c4c",
   "metadata": {},
   "source": [
    "Dapat dilihat bahwa Penjualan dan Transaksi memiliki tingkat korelasi yang tinggi. Hal ini merupakan hal yang normal karena semakin banyak transaksi maka semakin besar penjualan. Jika tingkat korelasi rendah maka kemungkinan ada pembelian dengan jumlah besar dalam satu kali transaksi."
   ]
  },
  {
   "cell_type": "markdown",
   "id": "f0f75f37",
   "metadata": {},
   "source": [
    "### Di hari apa transaksi terbanyak dilakukan?"
   ]
  },
  {
   "cell_type": "code",
   "execution_count": 44,
   "id": "117961ac",
   "metadata": {},
   "outputs": [],
   "source": [
    "rental_copy_name = rental.copy()"
   ]
  },
  {
   "cell_type": "code",
   "execution_count": 45,
   "id": "09f63c42",
   "metadata": {},
   "outputs": [],
   "source": [
    "rental_copy_name['day_name'] = rental_copy_name['payment_date'].apply(lambda x: pd.to_datetime(x).day_name())"
   ]
  },
  {
   "cell_type": "code",
   "execution_count": 46,
   "id": "7e1694dd",
   "metadata": {},
   "outputs": [
    {
     "data": {
      "text/plain": [
       "day_name\n",
       "Friday       2272\n",
       "Monday       2247\n",
       "Saturday     2311\n",
       "Sunday       2320\n",
       "Thursday     2200\n",
       "Tuesday      2463\n",
       "Wednesday    2231\n",
       "Name: rental_id, dtype: int64"
      ]
     },
     "execution_count": 46,
     "metadata": {},
     "output_type": "execute_result"
    }
   ],
   "source": [
    "rental_copy_name.groupby(['day_name']).count()['rental_id']"
   ]
  },
  {
   "cell_type": "code",
   "execution_count": 47,
   "id": "e2ac5d17",
   "metadata": {},
   "outputs": [
    {
     "data": {
      "text/plain": [
       "<seaborn.axisgrid.FacetGrid at 0x2793805aa30>"
      ]
     },
     "execution_count": 47,
     "metadata": {},
     "output_type": "execute_result"
    },
    {
     "data": {
      "image/png": "[encoded data removed]",
      "text/plain": [
       "<Figure size 360x360 with 1 Axes>"
      ]
     },
     "metadata": {
      "needs_background": "light"
     },
     "output_type": "display_data"
    }
   ],
   "source": [
    "sns.catplot(y='day_name',data=rental_copy_name,kind='count',order=['Monday','Tuesday','Wednesday','Thursday','Friday','Saturday','Sunday'],color='orange')"
   ]
  },
  {
   "cell_type": "markdown",
   "id": "3a6f22d9",
   "metadata": {},
   "source": [
    "Tidak ada perbedaan yang terlalu mencolok. Mungkin karena hanya buka 8 hari, toko selalu ramai pengunjung"
   ]
  },
  {
   "cell_type": "markdown",
   "id": "0c12f3d0",
   "metadata": {},
   "source": [
    "### Di jam berapa rerata jumlah transaksi terbanyak?"
   ]
  },
  {
   "cell_type": "markdown",
   "id": "42d79366",
   "metadata": {},
   "source": [
    "Dari sedikit eksplorasi"
   ]
  },
  {
   "cell_type": "code",
   "execution_count": 48,
   "id": "e579e08c",
   "metadata": {},
   "outputs": [],
   "source": [
    "rental_copy_name['hour'] = rental_copy_name['rental_date'].apply(lambda x: pd.to_datetime(x).hour)"
   ]
  },
  {
   "cell_type": "code",
   "execution_count": 49,
   "id": "4389be7f",
   "metadata": {},
   "outputs": [],
   "source": [
    "day_hour_trans = rental_copy_name.groupby(['payment_date','hour']).count()['rental_id']"
   ]
  },
  {
   "cell_type": "code",
   "execution_count": 50,
   "id": "f4f9df51",
   "metadata": {},
   "outputs": [
    {
     "data": {
      "text/plain": [
       "payment_date  hour\n",
       "2005-5-24     22.0    2\n",
       "              23.0    6\n",
       "2005-5-25     0.0     8\n",
       "              1.0     5\n",
       "              2.0     3\n",
       "Name: rental_id, dtype: int64"
      ]
     },
     "execution_count": 50,
     "metadata": {},
     "output_type": "execute_result"
    }
   ],
   "source": [
    "day_hour_trans.head()"
   ]
  },
  {
   "cell_type": "markdown",
   "id": "57b79cf6",
   "metadata": {},
   "source": [
    "Ternyata di setiap tanggal buka, tidak didapat jumlah transaksi per jamnya. Maka dari itu dibuat dulu index dummy yang akan diisi valuenya dengan 0"
   ]
  },
  {
   "cell_type": "code",
   "execution_count": 51,
   "id": "9696634f",
   "metadata": {},
   "outputs": [],
   "source": [
    "day_hour_trans = day_hour_trans.reindex(index=pd.MultiIndex.from_product([day_hour_trans.index.levels[0], np.arange(0,25)],names=['Date', 'Hour']),fill_value=0)"
   ]
  },
  {
   "cell_type": "code",
   "execution_count": 52,
   "id": "22cad7a3",
   "metadata": {},
   "outputs": [
    {
     "data": {
      "text/plain": [
       "Date       Hour\n",
       "2005-5-24  0       0\n",
       "           1       0\n",
       "           2       0\n",
       "           3       0\n",
       "           4       0\n",
       "Name: rental_id, dtype: int64"
      ]
     },
     "execution_count": 52,
     "metadata": {},
     "output_type": "execute_result"
    }
   ],
   "source": [
    "day_hour_trans.head() # Sudah terisi 0"
   ]
  },
  {
   "cell_type": "markdown",
   "id": "e4557876",
   "metadata": {},
   "source": [
    "Dihitung rerata per jamnya dengan cara menjumlahkan transaksi setiap jam dan membaginya dengan jumlah hari."
   ]
  },
  {
   "cell_type": "code",
   "execution_count": 53,
   "id": "9785f0fb",
   "metadata": {},
   "outputs": [],
   "source": [
    "avg_trans_hour = day_hour_trans.reset_index().groupby(['Hour']).sum()/len(day_hour_trans.index.levels[0])"
   ]
  },
  {
   "cell_type": "code",
   "execution_count": 54,
   "id": "a133cc97",
   "metadata": {},
   "outputs": [
    {
     "data": {
      "image/png": "[encoded data removed]",
      "text/plain": [
       "<Figure size 1008x216 with 1 Axes>"
      ]
     },
     "metadata": {
      "needs_background": "light"
     },
     "output_type": "display_data"
    }
   ],
   "source": [
    "fig,ax = plt.subplots(1,1)\n",
    "fig.set_size_inches((14,3))\n",
    "for i in avg_trans_hour.itertuples():\n",
    "    if i[0] == 15:\n",
    "        alpha = 0.9\n",
    "    else:\n",
    "        alpha = 0.3\n",
    "    ax.fill_between((i[0],i[0]+1),i[-1],0,color='blue',alpha=alpha)\n",
    "    \n",
    "ax.axhline(y=avg_trans_hour.mean().values, color='red', linestyle='--')\n",
    "ax.annotate(f'Mean {avg_trans_hour.mean().values[0]:.2f}',(23,avg_trans_hour.mean().values+1))\n",
    "\n",
    "ax.set_xlim([-1,25])\n",
    "ax.set_ylim([0,30])\n",
    "ax.set_ylabel('Avg. Transaksi')\n",
    "ax.set_xlabel('Jam')\n",
    "ax.set_title('Avg. Transaksi per Jam')\n",
    "ax.set_xticks(ticks=np.arange(0,25))\n",
    "sns.despine(ax=ax)\n",
    "plt.show()"
   ]
  },
  {
   "cell_type": "markdown",
   "id": "2b5fa94b",
   "metadata": {},
   "source": [
    "Dapat dilihat bahwa setiap jam memiliki jumlah rerata transaksi yang sama. Namun pada jam 15 sampai 16, ada peningkatan rerata transaksi di jam tersebut."
   ]
  },
  {
   "cell_type": "code",
   "execution_count": 55,
   "id": "978bbef3",
   "metadata": {},
   "outputs": [],
   "source": [
    "def get_avg_trans_hour_store(store_id):\n",
    "    day_hour_trans = rental_copy_name.groupby(['store_id','payment_date','hour']).count()['rental_id']\n",
    "    day_hour_trans = day_hour_trans.loc[store_id]\n",
    "    day_hour_trans = day_hour_trans.reindex(index=pd.MultiIndex.from_product([day_hour_trans.index.levels[0], np.arange(0,25)],names=['Date', 'Hour']),fill_value=0)\n",
    "    return day_hour_trans.reset_index().groupby(['Hour']).sum()/len(day_hour_trans.index.levels[0])"
   ]
  },
  {
   "cell_type": "code",
   "execution_count": 56,
   "id": "ec56a5df",
   "metadata": {},
   "outputs": [
    {
     "data": {
      "image/png": "[encoded data removed]",
      "text/plain": [
       "<Figure size 1008x432 with 2 Axes>"
      ]
     },
     "metadata": {
      "needs_background": "light"
     },
     "output_type": "display_data"
    }
   ],
   "source": [
    "\n",
    "avg_trans_hour_1 = get_avg_trans_hour_store(1)\n",
    "avg_trans_hour_2 = get_avg_trans_hour_store(2)\n",
    "\n",
    "fig,(ax1,ax2) = plt.subplots(2,1,sharex=True,sharey=True)\n",
    "fig.set_size_inches((14,6))\n",
    "for i in avg_trans_hour_1.itertuples():\n",
    "    ax1.fill_between((i[0],i[0]+1),i[-1],0,color='#FF7F0E',alpha=0.5)\n",
    "    \n",
    "\n",
    "for i in avg_trans_hour_2.itertuples():\n",
    "    ax2.fill_between((i[0],i[0]+1),i[-1],0,color='#9467BD',alpha=0.5)\n",
    "\n",
    "plt.subplots_adjust(hspace=0.1)\n",
    "for ax in (ax1,ax2):\n",
    "    sns.despine(ax=ax)\n",
    "    ax.set_ylim([0,30])\n",
    "\n",
    "\n",
    "fig.suptitle('Avg. Transaksi per Jam')\n",
    "plt.show()"
   ]
  },
  {
   "cell_type": "markdown",
   "id": "cfc4e421",
   "metadata": {},
   "source": [
    "Di Toko 1 dan 2 pun terjadi hal yang sama atau tidak terlalu jauh berbeda dari trend keramaian secara keseluruhan."
   ]
  },
  {
   "cell_type": "code",
   "execution_count": 57,
   "id": "ba21e433",
   "metadata": {},
   "outputs": [
    {
     "data": {
      "text/plain": [
       "0        2005-05-26 22:04:30\n",
       "1        2005-05-28 19:40:33\n",
       "2        2005-06-01 22:12:39\n",
       "3        2005-06-03 01:43:41\n",
       "4        2005-06-02 04:33:21\n",
       "                ...         \n",
       "16044                    NaN\n",
       "16045                    NaN\n",
       "16046                    NaN\n",
       "16047                    NaN\n",
       "16048                    NaN\n",
       "Name: return_date, Length: 16049, dtype: object"
      ]
     },
     "execution_count": 57,
     "metadata": {},
     "output_type": "execute_result"
    }
   ],
   "source": [
    "rental.return_date"
   ]
  },
  {
   "cell_type": "markdown",
   "id": "2f31d809",
   "metadata": {},
   "source": [
    "### Rangkuman\n",
    "* Transaksi memiliki tingkat korelasi yang tinggi dengan penjualan\n",
    "* Intensitas transaksi sama untuk semua hari (Senin-Minggu)\n",
    "* Rata-rata transaksi per jam memiliki jumlah yang sama dari pukul 0 sampai pukul 24\n",
    "* Ada kenaikan jumlah rata-rata transaksi pada jam 15-16.\n",
    "* Kedua toko memiliki pola yang sama dengan trend keseluruhan"
   ]
  },
  {
   "cell_type": "markdown",
   "id": "06513610",
   "metadata": {},
   "source": [
    "## Film"
   ]
  },
  {
   "cell_type": "markdown",
   "id": "268b6e07",
   "metadata": {},
   "source": [
    "### Berapa banyak stock film dari Toko Sakila?"
   ]
  },
  {
   "cell_type": "code",
   "execution_count": 58,
   "id": "ffb3892f",
   "metadata": {},
   "outputs": [],
   "source": [
    "inv_film = pd.read_csv('data/inv_film.csv',index_col=0)"
   ]
  },
  {
   "cell_type": "code",
   "execution_count": 59,
   "id": "88b256b5",
   "metadata": {},
   "outputs": [
    {
     "data": {
      "text/plain": [
       "4581"
      ]
     },
     "execution_count": 59,
     "metadata": {},
     "output_type": "execute_result"
    }
   ],
   "source": [
    "len(inv_film.inventory_id.unique())"
   ]
  },
  {
   "cell_type": "code",
   "execution_count": 60,
   "id": "b37402cf",
   "metadata": {},
   "outputs": [
    {
     "data": {
      "text/plain": [
       "958"
      ]
     },
     "execution_count": 60,
     "metadata": {},
     "output_type": "execute_result"
    }
   ],
   "source": [
    "len(inv_film.film_id.unique())"
   ]
  },
  {
   "cell_type": "code",
   "execution_count": 61,
   "id": "3e17766d",
   "metadata": {},
   "outputs": [
    {
     "data": {
      "text/plain": [
       "4.781837160751566"
      ]
     },
     "execution_count": 61,
     "metadata": {},
     "output_type": "execute_result"
    }
   ],
   "source": [
    "len(inv_film.inventory_id.unique())/len(inv_film.film_id.unique())"
   ]
  },
  {
   "cell_type": "markdown",
   "id": "5cc00193",
   "metadata": {},
   "source": [
    "Toko sakila memiki 4.581 stock film dengan 958 judul yang berbeda. Berarti rerata setiap film memiliki 4 salinan."
   ]
  },
  {
   "cell_type": "markdown",
   "id": "991c0890",
   "metadata": {},
   "source": [
    "### Apakah stock film di toko 1 dan 2 sama?"
   ]
  },
  {
   "cell_type": "code",
   "execution_count": 62,
   "id": "89d30a09",
   "metadata": {},
   "outputs": [
    {
     "data": {
      "image/png": "[encoded data removed]",
      "text/plain": [
       "<Figure size 288x432 with 1 Axes>"
      ]
     },
     "metadata": {
      "needs_background": "light"
     },
     "output_type": "display_data"
    }
   ],
   "source": [
    "plt.figure(figsize=(4,6))\n",
    "ax = plt.subplot(111)\n",
    "sns.countplot(x='store_id',data=inv_film,ax=ax)\n",
    "sns.despine(left=True,ax=ax)\n",
    "ax.set_yticks([])\n",
    "ax.set_ylabel('')\n",
    "n_store_1 = inv_film.groupby('store_id').count()['inventory_id'][1]\n",
    "n_store_2 = inv_film.groupby('store_id').count()['inventory_id'][2]\n",
    "ax.annotate(n_store_1,(-0.1,n_store_1+50))\n",
    "ax.annotate(n_store_2,(0.9,n_store_2+50))\n",
    "ax.set_title('Jumlah stock film')\n",
    "plt.show()"
   ]
  },
  {
   "cell_type": "markdown",
   "id": "1e2e6b7a",
   "metadata": {},
   "source": [
    "Jika dilihat dari grafik di atas, toko 2 memiliki jumlah inventory yang lebih banyak daripada toko 1. Namun hanya berbeda 41 salinan saja. Bagaimana dengan jumlah judulnya?"
   ]
  },
  {
   "cell_type": "markdown",
   "id": "f07bacba",
   "metadata": {},
   "source": [
    "### Apakah jumlah judul film di toko 1 dan 2 sama?"
   ]
  },
  {
   "cell_type": "code",
   "execution_count": 63,
   "id": "534a419f",
   "metadata": {},
   "outputs": [
    {
     "data": {
      "text/plain": [
       "store_id\n",
       "1    759\n",
       "2    762\n",
       "Name: film_id, dtype: int64"
      ]
     },
     "execution_count": 63,
     "metadata": {},
     "output_type": "execute_result"
    }
   ],
   "source": [
    "inv_film.groupby('store_id')['film_id'].nunique()"
   ]
  },
  {
   "cell_type": "code",
   "execution_count": 64,
   "id": "76137371",
   "metadata": {},
   "outputs": [
    {
     "data": {
      "image/png": "[encoded data removed]",
      "text/plain": [
       "<Figure size 288x432 with 1 Axes>"
      ]
     },
     "metadata": {
      "needs_background": "light"
     },
     "output_type": "display_data"
    }
   ],
   "source": [
    "plt.figure(figsize=(4,6))\n",
    "ax = plt.subplot(111)\n",
    "sns.barplot(x=inv_film.groupby('store_id')['film_id'].nunique().index,y=inv_film.groupby('store_id')['film_id'].nunique(),ax=ax)\n",
    "sns.despine(left=True,ax=ax)\n",
    "ax.set_yticks([])\n",
    "ax.set_ylabel('')\n",
    "n_store_1 = inv_film.groupby('store_id')['film_id'].nunique()[1]\n",
    "n_store_2 = inv_film.groupby('store_id')['film_id'].nunique()[2]\n",
    "ax.annotate(n_store_1,(-0.1,n_store_1+10))\n",
    "ax.annotate(n_store_2,(0.9,n_store_2+10))\n",
    "ax.set_title('Jumlah judul film',pad=10)\n",
    "plt.show()"
   ]
  },
  {
   "cell_type": "markdown",
   "id": "0077eef1",
   "metadata": {},
   "source": [
    "Ternyata sama dengan jumlah stock film, jumlah judul pada toko 2 pun lebih banyak daripada toko 1. Mungkin ada pertanyaan mengapa jika kedua jumlah judul di setiap toko dijumlah tidak sama dengan yang kita temukan tadi?\\\n",
    "Ini terjadi karena mungkin pada toko 1 dan toko 2 terdapat judul film yang sama, sehingga pada perhitungan totalnya hanya dibaca 1 saja."
   ]
  },
  {
   "cell_type": "markdown",
   "id": "60919478",
   "metadata": {},
   "source": [
    "### Berapa judul film yang unik di toko 1 dan 2?\n",
    "Unik = Tidak ada di toko lainnya"
   ]
  },
  {
   "cell_type": "code",
   "execution_count": 65,
   "id": "114cc55e",
   "metadata": {},
   "outputs": [],
   "source": [
    "list_film_store_1 = set(inv_film[inv_film['store_id']==1].title.unique())\n",
    "list_film_store_2 = set(inv_film[inv_film['store_id']==2].title.unique())"
   ]
  },
  {
   "cell_type": "code",
   "execution_count": 66,
   "id": "96605118",
   "metadata": {},
   "outputs": [],
   "source": [
    "unique_1 = len(list_film_store_1.difference(list_film_store_2))\n",
    "unique_2 = len(list_film_store_2.difference(list_film_store_1))"
   ]
  },
  {
   "cell_type": "code",
   "execution_count": 67,
   "id": "16186ccb",
   "metadata": {},
   "outputs": [
    {
     "data": {
      "image/png": "[encoded data removed]",
      "text/plain": [
       "<Figure size 288x432 with 1 Axes>"
      ]
     },
     "metadata": {
      "needs_background": "light"
     },
     "output_type": "display_data"
    }
   ],
   "source": [
    "plt.figure(figsize=(4,6))\n",
    "ax = plt.subplot(111)\n",
    "sns.barplot(x=[1,2],y=[unique_1,unique_2],ax=ax)\n",
    "sns.despine(left=True,ax=ax)\n",
    "ax.set_yticks([])\n",
    "ax.set_ylabel('')\n",
    "n_store_1 = unique_1\n",
    "n_store_2 = unique_2\n",
    "ax.annotate(n_store_1,(-0.1,n_store_1+2))\n",
    "ax.annotate(n_store_2,(0.9,n_store_2+2))\n",
    "ax.set_title('Jumlah judul film unik',pad=10)\n",
    "plt.show()"
   ]
  },
  {
   "cell_type": "code",
   "execution_count": 68,
   "id": "8c08c43e",
   "metadata": {},
   "outputs": [
    {
     "data": {
      "text/plain": [
       "563"
      ]
     },
     "execution_count": 68,
     "metadata": {},
     "output_type": "execute_result"
    }
   ],
   "source": [
    "len(list_film_store_2.intersection(list_film_store_1))"
   ]
  },
  {
   "cell_type": "markdown",
   "id": "090b6fe8",
   "metadata": {},
   "source": [
    "Ternyata pada setiap toko terdapat judul film yang tidak ada di toko lainnya. Toko 2 memiliki jumlah judul film yang unik lebih banyak dari toko, walaupun hanya terpaut 3 judul saja. Kedua toko memiliki 563 judul film yang sama. "
   ]
  },
  {
   "cell_type": "markdown",
   "id": "1edf07bb",
   "metadata": {},
   "source": [
    "### Secara keseluruhan, judul film mana yang memiliki jumlah salinan terbanyak?"
   ]
  },
  {
   "cell_type": "code",
   "execution_count": 69,
   "id": "365f8a68",
   "metadata": {},
   "outputs": [
    {
     "data": {
      "text/plain": [
       "title\n",
       "ACADEMY DINOSAUR       8\n",
       "HARRY IDAHO            8\n",
       "GIANT TROOPERS         8\n",
       "GILMORE BOILED         8\n",
       "GLEAMING JAWBREAKER    8\n",
       "GOODFELLAS SALUTE      8\n",
       "GREATEST NORTH         8\n",
       "GRIT CLOCKWORK         8\n",
       "HEAVYWEIGHTS BEAST     8\n",
       "BOOGIE AMELIE          8\n",
       "HOBBIT ALIEN           8\n",
       "HORROR REIGN           8\n",
       "HUSTLER PARTY          8\n",
       "INNOCENT USUAL         8\n",
       "INVASION CYCLONE       8\n",
       "JUGGLER HARDLY         8\n",
       "GARDEN ISLAND          8\n",
       "FROST HEAD             8\n",
       "FORWARD TEMPLE         8\n",
       "FAMILY SWEET           8\n",
       "EXPENDABLE STALLION    8\n",
       "DYNAMITE TARZAN        8\n",
       "DOGMA FAMILY           8\n",
       "DINOSAUR SECRETARY     8\n",
       "DEER VIRGINIAN         8\n",
       "Name: inventory_id, dtype: int64"
      ]
     },
     "execution_count": 69,
     "metadata": {},
     "output_type": "execute_result"
    }
   ],
   "source": [
    "inv_film.groupby('title').count()['inventory_id'].sort_values(ascending=False).head(25)"
   ]
  },
  {
   "cell_type": "code",
   "execution_count": 70,
   "id": "b9ddc359",
   "metadata": {},
   "outputs": [
    {
     "data": {
      "text/plain": [
       "72"
      ]
     },
     "execution_count": 70,
     "metadata": {},
     "output_type": "execute_result"
    }
   ],
   "source": [
    "sum(inv_film.groupby('title').count()['inventory_id'].sort_values(ascending=False) == 8)"
   ]
  },
  {
   "cell_type": "markdown",
   "id": "4ef2d302",
   "metadata": {},
   "source": [
    "Ternyata jumlah salinan terbanyak adalah 8 salinan dan terdapat banyak film yang memiliki salinan sebanyak 8, lebih tepatnya ada 72 film yang memiliki 8 salinan."
   ]
  },
  {
   "cell_type": "markdown",
   "id": "1f577caf",
   "metadata": {},
   "source": [
    "### Berapa rerata salinan film yang ada di toko 1 dan 2?"
   ]
  },
  {
   "cell_type": "code",
   "execution_count": 71,
   "id": "0855ae0d",
   "metadata": {},
   "outputs": [],
   "source": [
    "count_copy_store = inv_film.groupby(['store_id','title']).count()['inventory_id'].reset_index()"
   ]
  },
  {
   "cell_type": "code",
   "execution_count": 72,
   "id": "02d538ba",
   "metadata": {},
   "outputs": [],
   "source": [
    "count_copy_store.drop(['title'],inplace=True,axis=1)"
   ]
  },
  {
   "cell_type": "code",
   "execution_count": 73,
   "id": "a8b04d86",
   "metadata": {},
   "outputs": [],
   "source": [
    "count_copy_store.columns = ['store_id','count_copy']"
   ]
  },
  {
   "cell_type": "code",
   "execution_count": 74,
   "id": "35c7c764",
   "metadata": {},
   "outputs": [
    {
     "data": {
      "image/png": "[encoded data removed]",
      "text/plain": [
       "<Figure size 720x360 with 2 Axes>"
      ]
     },
     "metadata": {
      "needs_background": "light"
     },
     "output_type": "display_data"
    }
   ],
   "source": [
    "sns.catplot(x='count_copy',data=count_copy_store,col='store_id',kind='count')\n",
    "plt.show()"
   ]
  },
  {
   "cell_type": "code",
   "execution_count": 75,
   "id": "fe0091e4",
   "metadata": {},
   "outputs": [
    {
     "data": {
      "text/plain": [
       "False"
      ]
     },
     "execution_count": 75,
     "metadata": {},
     "output_type": "execute_result"
    }
   ],
   "source": [
    "stats, pval = mannwhitneyu(count_copy_store[count_copy_store['store_id']==1]['count_copy'],\n",
    "                           count_copy_store[count_copy_store['store_id']==2]['count_copy'],\n",
    "                           alternative='two-sided')\n",
    "\n",
    "pval <= 0.05"
   ]
  },
  {
   "cell_type": "markdown",
   "id": "9ad3776d",
   "metadata": {},
   "source": [
    "Distribusi salinan dari setiap toko menyerupai distribusi uniform. Bisa dikatakan bahwa setiap toko sakila memili rerata 3 salinan untuk setiap film dan tidak ada perbedaan antara 2 toko."
   ]
  },
  {
   "cell_type": "markdown",
   "id": "312b9c7a",
   "metadata": {},
   "source": [
    "### Rangkuman\n",
    "* Karakteristik film dari kedua toko sakila tidak terlalu jauh berbeda.\n",
    "* Setiap toko memiliki judul film unik, namun sebagian terdapat pada kedua toko.\n",
    "* Di setiap toko, rerata terdapat 3 salinan untuk setiap film."
   ]
  },
  {
   "cell_type": "markdown",
   "id": "181c09d0",
   "metadata": {},
   "source": [
    "---"
   ]
  },
  {
   "cell_type": "markdown",
   "id": "0cdf7325",
   "metadata": {},
   "source": [
    "## Rental"
   ]
  },
  {
   "cell_type": "markdown",
   "id": "fd5ed14a",
   "metadata": {},
   "source": [
    "### Berapa jumlah rental film yang belum kembali?"
   ]
  },
  {
   "cell_type": "markdown",
   "id": "75b5e4da",
   "metadata": {},
   "source": [
    "Jika dilihat pada column `return_date` terdapat beberapa NaN value."
   ]
  },
  {
   "cell_type": "code",
   "execution_count": 76,
   "id": "90df32d9",
   "metadata": {},
   "outputs": [
    {
     "data": {
      "text/plain": [
       "188"
      ]
     },
     "execution_count": 76,
     "metadata": {},
     "output_type": "execute_result"
    }
   ],
   "source": [
    "rental['return_date'].isna().sum()"
   ]
  },
  {
   "cell_type": "code",
   "execution_count": 77,
   "id": "1f50cb57",
   "metadata": {},
   "outputs": [],
   "source": [
    "na_return_date = rental[rental['return_date'].isna()]"
   ]
  },
  {
   "cell_type": "code",
   "execution_count": 78,
   "id": "91686e19",
   "metadata": {},
   "outputs": [
    {
     "data": {
      "text/html": [
       "<div>\n",
       "<style scoped>\n",
       "    .dataframe tbody tr th:only-of-type {\n",
       "        vertical-align: middle;\n",
       "    }\n",
       "\n",
       "    .dataframe tbody tr th {\n",
       "        vertical-align: top;\n",
       "    }\n",
       "\n",
       "    .dataframe thead th {\n",
       "        text-align: right;\n",
       "    }\n",
       "</style>\n",
       "<table border=\"1\" class=\"dataframe\">\n",
       "  <thead>\n",
       "    <tr style=\"text-align: right;\">\n",
       "      <th></th>\n",
       "      <th>rental_id</th>\n",
       "      <th>rental_date</th>\n",
       "      <th>inventory_id</th>\n",
       "      <th>customer_id</th>\n",
       "      <th>return_date</th>\n",
       "      <th>staff_id</th>\n",
       "      <th>last_update_x</th>\n",
       "      <th>film_id</th>\n",
       "      <th>store_id</th>\n",
       "      <th>last_update_y</th>\n",
       "      <th>...</th>\n",
       "      <th>length</th>\n",
       "      <th>replacement_cost</th>\n",
       "      <th>rating</th>\n",
       "      <th>special_features</th>\n",
       "      <th>payment_id</th>\n",
       "      <th>customer_id_payment</th>\n",
       "      <th>staff_id_payment</th>\n",
       "      <th>amount</th>\n",
       "      <th>payment_date</th>\n",
       "      <th>last_update</th>\n",
       "    </tr>\n",
       "  </thead>\n",
       "  <tbody>\n",
       "    <tr>\n",
       "      <th>11491</th>\n",
       "      <td>11496.0</td>\n",
       "      <td>2006-02-14 15:16:03</td>\n",
       "      <td>2047.0</td>\n",
       "      <td>155.0</td>\n",
       "      <td>NaN</td>\n",
       "      <td>1.0</td>\n",
       "      <td>2006-02-15 21:30:53</td>\n",
       "      <td>445.0</td>\n",
       "      <td>1.0</td>\n",
       "      <td>2006-02-15 05:09:17</td>\n",
       "      <td>...</td>\n",
       "      <td>100.0</td>\n",
       "      <td>11.99</td>\n",
       "      <td>G</td>\n",
       "      <td>{'Deleted Scenes', 'Trailers'}</td>\n",
       "      <td>4234</td>\n",
       "      <td>155</td>\n",
       "      <td>2</td>\n",
       "      <td>7.98</td>\n",
       "      <td>2006-2-14</td>\n",
       "      <td>2006-02-15 22:13:33</td>\n",
       "    </tr>\n",
       "    <tr>\n",
       "      <th>11536</th>\n",
       "      <td>11541.0</td>\n",
       "      <td>2006-02-14 15:16:03</td>\n",
       "      <td>2026.0</td>\n",
       "      <td>335.0</td>\n",
       "      <td>NaN</td>\n",
       "      <td>1.0</td>\n",
       "      <td>2006-02-15 21:30:53</td>\n",
       "      <td>440.0</td>\n",
       "      <td>2.0</td>\n",
       "      <td>2006-02-15 05:09:17</td>\n",
       "      <td>...</td>\n",
       "      <td>105.0</td>\n",
       "      <td>21.99</td>\n",
       "      <td>G</td>\n",
       "      <td>{'Deleted Scenes', 'Behind the Scenes'}</td>\n",
       "      <td>9066</td>\n",
       "      <td>335</td>\n",
       "      <td>2</td>\n",
       "      <td>0.99</td>\n",
       "      <td>2006-2-14</td>\n",
       "      <td>2006-02-15 22:16:21</td>\n",
       "    </tr>\n",
       "    <tr>\n",
       "      <th>11558</th>\n",
       "      <td>11563.0</td>\n",
       "      <td>2006-02-14 15:16:03</td>\n",
       "      <td>1545.0</td>\n",
       "      <td>83.0</td>\n",
       "      <td>NaN</td>\n",
       "      <td>1.0</td>\n",
       "      <td>2006-02-15 21:30:53</td>\n",
       "      <td>338.0</td>\n",
       "      <td>2.0</td>\n",
       "      <td>2006-02-15 05:09:17</td>\n",
       "      <td>...</td>\n",
       "      <td>51.0</td>\n",
       "      <td>23.99</td>\n",
       "      <td>PG</td>\n",
       "      <td>{'Commentaries', 'Deleted Scenes', 'Behind the...</td>\n",
       "      <td>2268</td>\n",
       "      <td>83</td>\n",
       "      <td>2</td>\n",
       "      <td>4.99</td>\n",
       "      <td>2006-2-14</td>\n",
       "      <td>2006-02-15 22:12:53</td>\n",
       "    </tr>\n",
       "    <tr>\n",
       "      <th>11572</th>\n",
       "      <td>11577.0</td>\n",
       "      <td>2006-02-14 15:16:03</td>\n",
       "      <td>4106.0</td>\n",
       "      <td>219.0</td>\n",
       "      <td>NaN</td>\n",
       "      <td>2.0</td>\n",
       "      <td>2006-02-15 21:30:53</td>\n",
       "      <td>893.0</td>\n",
       "      <td>2.0</td>\n",
       "      <td>2006-02-15 05:09:17</td>\n",
       "      <td>...</td>\n",
       "      <td>91.0</td>\n",
       "      <td>11.99</td>\n",
       "      <td>PG</td>\n",
       "      <td>{'Behind the Scenes'}</td>\n",
       "      <td>5947</td>\n",
       "      <td>219</td>\n",
       "      <td>1</td>\n",
       "      <td>4.99</td>\n",
       "      <td>2006-2-14</td>\n",
       "      <td>2006-02-15 22:14:19</td>\n",
       "    </tr>\n",
       "    <tr>\n",
       "      <th>11588</th>\n",
       "      <td>11593.0</td>\n",
       "      <td>2006-02-14 15:16:03</td>\n",
       "      <td>817.0</td>\n",
       "      <td>99.0</td>\n",
       "      <td>NaN</td>\n",
       "      <td>1.0</td>\n",
       "      <td>2006-02-15 21:30:53</td>\n",
       "      <td>178.0</td>\n",
       "      <td>1.0</td>\n",
       "      <td>2006-02-15 05:09:17</td>\n",
       "      <td>...</td>\n",
       "      <td>115.0</td>\n",
       "      <td>25.99</td>\n",
       "      <td>G</td>\n",
       "      <td>{'Deleted Scenes', 'Behind the Scenes'}</td>\n",
       "      <td>2687</td>\n",
       "      <td>99</td>\n",
       "      <td>1</td>\n",
       "      <td>0.99</td>\n",
       "      <td>2006-2-14</td>\n",
       "      <td>2006-02-15 22:13:00</td>\n",
       "    </tr>\n",
       "  </tbody>\n",
       "</table>\n",
       "<p>5 rows × 27 columns</p>\n",
       "</div>"
      ],
      "text/plain": [
       "       rental_id          rental_date  inventory_id  customer_id return_date  \\\n",
       "11491    11496.0  2006-02-14 15:16:03        2047.0        155.0         NaN   \n",
       "11536    11541.0  2006-02-14 15:16:03        2026.0        335.0         NaN   \n",
       "11558    11563.0  2006-02-14 15:16:03        1545.0         83.0         NaN   \n",
       "11572    11577.0  2006-02-14 15:16:03        4106.0        219.0         NaN   \n",
       "11588    11593.0  2006-02-14 15:16:03         817.0         99.0         NaN   \n",
       "\n",
       "       staff_id        last_update_x  film_id  store_id        last_update_y  \\\n",
       "11491       1.0  2006-02-15 21:30:53    445.0       1.0  2006-02-15 05:09:17   \n",
       "11536       1.0  2006-02-15 21:30:53    440.0       2.0  2006-02-15 05:09:17   \n",
       "11558       1.0  2006-02-15 21:30:53    338.0       2.0  2006-02-15 05:09:17   \n",
       "11572       2.0  2006-02-15 21:30:53    893.0       2.0  2006-02-15 05:09:17   \n",
       "11588       1.0  2006-02-15 21:30:53    178.0       1.0  2006-02-15 05:09:17   \n",
       "\n",
       "       ...  length replacement_cost  rating  \\\n",
       "11491  ...   100.0            11.99       G   \n",
       "11536  ...   105.0            21.99       G   \n",
       "11558  ...    51.0            23.99      PG   \n",
       "11572  ...    91.0            11.99      PG   \n",
       "11588  ...   115.0            25.99       G   \n",
       "\n",
       "                                        special_features payment_id  \\\n",
       "11491                     {'Deleted Scenes', 'Trailers'}       4234   \n",
       "11536            {'Deleted Scenes', 'Behind the Scenes'}       9066   \n",
       "11558  {'Commentaries', 'Deleted Scenes', 'Behind the...       2268   \n",
       "11572                              {'Behind the Scenes'}       5947   \n",
       "11588            {'Deleted Scenes', 'Behind the Scenes'}       2687   \n",
       "\n",
       "       customer_id_payment  staff_id_payment  amount  payment_date  \\\n",
       "11491                  155                 2    7.98     2006-2-14   \n",
       "11536                  335                 2    0.99     2006-2-14   \n",
       "11558                   83                 2    4.99     2006-2-14   \n",
       "11572                  219                 1    4.99     2006-2-14   \n",
       "11588                   99                 1    0.99     2006-2-14   \n",
       "\n",
       "               last_update  \n",
       "11491  2006-02-15 22:13:33  \n",
       "11536  2006-02-15 22:16:21  \n",
       "11558  2006-02-15 22:12:53  \n",
       "11572  2006-02-15 22:14:19  \n",
       "11588  2006-02-15 22:13:00  \n",
       "\n",
       "[5 rows x 27 columns]"
      ]
     },
     "execution_count": 78,
     "metadata": {},
     "output_type": "execute_result"
    }
   ],
   "source": [
    "na_return_date.head()"
   ]
  },
  {
   "cell_type": "markdown",
   "id": "d04d6645",
   "metadata": {},
   "source": [
    "Nilai NaN ini bisa dikatakan sebagai rental yang belum kembali. Namun juga ada beberapa NaN yang memang tidak memiliki arti karena hasil penggabungan dengan payment."
   ]
  },
  {
   "cell_type": "code",
   "execution_count": 79,
   "id": "bec08093",
   "metadata": {},
   "outputs": [
    {
     "data": {
      "text/html": [
       "<div>\n",
       "<style scoped>\n",
       "    .dataframe tbody tr th:only-of-type {\n",
       "        vertical-align: middle;\n",
       "    }\n",
       "\n",
       "    .dataframe tbody tr th {\n",
       "        vertical-align: top;\n",
       "    }\n",
       "\n",
       "    .dataframe thead th {\n",
       "        text-align: right;\n",
       "    }\n",
       "</style>\n",
       "<table border=\"1\" class=\"dataframe\">\n",
       "  <thead>\n",
       "    <tr style=\"text-align: right;\">\n",
       "      <th></th>\n",
       "      <th>rental_id</th>\n",
       "      <th>rental_date</th>\n",
       "      <th>inventory_id</th>\n",
       "      <th>customer_id</th>\n",
       "      <th>return_date</th>\n",
       "      <th>staff_id</th>\n",
       "      <th>last_update_x</th>\n",
       "      <th>film_id</th>\n",
       "      <th>store_id</th>\n",
       "      <th>last_update_y</th>\n",
       "      <th>...</th>\n",
       "      <th>length</th>\n",
       "      <th>replacement_cost</th>\n",
       "      <th>rating</th>\n",
       "      <th>special_features</th>\n",
       "      <th>payment_id</th>\n",
       "      <th>customer_id_payment</th>\n",
       "      <th>staff_id_payment</th>\n",
       "      <th>amount</th>\n",
       "      <th>payment_date</th>\n",
       "      <th>last_update</th>\n",
       "    </tr>\n",
       "  </thead>\n",
       "  <tbody>\n",
       "    <tr>\n",
       "      <th>16047</th>\n",
       "      <td>NaN</td>\n",
       "      <td>NaN</td>\n",
       "      <td>NaN</td>\n",
       "      <td>NaN</td>\n",
       "      <td>NaN</td>\n",
       "      <td>NaN</td>\n",
       "      <td>NaN</td>\n",
       "      <td>NaN</td>\n",
       "      <td>NaN</td>\n",
       "      <td>NaN</td>\n",
       "      <td>...</td>\n",
       "      <td>NaN</td>\n",
       "      <td>NaN</td>\n",
       "      <td>NaN</td>\n",
       "      <td>NaN</td>\n",
       "      <td>14675</td>\n",
       "      <td>546</td>\n",
       "      <td>1</td>\n",
       "      <td>3.99</td>\n",
       "      <td>2005-7-30</td>\n",
       "      <td>2006-02-15 22:21:38</td>\n",
       "    </tr>\n",
       "    <tr>\n",
       "      <th>16048</th>\n",
       "      <td>NaN</td>\n",
       "      <td>NaN</td>\n",
       "      <td>NaN</td>\n",
       "      <td>NaN</td>\n",
       "      <td>NaN</td>\n",
       "      <td>NaN</td>\n",
       "      <td>NaN</td>\n",
       "      <td>NaN</td>\n",
       "      <td>NaN</td>\n",
       "      <td>NaN</td>\n",
       "      <td>...</td>\n",
       "      <td>NaN</td>\n",
       "      <td>NaN</td>\n",
       "      <td>NaN</td>\n",
       "      <td>NaN</td>\n",
       "      <td>15458</td>\n",
       "      <td>577</td>\n",
       "      <td>2</td>\n",
       "      <td>0.99</td>\n",
       "      <td>2005-5-27</td>\n",
       "      <td>2006-02-15 22:22:32</td>\n",
       "    </tr>\n",
       "  </tbody>\n",
       "</table>\n",
       "<p>2 rows × 27 columns</p>\n",
       "</div>"
      ],
      "text/plain": [
       "       rental_id rental_date  inventory_id  customer_id return_date  staff_id  \\\n",
       "16047        NaN         NaN           NaN          NaN         NaN       NaN   \n",
       "16048        NaN         NaN           NaN          NaN         NaN       NaN   \n",
       "\n",
       "      last_update_x  film_id  store_id last_update_y  ...  length  \\\n",
       "16047           NaN      NaN       NaN           NaN  ...     NaN   \n",
       "16048           NaN      NaN       NaN           NaN  ...     NaN   \n",
       "\n",
       "      replacement_cost  rating  special_features payment_id  \\\n",
       "16047              NaN     NaN               NaN      14675   \n",
       "16048              NaN     NaN               NaN      15458   \n",
       "\n",
       "       customer_id_payment  staff_id_payment  amount  payment_date  \\\n",
       "16047                  546                 1    3.99     2005-7-30   \n",
       "16048                  577                 2    0.99     2005-5-27   \n",
       "\n",
       "               last_update  \n",
       "16047  2006-02-15 22:21:38  \n",
       "16048  2006-02-15 22:22:32  \n",
       "\n",
       "[2 rows x 27 columns]"
      ]
     },
     "execution_count": 79,
     "metadata": {},
     "output_type": "execute_result"
    }
   ],
   "source": [
    "na_return_date.tail(2)"
   ]
  },
  {
   "cell_type": "code",
   "execution_count": 80,
   "id": "06827568",
   "metadata": {},
   "outputs": [],
   "source": [
    "na_return_date = na_return_date[np.invert(na_return_date['rental_date'].isna())]"
   ]
  },
  {
   "cell_type": "code",
   "execution_count": 81,
   "id": "ae46e473",
   "metadata": {},
   "outputs": [
    {
     "data": {
      "text/plain": [
       "183"
      ]
     },
     "execution_count": 81,
     "metadata": {},
     "output_type": "execute_result"
    }
   ],
   "source": [
    "len(na_return_date)"
   ]
  },
  {
   "cell_type": "markdown",
   "id": "7ee5740b",
   "metadata": {},
   "source": [
    "Terdapat 183 rental yang belum dikembalikan"
   ]
  },
  {
   "cell_type": "markdown",
   "id": "cf72abc1",
   "metadata": {},
   "source": [
    "### Untuk setiap toko, berapa proporsi rental yang belum dikembalikan?"
   ]
  },
  {
   "cell_type": "code",
   "execution_count": 90,
   "id": "a7198458",
   "metadata": {},
   "outputs": [],
   "source": [
    "rental_clean = rental[np.invert(rental['rental_id'].isna())] # Menghilangkan data yang ada di payment saja"
   ]
  },
  {
   "cell_type": "code",
   "execution_count": 91,
   "id": "bf0a6d4d",
   "metadata": {},
   "outputs": [
    {
     "name": "stderr",
     "output_type": "stream",
     "text": [
      "C:\\Users\\MSI~1\\AppData\\Local\\Temp/ipykernel_31888/699471657.py:1: SettingWithCopyWarning: \n",
      "A value is trying to be set on a copy of a slice from a DataFrame.\n",
      "Try using .loc[row_indexer,col_indexer] = value instead\n",
      "\n",
      "See the caveats in the documentation: https://pandas.pydata.org/pandas-docs/stable/user_guide/indexing.html#returning-a-view-versus-a-copy\n",
      "  rental_clean['is_returned'] = np.invert(rental_clean['return_date'].isna())\n"
     ]
    }
   ],
   "source": [
    "rental_clean['is_returned'] = np.invert(rental_clean['return_date'].isna())"
   ]
  },
  {
   "cell_type": "code",
   "execution_count": 93,
   "id": "d41a1751",
   "metadata": {},
   "outputs": [
    {
     "data": {
      "text/plain": [
       "16044"
      ]
     },
     "execution_count": 93,
     "metadata": {},
     "output_type": "execute_result"
    }
   ],
   "source": [
    "len(rental_clean)"
   ]
  },
  {
   "cell_type": "code",
   "execution_count": 84,
   "id": "81dfeb22",
   "metadata": {},
   "outputs": [
    {
     "data": {
      "text/plain": [
       "1.1406133133881824"
      ]
     },
     "execution_count": 84,
     "metadata": {},
     "output_type": "execute_result"
    }
   ],
   "source": [
    "len(na_return_date)*100/len(rental_clean)"
   ]
  },
  {
   "cell_type": "markdown",
   "id": "6f3c6408",
   "metadata": {},
   "source": [
    "Secara keseluruhan terdapat 1.14% rental yang belum kembali"
   ]
  },
  {
   "cell_type": "code",
   "execution_count": 96,
   "id": "0dd0232e",
   "metadata": {},
   "outputs": [],
   "source": [
    "store_returned = pd.crosstab(index=rental_clean['is_returned'],columns=rental_clean['store_id'])"
   ]
  },
  {
   "cell_type": "code",
   "execution_count": 97,
   "id": "b11e627d",
   "metadata": {},
   "outputs": [
    {
     "data": {
      "text/html": [
       "<div>\n",
       "<style scoped>\n",
       "    .dataframe tbody tr th:only-of-type {\n",
       "        vertical-align: middle;\n",
       "    }\n",
       "\n",
       "    .dataframe tbody tr th {\n",
       "        vertical-align: top;\n",
       "    }\n",
       "\n",
       "    .dataframe thead th {\n",
       "        text-align: right;\n",
       "    }\n",
       "</style>\n",
       "<table border=\"1\" class=\"dataframe\">\n",
       "  <thead>\n",
       "    <tr style=\"text-align: right;\">\n",
       "      <th>store_id</th>\n",
       "      <th>1.0</th>\n",
       "      <th>2.0</th>\n",
       "    </tr>\n",
       "    <tr>\n",
       "      <th>is_returned</th>\n",
       "      <th></th>\n",
       "      <th></th>\n",
       "    </tr>\n",
       "  </thead>\n",
       "  <tbody>\n",
       "    <tr>\n",
       "      <th>False</th>\n",
       "      <td>92</td>\n",
       "      <td>91</td>\n",
       "    </tr>\n",
       "    <tr>\n",
       "      <th>True</th>\n",
       "      <td>7831</td>\n",
       "      <td>8030</td>\n",
       "    </tr>\n",
       "  </tbody>\n",
       "</table>\n",
       "</div>"
      ],
      "text/plain": [
       "store_id      1.0   2.0\n",
       "is_returned            \n",
       "False          92    91\n",
       "True         7831  8030"
      ]
     },
     "execution_count": 97,
     "metadata": {},
     "output_type": "execute_result"
    }
   ],
   "source": [
    "store_returned"
   ]
  },
  {
   "cell_type": "code",
   "execution_count": 115,
   "id": "caeb6780",
   "metadata": {},
   "outputs": [],
   "source": [
    "nobs = store_returned.sum(axis=0).values"
   ]
  },
  {
   "cell_type": "code",
   "execution_count": 116,
   "id": "914b54c2",
   "metadata": {},
   "outputs": [],
   "source": [
    "count = store_returned.loc[False].values"
   ]
  },
  {
   "cell_type": "code",
   "execution_count": 107,
   "id": "859a4638",
   "metadata": {},
   "outputs": [],
   "source": [
    "from statsmodels.stats.proportion import proportions_ztest"
   ]
  },
  {
   "cell_type": "code",
   "execution_count": 118,
   "id": "6b7721a4",
   "metadata": {},
   "outputs": [],
   "source": [
    "stat, pval = proportions_ztest(count,nobs,alternative='two-sided')"
   ]
  },
  {
   "cell_type": "code",
   "execution_count": 119,
   "id": "55c6842a",
   "metadata": {},
   "outputs": [
    {
     "data": {
      "text/plain": [
       "False"
      ]
     },
     "execution_count": 119,
     "metadata": {},
     "output_type": "execute_result"
    }
   ],
   "source": [
    "pval <= 0.05"
   ]
  },
  {
   "cell_type": "code",
   "execution_count": 122,
   "id": "278070d5",
   "metadata": {},
   "outputs": [],
   "source": [
    "prop_1, prop_2 = (count/nobs)*100"
   ]
  },
  {
   "cell_type": "code",
   "execution_count": 123,
   "id": "17216ce5",
   "metadata": {},
   "outputs": [
    {
     "data": {
      "text/plain": [
       "1.1611763221002147"
      ]
     },
     "execution_count": 123,
     "metadata": {},
     "output_type": "execute_result"
    }
   ],
   "source": [
    "prop_1 # persentase film yang belum dikembalikan toko 1"
   ]
  },
  {
   "cell_type": "code",
   "execution_count": 124,
   "id": "212a538d",
   "metadata": {},
   "outputs": [
    {
     "data": {
      "text/plain": [
       "1.1205516561999755"
      ]
     },
     "execution_count": 124,
     "metadata": {},
     "output_type": "execute_result"
    }
   ],
   "source": [
    "prop_2 # persentase film yang belum dikembalikan toko 2"
   ]
  },
  {
   "cell_type": "markdown",
   "id": "49aa6478",
   "metadata": {},
   "source": [
    "Toko 1 sekitar 1.16% dan toko 2 mempunyai 1.12% rental yang belum dikembalikan. Dapat terlihat bahwa toko 1 memiliki 0.04% lebih banyak rental yang belum dikembalikan, namun menurut uji test perbedaan ini tidak signifikan. Maka dari itu, dapat dikatakan toko 1 dan toko 2 tidak"
   ]
  },
  {
   "cell_type": "markdown",
   "id": "1a8738c6",
   "metadata": {},
   "source": [
    "### Bagaimana dengan replacement costnya?"
   ]
  },
  {
   "cell_type": "code",
   "execution_count": 152,
   "id": "d988cf69",
   "metadata": {},
   "outputs": [
    {
     "data": {
      "text/plain": [
       "3552.1700000000005"
      ]
     },
     "execution_count": 152,
     "metadata": {},
     "output_type": "execute_result"
    }
   ],
   "source": [
    "rental_clean[rental_clean['is_returned']==False]['replacement_cost'].sum()"
   ]
  },
  {
   "cell_type": "code",
   "execution_count": 147,
   "id": "2f5ed602",
   "metadata": {},
   "outputs": [
    {
     "data": {
      "text/plain": [
       "False"
      ]
     },
     "execution_count": 147,
     "metadata": {},
     "output_type": "execute_result"
    }
   ],
   "source": [
    "rental_clean[rental_clean['is_returned']==False]['replacement_cost'].sum() > rental['amount'].sum()"
   ]
  },
  {
   "cell_type": "markdown",
   "id": "f9ff9ca3",
   "metadata": {},
   "source": [
    "Walaupun jumlah proporsi rental yang tidak kembali hanyak sekitar 1%, kerugian karena harus melakukan penggantian film mencapai $3.552 atau sekitar Rp51.001.569 dengan exchange rate saat ini. Hal ini mungkin yang menyebabkan toko sakila tidak bisa buka setiap waktu."
   ]
  },
  {
   "cell_type": "code",
   "execution_count": 149,
   "id": "b00027b1",
   "metadata": {},
   "outputs": [
    {
     "data": {
      "image/png": "[encoded data removed]",
      "text/plain": [
       "<Figure size 1008x432 with 1 Axes>"
      ]
     },
     "metadata": {
      "needs_background": "light"
     },
     "output_type": "display_data"
    }
   ],
   "source": [
    "plt.figure(figsize=(14,6))\n",
    "sns.countplot(x=rental_clean[rental_clean['is_returned']==False]['replacement_cost'],color='red')\n",
    "plt.show()"
   ]
  },
  {
   "cell_type": "markdown",
   "id": "e0fbe7b7",
   "metadata": {},
   "source": [
    "Replacement cost nya pun bervariasi dari `$9.99` sampai $29.99"
   ]
  },
  {
   "cell_type": "code",
   "execution_count": 157,
   "id": "22b7d566",
   "metadata": {},
   "outputs": [
    {
     "data": {
      "text/plain": [
       "store_id\n",
       "1.0    1796.08\n",
       "2.0    1756.09\n",
       "Name: replacement_cost, dtype: float64"
      ]
     },
     "execution_count": 157,
     "metadata": {},
     "output_type": "execute_result"
    }
   ],
   "source": [
    "rental_clean.groupby(['is_returned','store_id']).sum()['replacement_cost'][False]"
   ]
  },
  {
   "cell_type": "markdown",
   "id": "ec07563c",
   "metadata": {},
   "source": [
    "Untuk setiap toko, kerugian hampir sama yaitu sekitar $1.800. Mungkin dari ini toko sakila harus mulai berbenah dalam prosedur pengembalian rental. Prosedur tersebut harus lebih ketat, atau mungkin membuat sebuah _event_ dimana pengembalian rental tidak mendapatkan denda agar para penyewa yang takut untuk mengembalikan dapat segera mengembalikan dan toko sakila terhindar dari kerugian yang lebih besar."
   ]
  },
  {
   "cell_type": "code",
   "execution_count": 162,
   "id": "e4d74de9",
   "metadata": {},
   "outputs": [
    {
     "data": {
      "image/png": "[encoded data removed]",
      "text/plain": [
       "<Figure size 411.875x360 with 1 Axes>"
      ]
     },
     "metadata": {
      "needs_background": "light"
     },
     "output_type": "display_data"
    }
   ],
   "source": [
    "sns.displot(x='replacement_cost',data=na_return_date,hue='store_id',kind='hist')\n",
    "plt.show()"
   ]
  },
  {
   "cell_type": "code",
   "execution_count": 163,
   "id": "6c7db449",
   "metadata": {},
   "outputs": [
    {
     "data": {
      "text/plain": [
       "False"
      ]
     },
     "execution_count": 163,
     "metadata": {},
     "output_type": "execute_result"
    }
   ],
   "source": [
    "stats, pval = mannwhitneyu(na_return_date[na_return_date['store_id']==1]['replacement_cost'],\n",
    "                           na_return_date[na_return_date['store_id']==2]['replacement_cost'],\n",
    "                           alternative='two-sided')\n",
    "\n",
    "pval <= 0.05"
   ]
  },
  {
   "cell_type": "markdown",
   "id": "fcc9e90b",
   "metadata": {},
   "source": [
    "Dapat dilihat bahwa distribusi replacement cost dari setiap toko hampir sama dan secara statistik perbedaannya pun tidak signifikan."
   ]
  },
  {
   "cell_type": "markdown",
   "id": "e6af31df",
   "metadata": {},
   "source": [
    "### Apakah pengembalian rental mempunyai korelasi dengan biaya?"
   ]
  },
  {
   "cell_type": "code",
   "execution_count": 197,
   "id": "84031977",
   "metadata": {},
   "outputs": [
    {
     "data": {
      "text/html": [
       "<div>\n",
       "<style scoped>\n",
       "    .dataframe tbody tr th:only-of-type {\n",
       "        vertical-align: middle;\n",
       "    }\n",
       "\n",
       "    .dataframe tbody tr th {\n",
       "        vertical-align: top;\n",
       "    }\n",
       "\n",
       "    .dataframe thead th {\n",
       "        text-align: right;\n",
       "    }\n",
       "</style>\n",
       "<table border=\"1\" class=\"dataframe\">\n",
       "  <thead>\n",
       "    <tr style=\"text-align: right;\">\n",
       "      <th></th>\n",
       "      <th>is_returned</th>\n",
       "      <th>rental_rate</th>\n",
       "    </tr>\n",
       "  </thead>\n",
       "  <tbody>\n",
       "    <tr>\n",
       "      <th>is_returned</th>\n",
       "      <td>1.000000</td>\n",
       "      <td>0.008292</td>\n",
       "    </tr>\n",
       "    <tr>\n",
       "      <th>rental_rate</th>\n",
       "      <td>0.008292</td>\n",
       "      <td>1.000000</td>\n",
       "    </tr>\n",
       "  </tbody>\n",
       "</table>\n",
       "</div>"
      ],
      "text/plain": [
       "             is_returned  rental_rate\n",
       "is_returned     1.000000     0.008292\n",
       "rental_rate     0.008292     1.000000"
      ]
     },
     "execution_count": 197,
     "metadata": {},
     "output_type": "execute_result"
    }
   ],
   "source": [
    "rental_clean[['is_returned','rental_rate']].corr('spearman')"
   ]
  },
  {
   "cell_type": "code",
   "execution_count": 198,
   "id": "fc4cdbbd",
   "metadata": {},
   "outputs": [
    {
     "data": {
      "text/html": [
       "<div>\n",
       "<style scoped>\n",
       "    .dataframe tbody tr th:only-of-type {\n",
       "        vertical-align: middle;\n",
       "    }\n",
       "\n",
       "    .dataframe tbody tr th {\n",
       "        vertical-align: top;\n",
       "    }\n",
       "\n",
       "    .dataframe thead th {\n",
       "        text-align: right;\n",
       "    }\n",
       "</style>\n",
       "<table border=\"1\" class=\"dataframe\">\n",
       "  <thead>\n",
       "    <tr style=\"text-align: right;\">\n",
       "      <th></th>\n",
       "      <th>is_returned</th>\n",
       "      <th>amount</th>\n",
       "    </tr>\n",
       "  </thead>\n",
       "  <tbody>\n",
       "    <tr>\n",
       "      <th>is_returned</th>\n",
       "      <td>1.000000</td>\n",
       "      <td>0.063304</td>\n",
       "    </tr>\n",
       "    <tr>\n",
       "      <th>amount</th>\n",
       "      <td>0.063304</td>\n",
       "      <td>1.000000</td>\n",
       "    </tr>\n",
       "  </tbody>\n",
       "</table>\n",
       "</div>"
      ],
      "text/plain": [
       "             is_returned    amount\n",
       "is_returned     1.000000  0.063304\n",
       "amount          0.063304  1.000000"
      ]
     },
     "execution_count": 198,
     "metadata": {},
     "output_type": "execute_result"
    }
   ],
   "source": [
    "rental_clean[['is_returned','amount']].corr('spearman')"
   ]
  },
  {
   "cell_type": "code",
   "execution_count": 199,
   "id": "54d7550a",
   "metadata": {},
   "outputs": [
    {
     "data": {
      "text/html": [
       "<div>\n",
       "<style scoped>\n",
       "    .dataframe tbody tr th:only-of-type {\n",
       "        vertical-align: middle;\n",
       "    }\n",
       "\n",
       "    .dataframe tbody tr th {\n",
       "        vertical-align: top;\n",
       "    }\n",
       "\n",
       "    .dataframe thead th {\n",
       "        text-align: right;\n",
       "    }\n",
       "</style>\n",
       "<table border=\"1\" class=\"dataframe\">\n",
       "  <thead>\n",
       "    <tr style=\"text-align: right;\">\n",
       "      <th></th>\n",
       "      <th>is_returned</th>\n",
       "      <th>replacement_cost</th>\n",
       "    </tr>\n",
       "  </thead>\n",
       "  <tbody>\n",
       "    <tr>\n",
       "      <th>is_returned</th>\n",
       "      <td>1.000000</td>\n",
       "      <td>0.014269</td>\n",
       "    </tr>\n",
       "    <tr>\n",
       "      <th>replacement_cost</th>\n",
       "      <td>0.014269</td>\n",
       "      <td>1.000000</td>\n",
       "    </tr>\n",
       "  </tbody>\n",
       "</table>\n",
       "</div>"
      ],
      "text/plain": [
       "                  is_returned  replacement_cost\n",
       "is_returned          1.000000          0.014269\n",
       "replacement_cost     0.014269          1.000000"
      ]
     },
     "execution_count": 199,
     "metadata": {},
     "output_type": "execute_result"
    }
   ],
   "source": [
    "rental_clean[['is_returned','replacement_cost']].corr('spearman')"
   ]
  },
  {
   "cell_type": "markdown",
   "id": "59177291",
   "metadata": {},
   "source": [
    "Dapat dilihat bahwa tidak ada korelasi apapun antara pengembalian dengan biaya apapun. Berarti kecil kemungkinan bahwa penyewa sengaja menyewa untuk melakukan jual beli film."
   ]
  },
  {
   "cell_type": "markdown",
   "id": "8f3ff586",
   "metadata": {},
   "source": [
    "### Bagaimana dengan proporsi rental yang melebihi batas waktu?"
   ]
  },
  {
   "cell_type": "code",
   "execution_count": 132,
   "id": "ba13acf5",
   "metadata": {},
   "outputs": [],
   "source": [
    "rental['return_duration'] = (pd.to_datetime(rental['return_date']) - pd.to_datetime(rental['rental_date'])).dt.days"
   ]
  },
  {
   "cell_type": "code",
   "execution_count": 173,
   "id": "95b9409e",
   "metadata": {
    "collapsed": true
   },
   "outputs": [
    {
     "name": "stderr",
     "output_type": "stream",
     "text": [
      "C:\\Users\\MSI~1\\AppData\\Local\\Temp/ipykernel_31888/3672012052.py:1: SettingWithCopyWarning: \n",
      "A value is trying to be set on a copy of a slice from a DataFrame.\n",
      "Try using .loc[row_indexer,col_indexer] = value instead\n",
      "\n",
      "See the caveats in the documentation: https://pandas.pydata.org/pandas-docs/stable/user_guide/indexing.html#returning-a-view-versus-a-copy\n",
      "  rental_clean['return_duration'] = (pd.to_datetime(rental_clean['return_date']) - pd.to_datetime(rental_clean['rental_date'])).dt.days\n"
     ]
    }
   ],
   "source": [
    "rental_clean['return_duration'] = (pd.to_datetime(rental_clean['return_date']) - pd.to_datetime(rental_clean['rental_date'])).dt.days"
   ]
  },
  {
   "cell_type": "code",
   "execution_count": 183,
   "id": "75405dee",
   "metadata": {},
   "outputs": [
    {
     "data": {
      "text/plain": [
       "6403"
      ]
     },
     "execution_count": 183,
     "metadata": {},
     "output_type": "execute_result"
    }
   ],
   "source": [
    "(rental_clean.return_duration > rental_clean.rental_duration).sum()"
   ]
  },
  {
   "cell_type": "code",
   "execution_count": 184,
   "id": "323ff083",
   "metadata": {},
   "outputs": [
    {
     "data": {
      "text/plain": [
       "39.90900024931439"
      ]
     },
     "execution_count": 184,
     "metadata": {},
     "output_type": "execute_result"
    }
   ],
   "source": [
    "(rental_clean.return_duration > rental_clean.rental_duration).sum()*100 / len(rental_clean)"
   ]
  },
  {
   "cell_type": "markdown",
   "id": "6c6e76ca",
   "metadata": {},
   "source": [
    "Secara keseluruhan terdapat 6.403 atau 39.91% rental yang pengembaliannya melebihi batas waktu. Hal ini cukup banyak dan bisa merugikan toko"
   ]
  },
  {
   "cell_type": "code",
   "execution_count": 179,
   "id": "608a1b1e",
   "metadata": {
    "collapsed": true
   },
   "outputs": [
    {
     "name": "stderr",
     "output_type": "stream",
     "text": [
      "C:\\Users\\MSI~1\\AppData\\Local\\Temp/ipykernel_31888/2510211321.py:1: SettingWithCopyWarning: \n",
      "A value is trying to be set on a copy of a slice from a DataFrame.\n",
      "Try using .loc[row_indexer,col_indexer] = value instead\n",
      "\n",
      "See the caveats in the documentation: https://pandas.pydata.org/pandas-docs/stable/user_guide/indexing.html#returning-a-view-versus-a-copy\n",
      "  rental_clean['is_late'] = (rental_clean.return_duration > rental_clean.rental_duration)\n"
     ]
    }
   ],
   "source": [
    "rental_clean['is_late'] = (rental_clean.return_duration > rental_clean.rental_duration)"
   ]
  },
  {
   "cell_type": "code",
   "execution_count": 185,
   "id": "7baa0ffb",
   "metadata": {},
   "outputs": [],
   "source": [
    "store_late = pd.crosstab(index=rental_clean['is_late'],columns=rental_clean['store_id'])"
   ]
  },
  {
   "cell_type": "code",
   "execution_count": 186,
   "id": "34a60c91",
   "metadata": {},
   "outputs": [
    {
     "data": {
      "text/html": [
       "<div>\n",
       "<style scoped>\n",
       "    .dataframe tbody tr th:only-of-type {\n",
       "        vertical-align: middle;\n",
       "    }\n",
       "\n",
       "    .dataframe tbody tr th {\n",
       "        vertical-align: top;\n",
       "    }\n",
       "\n",
       "    .dataframe thead th {\n",
       "        text-align: right;\n",
       "    }\n",
       "</style>\n",
       "<table border=\"1\" class=\"dataframe\">\n",
       "  <thead>\n",
       "    <tr style=\"text-align: right;\">\n",
       "      <th>store_id</th>\n",
       "      <th>1.0</th>\n",
       "      <th>2.0</th>\n",
       "    </tr>\n",
       "    <tr>\n",
       "      <th>is_late</th>\n",
       "      <th></th>\n",
       "      <th></th>\n",
       "    </tr>\n",
       "  </thead>\n",
       "  <tbody>\n",
       "    <tr>\n",
       "      <th>False</th>\n",
       "      <td>4719</td>\n",
       "      <td>4922</td>\n",
       "    </tr>\n",
       "    <tr>\n",
       "      <th>True</th>\n",
       "      <td>3204</td>\n",
       "      <td>3199</td>\n",
       "    </tr>\n",
       "  </tbody>\n",
       "</table>\n",
       "</div>"
      ],
      "text/plain": [
       "store_id   1.0   2.0\n",
       "is_late             \n",
       "False     4719  4922\n",
       "True      3204  3199"
      ]
     },
     "execution_count": 186,
     "metadata": {},
     "output_type": "execute_result"
    }
   ],
   "source": [
    "store_late"
   ]
  },
  {
   "cell_type": "code",
   "execution_count": 188,
   "id": "ac7c93e3",
   "metadata": {},
   "outputs": [],
   "source": [
    "prop_1, prop_2 = (count/nobs)*100"
   ]
  },
  {
   "cell_type": "code",
   "execution_count": 189,
   "id": "8ad6fe12",
   "metadata": {},
   "outputs": [
    {
     "data": {
      "text/plain": [
       "40.439227565316166"
      ]
     },
     "execution_count": 189,
     "metadata": {},
     "output_type": "execute_result"
    }
   ],
   "source": [
    "prop_1 # persentase film yang belum dikembalikan toko 1"
   ]
  },
  {
   "cell_type": "code",
   "execution_count": 190,
   "id": "d621b0c5",
   "metadata": {},
   "outputs": [
    {
     "data": {
      "text/plain": [
       "39.391700529491445"
      ]
     },
     "execution_count": 190,
     "metadata": {},
     "output_type": "execute_result"
    }
   ],
   "source": [
    "prop_2 # persentase film yang belum dikembalikan toko 2"
   ]
  },
  {
   "cell_type": "code",
   "execution_count": 191,
   "id": "bc9fb09c",
   "metadata": {},
   "outputs": [
    {
     "data": {
      "text/plain": [
       "False"
      ]
     },
     "execution_count": 191,
     "metadata": {},
     "output_type": "execute_result"
    }
   ],
   "source": [
    "nobs = store_late.sum(axis=0).values\n",
    "count = store_late.loc[True].values\n",
    "\n",
    "stat, pval = proportions_ztest(count,nobs,alternative='two-sided')\n",
    "pval <= 0.05"
   ]
  },
  {
   "cell_type": "markdown",
   "id": "bb608976",
   "metadata": {},
   "source": [
    "Dapat dilihat bahwa toko 1 memiliki proporsi keterlambatan pengembalian lebih banyak daripada toko 2, berbeda sekitar 1%. Namun hal ini tidak terlalu signifikan berdasarkan test yang dilakukan."
   ]
  },
  {
   "cell_type": "markdown",
   "id": "5b946843",
   "metadata": {},
   "source": [
    "### Apakah durasi keterlambatan sama antara toko?"
   ]
  },
  {
   "cell_type": "code",
   "execution_count": 200,
   "id": "7ce678ff",
   "metadata": {},
   "outputs": [],
   "source": [
    "late_rental = rental[(rental.return_duration > rental.rental_duration)]"
   ]
  },
  {
   "cell_type": "code",
   "execution_count": 201,
   "id": "f9d224a4",
   "metadata": {},
   "outputs": [
    {
     "name": "stderr",
     "output_type": "stream",
     "text": [
      "C:\\Users\\MSI~1\\AppData\\Local\\Temp/ipykernel_31888/1751903151.py:1: SettingWithCopyWarning: \n",
      "A value is trying to be set on a copy of a slice from a DataFrame.\n",
      "Try using .loc[row_indexer,col_indexer] = value instead\n",
      "\n",
      "See the caveats in the documentation: https://pandas.pydata.org/pandas-docs/stable/user_guide/indexing.html#returning-a-view-versus-a-copy\n",
      "  late_rental['late_duration'] = late_rental.return_duration - late_rental.rental_duration\n"
     ]
    }
   ],
   "source": [
    "late_rental['late_duration'] = late_rental.return_duration - late_rental.rental_duration"
   ]
  },
  {
   "cell_type": "code",
   "execution_count": 202,
   "id": "b092ce88",
   "metadata": {},
   "outputs": [
    {
     "data": {
      "text/plain": [
       "<Figure size 1008x432 with 0 Axes>"
      ]
     },
     "metadata": {},
     "output_type": "display_data"
    },
    {
     "data": {
      "image/png": "[encoded data removed]",
      "text/plain": [
       "<Figure size 411.875x360 with 1 Axes>"
      ]
     },
     "metadata": {
      "needs_background": "light"
     },
     "output_type": "display_data"
    }
   ],
   "source": [
    "plt.figure(figsize=(14,6))\n",
    "sns.displot(x='late_duration',data=late_rental,hue='store_id')\n",
    "plt.show()"
   ]
  },
  {
   "cell_type": "code",
   "execution_count": 169,
   "id": "2c10bec5",
   "metadata": {},
   "outputs": [
    {
     "data": {
      "text/plain": [
       "False"
      ]
     },
     "execution_count": 169,
     "metadata": {},
     "output_type": "execute_result"
    }
   ],
   "source": [
    "stats, pval = mannwhitneyu(late_rental[late_rental['store_id']==1]['return_duration'],\n",
    "                           late_rental[late_rental['store_id']==2]['return_duration'],\n",
    "                           alternative='two-sided')\n",
    "\n",
    "pval <= 0.05"
   ]
  },
  {
   "cell_type": "markdown",
   "id": "d619f071",
   "metadata": {},
   "source": [
    "Dapat dilihat bahwa tidak ada perbedaan durasi keterlambatan yang signifikan antara kedua toko"
   ]
  },
  {
   "cell_type": "markdown",
   "id": "08c91314",
   "metadata": {},
   "source": [
    "### Apakah ada korelasi antara waktu keterlambatan dengan batas waktu?"
   ]
  },
  {
   "cell_type": "code",
   "execution_count": 203,
   "id": "4cbe2702",
   "metadata": {},
   "outputs": [
    {
     "data": {
      "text/html": [
       "<div>\n",
       "<style scoped>\n",
       "    .dataframe tbody tr th:only-of-type {\n",
       "        vertical-align: middle;\n",
       "    }\n",
       "\n",
       "    .dataframe tbody tr th {\n",
       "        vertical-align: top;\n",
       "    }\n",
       "\n",
       "    .dataframe thead th {\n",
       "        text-align: right;\n",
       "    }\n",
       "</style>\n",
       "<table border=\"1\" class=\"dataframe\">\n",
       "  <thead>\n",
       "    <tr style=\"text-align: right;\">\n",
       "      <th></th>\n",
       "      <th>is_late</th>\n",
       "      <th>rental_duration</th>\n",
       "    </tr>\n",
       "  </thead>\n",
       "  <tbody>\n",
       "    <tr>\n",
       "      <th>is_late</th>\n",
       "      <td>1.000000</td>\n",
       "      <td>-0.314454</td>\n",
       "    </tr>\n",
       "    <tr>\n",
       "      <th>rental_duration</th>\n",
       "      <td>-0.314454</td>\n",
       "      <td>1.000000</td>\n",
       "    </tr>\n",
       "  </tbody>\n",
       "</table>\n",
       "</div>"
      ],
      "text/plain": [
       "                  is_late  rental_duration\n",
       "is_late          1.000000        -0.314454\n",
       "rental_duration -0.314454         1.000000"
      ]
     },
     "execution_count": 203,
     "metadata": {},
     "output_type": "execute_result"
    }
   ],
   "source": [
    "rental_clean[['is_late','rental_duration']].corr('spearman')"
   ]
  },
  {
   "cell_type": "code",
   "execution_count": 204,
   "id": "efdb24d7",
   "metadata": {},
   "outputs": [
    {
     "data": {
      "text/html": [
       "<div>\n",
       "<style scoped>\n",
       "    .dataframe tbody tr th:only-of-type {\n",
       "        vertical-align: middle;\n",
       "    }\n",
       "\n",
       "    .dataframe tbody tr th {\n",
       "        vertical-align: top;\n",
       "    }\n",
       "\n",
       "    .dataframe thead th {\n",
       "        text-align: right;\n",
       "    }\n",
       "</style>\n",
       "<table border=\"1\" class=\"dataframe\">\n",
       "  <thead>\n",
       "    <tr style=\"text-align: right;\">\n",
       "      <th></th>\n",
       "      <th>return_duration</th>\n",
       "      <th>rental_duration</th>\n",
       "    </tr>\n",
       "  </thead>\n",
       "  <tbody>\n",
       "    <tr>\n",
       "      <th>return_duration</th>\n",
       "      <td>1.000000</td>\n",
       "      <td>0.001319</td>\n",
       "    </tr>\n",
       "    <tr>\n",
       "      <th>rental_duration</th>\n",
       "      <td>0.001319</td>\n",
       "      <td>1.000000</td>\n",
       "    </tr>\n",
       "  </tbody>\n",
       "</table>\n",
       "</div>"
      ],
      "text/plain": [
       "                 return_duration  rental_duration\n",
       "return_duration         1.000000         0.001319\n",
       "rental_duration         0.001319         1.000000"
      ]
     },
     "execution_count": 204,
     "metadata": {},
     "output_type": "execute_result"
    }
   ],
   "source": [
    "rental_clean[['return_duration','rental_duration']].corr('spearman')"
   ]
  },
  {
   "cell_type": "markdown",
   "id": "37b37960",
   "metadata": {},
   "source": [
    "Ada korelasi lemah antara keterlambatan dengan batas waktu, semakin rendah batas waktunya maka semakin besar kemungkinan rental akan terlambat. Namun tidak ada korelasi antara waktu keterlambatan dengan batas waktu rental."
   ]
  },
  {
   "cell_type": "markdown",
   "id": "6ed2b011",
   "metadata": {},
   "source": [
    "### Rangkuman\n",
    "* Pada toko sakila, tedapat kerugian $1.800 karena rental yang belum/tidak kembali.\n",
    "* Keterlambatan pengembalian sangat tinggi di kedua toko.\n",
    "* Disarankan meninjau ulang untuk mekanisme atau prosedur dalam pengembalian rental."
   ]
  },
  {
   "cell_type": "markdown",
   "id": "1fc68a66",
   "metadata": {},
   "source": [
    "---"
   ]
  },
  {
   "cell_type": "markdown",
   "id": "d5babb5a",
   "metadata": {},
   "source": [
    "# Staff"
   ]
  },
  {
   "cell_type": "markdown",
   "id": "1010dd5b",
   "metadata": {},
   "source": [
    "Sebenarnya saat melakukan analisis mengenai Store, secara tidak langsung dilakukan analisis untuk staff. Hal ini dikarenakan 1 toko hanya punya 1 staff. Maka dari itu analisis staff ini hanya sedikit."
   ]
  },
  {
   "cell_type": "markdown",
   "id": "6bd1f305",
   "metadata": {},
   "source": [
    "## Tempat tinggal"
   ]
  },
  {
   "cell_type": "code",
   "execution_count": 205,
   "id": "def6da06",
   "metadata": {},
   "outputs": [
    {
     "data": {
      "text/html": [
       "<div>\n",
       "<style scoped>\n",
       "    .dataframe tbody tr th:only-of-type {\n",
       "        vertical-align: middle;\n",
       "    }\n",
       "\n",
       "    .dataframe tbody tr th {\n",
       "        vertical-align: top;\n",
       "    }\n",
       "\n",
       "    .dataframe thead th {\n",
       "        text-align: right;\n",
       "    }\n",
       "</style>\n",
       "<table border=\"1\" class=\"dataframe\">\n",
       "  <thead>\n",
       "    <tr style=\"text-align: right;\">\n",
       "      <th></th>\n",
       "      <th>staff_id</th>\n",
       "      <th>first_name</th>\n",
       "      <th>last_name</th>\n",
       "      <th>address_id</th>\n",
       "      <th>picture</th>\n",
       "      <th>email</th>\n",
       "      <th>store_id</th>\n",
       "      <th>active</th>\n",
       "      <th>username</th>\n",
       "      <th>password</th>\n",
       "      <th>last_update</th>\n",
       "      <th>address</th>\n",
       "      <th>district</th>\n",
       "      <th>city</th>\n",
       "      <th>country</th>\n",
       "    </tr>\n",
       "  </thead>\n",
       "  <tbody>\n",
       "    <tr>\n",
       "      <th>0</th>\n",
       "      <td>1</td>\n",
       "      <td>Mike</td>\n",
       "      <td>Hillyer</td>\n",
       "      <td>3</td>\n",
       "      <td>b'\\x89PNG\\r\\n\\x1a\\n\\x00\\x00\\x00\\rIHDR\\x00\\x00\\...</td>\n",
       "      <td>Mike.Hillyer@sakilastaff.com</td>\n",
       "      <td>1</td>\n",
       "      <td>1</td>\n",
       "      <td>Mike</td>\n",
       "      <td>8cb2237d0679ca88db6464eac60da96345513964</td>\n",
       "      <td>2006-02-15 03:57:16</td>\n",
       "      <td>23 Workhaven Lane</td>\n",
       "      <td>Alberta</td>\n",
       "      <td>Lethbridge</td>\n",
       "      <td>Canada</td>\n",
       "    </tr>\n",
       "    <tr>\n",
       "      <th>1</th>\n",
       "      <td>2</td>\n",
       "      <td>Jon</td>\n",
       "      <td>Stephens</td>\n",
       "      <td>4</td>\n",
       "      <td>NaN</td>\n",
       "      <td>Jon.Stephens@sakilastaff.com</td>\n",
       "      <td>2</td>\n",
       "      <td>1</td>\n",
       "      <td>Jon</td>\n",
       "      <td>NaN</td>\n",
       "      <td>2006-02-15 03:57:16</td>\n",
       "      <td>1411 Lillydale Drive</td>\n",
       "      <td>QLD</td>\n",
       "      <td>Woodridge</td>\n",
       "      <td>Australia</td>\n",
       "    </tr>\n",
       "  </tbody>\n",
       "</table>\n",
       "</div>"
      ],
      "text/plain": [
       "   staff_id first_name last_name  address_id  \\\n",
       "0         1       Mike   Hillyer           3   \n",
       "1         2        Jon  Stephens           4   \n",
       "\n",
       "                                             picture  \\\n",
       "0  b'\\x89PNG\\r\\n\\x1a\\n\\x00\\x00\\x00\\rIHDR\\x00\\x00\\...   \n",
       "1                                                NaN   \n",
       "\n",
       "                          email  store_id  active username  \\\n",
       "0  Mike.Hillyer@sakilastaff.com         1       1     Mike   \n",
       "1  Jon.Stephens@sakilastaff.com         2       1      Jon   \n",
       "\n",
       "                                   password          last_update  \\\n",
       "0  8cb2237d0679ca88db6464eac60da96345513964  2006-02-15 03:57:16   \n",
       "1                                       NaN  2006-02-15 03:57:16   \n",
       "\n",
       "                address district        city    country  \n",
       "0     23 Workhaven Lane  Alberta  Lethbridge     Canada  \n",
       "1  1411 Lillydale Drive      QLD   Woodridge  Australia  "
      ]
     },
     "execution_count": 205,
     "metadata": {},
     "output_type": "execute_result"
    }
   ],
   "source": [
    "staff.head()"
   ]
  },
  {
   "cell_type": "markdown",
   "id": "66e64771",
   "metadata": {},
   "source": [
    "Setiap staff berada di district yang sama dengan lokasi toko."
   ]
  },
  {
   "cell_type": "markdown",
   "id": "60101478",
   "metadata": {},
   "source": [
    "Performa staff sudah dapat digambarkan dengan performa toko karena 1 toko 1 staff."
   ]
  },
  {
   "cell_type": "markdown",
   "id": "44227c0f",
   "metadata": {},
   "source": [
    "### Customer yang berada di district yang sama dengan staff"
   ]
  },
  {
   "cell_type": "code",
   "execution_count": 208,
   "id": "48ff742d",
   "metadata": {},
   "outputs": [],
   "source": [
    "customer = pd.read_csv('data/customer_address.csv',index_col=0)"
   ]
  },
  {
   "cell_type": "code",
   "execution_count": 210,
   "id": "b7aedd97",
   "metadata": {},
   "outputs": [
    {
     "data": {
      "text/html": [
       "<div>\n",
       "<style scoped>\n",
       "    .dataframe tbody tr th:only-of-type {\n",
       "        vertical-align: middle;\n",
       "    }\n",
       "\n",
       "    .dataframe tbody tr th {\n",
       "        vertical-align: top;\n",
       "    }\n",
       "\n",
       "    .dataframe thead th {\n",
       "        text-align: right;\n",
       "    }\n",
       "</style>\n",
       "<table border=\"1\" class=\"dataframe\">\n",
       "  <thead>\n",
       "    <tr style=\"text-align: right;\">\n",
       "      <th></th>\n",
       "      <th>customer_id</th>\n",
       "      <th>store_id</th>\n",
       "      <th>first_name</th>\n",
       "      <th>last_name</th>\n",
       "      <th>address</th>\n",
       "      <th>postal_code</th>\n",
       "      <th>district</th>\n",
       "      <th>city</th>\n",
       "      <th>country</th>\n",
       "    </tr>\n",
       "  </thead>\n",
       "  <tbody>\n",
       "    <tr>\n",
       "      <th>0</th>\n",
       "      <td>1</td>\n",
       "      <td>1</td>\n",
       "      <td>MARY</td>\n",
       "      <td>SMITH</td>\n",
       "      <td>1913 Hanoi Way</td>\n",
       "      <td>35200</td>\n",
       "      <td>Nagasaki</td>\n",
       "      <td>Sasebo</td>\n",
       "      <td>Japan</td>\n",
       "    </tr>\n",
       "    <tr>\n",
       "      <th>1</th>\n",
       "      <td>2</td>\n",
       "      <td>1</td>\n",
       "      <td>PATRICIA</td>\n",
       "      <td>JOHNSON</td>\n",
       "      <td>1121 Loja Avenue</td>\n",
       "      <td>17886</td>\n",
       "      <td>California</td>\n",
       "      <td>San Bernardino</td>\n",
       "      <td>United States</td>\n",
       "    </tr>\n",
       "    <tr>\n",
       "      <th>2</th>\n",
       "      <td>3</td>\n",
       "      <td>1</td>\n",
       "      <td>LINDA</td>\n",
       "      <td>WILLIAMS</td>\n",
       "      <td>692 Joliet Street</td>\n",
       "      <td>83579</td>\n",
       "      <td>Attika</td>\n",
       "      <td>Athenai</td>\n",
       "      <td>Greece</td>\n",
       "    </tr>\n",
       "    <tr>\n",
       "      <th>3</th>\n",
       "      <td>4</td>\n",
       "      <td>2</td>\n",
       "      <td>BARBARA</td>\n",
       "      <td>JONES</td>\n",
       "      <td>1566 Inegl Manor</td>\n",
       "      <td>53561</td>\n",
       "      <td>Mandalay</td>\n",
       "      <td>Myingyan</td>\n",
       "      <td>Myanmar</td>\n",
       "    </tr>\n",
       "    <tr>\n",
       "      <th>4</th>\n",
       "      <td>5</td>\n",
       "      <td>1</td>\n",
       "      <td>ELIZABETH</td>\n",
       "      <td>BROWN</td>\n",
       "      <td>53 Idfu Parkway</td>\n",
       "      <td>42399</td>\n",
       "      <td>Nantou</td>\n",
       "      <td>Nantou</td>\n",
       "      <td>Taiwan</td>\n",
       "    </tr>\n",
       "  </tbody>\n",
       "</table>\n",
       "</div>"
      ],
      "text/plain": [
       "   customer_id  store_id first_name last_name            address  postal_code  \\\n",
       "0            1         1       MARY     SMITH     1913 Hanoi Way        35200   \n",
       "1            2         1   PATRICIA   JOHNSON   1121 Loja Avenue        17886   \n",
       "2            3         1      LINDA  WILLIAMS  692 Joliet Street        83579   \n",
       "3            4         2    BARBARA     JONES   1566 Inegl Manor        53561   \n",
       "4            5         1  ELIZABETH     BROWN    53 Idfu Parkway        42399   \n",
       "\n",
       "     district            city        country  \n",
       "0    Nagasaki          Sasebo          Japan  \n",
       "1  California  San Bernardino  United States  \n",
       "2      Attika         Athenai         Greece  \n",
       "3    Mandalay        Myingyan        Myanmar  \n",
       "4      Nantou          Nantou         Taiwan  "
      ]
     },
     "execution_count": 210,
     "metadata": {},
     "output_type": "execute_result"
    }
   ],
   "source": [
    "customer.head()"
   ]
  },
  {
   "cell_type": "code",
   "execution_count": 211,
   "id": "507f3505",
   "metadata": {},
   "outputs": [
    {
     "name": "stdout",
     "output_type": "stream",
     "text": [
      "<class 'pandas.core.frame.DataFrame'>\n",
      "Int64Index: 599 entries, 0 to 598\n",
      "Data columns (total 9 columns):\n",
      " #   Column       Non-Null Count  Dtype \n",
      "---  ------       --------------  ----- \n",
      " 0   customer_id  599 non-null    int64 \n",
      " 1   store_id     599 non-null    int64 \n",
      " 2   first_name   599 non-null    object\n",
      " 3   last_name    599 non-null    object\n",
      " 4   address      599 non-null    object\n",
      " 5   postal_code  599 non-null    int64 \n",
      " 6   district     596 non-null    object\n",
      " 7   city         599 non-null    object\n",
      " 8   country      599 non-null    object\n",
      "dtypes: int64(3), object(6)\n",
      "memory usage: 46.8+ KB\n"
     ]
    }
   ],
   "source": [
    "customer.info()"
   ]
  },
  {
   "cell_type": "code",
   "execution_count": 213,
   "id": "3db16e09",
   "metadata": {},
   "outputs": [
    {
     "data": {
      "text/plain": [
       "array(['Alberta', 'QLD'], dtype=object)"
      ]
     },
     "execution_count": 213,
     "metadata": {},
     "output_type": "execute_result"
    }
   ],
   "source": [
    "staff['district'].values"
   ]
  },
  {
   "cell_type": "code",
   "execution_count": 222,
   "id": "25c7fe29",
   "metadata": {},
   "outputs": [
    {
     "data": {
      "text/plain": [
       "0"
      ]
     },
     "execution_count": 222,
     "metadata": {},
     "output_type": "execute_result"
    }
   ],
   "source": [
    "customer['district'].apply(lambda x: x in staff['district'].values).sum()"
   ]
  },
  {
   "cell_type": "code",
   "execution_count": 223,
   "id": "1fa4b3fd",
   "metadata": {},
   "outputs": [
    {
     "data": {
      "text/plain": [
       "0"
      ]
     },
     "execution_count": 223,
     "metadata": {},
     "output_type": "execute_result"
    }
   ],
   "source": [
    "customer['city'].apply(lambda x: x in staff['city'].values).sum()"
   ]
  },
  {
   "cell_type": "code",
   "execution_count": 224,
   "id": "7d8b3b22",
   "metadata": {},
   "outputs": [
    {
     "data": {
      "text/plain": [
       "5"
      ]
     },
     "execution_count": 224,
     "metadata": {},
     "output_type": "execute_result"
    }
   ],
   "source": [
    "customer['country'].apply(lambda x: x in staff['country'].values).sum()"
   ]
  },
  {
   "cell_type": "markdown",
   "id": "d629ce4d",
   "metadata": {},
   "source": [
    "Ternyata tidak ada customer yang berada di district dan city yang sama dengan staff toko sakila, pada tingkat country pun hanya ada 5 orang saja. Ini akan sedikit menyulitkan karena ketika rental tidak dikembalikan, berarti harus melakukan pengiriman lintas negara. Dari sini mungkin bisa dibuat kebijakan, peminjam harus beralamat di kota yang sama dengan toko sakila atau staff."
   ]
  },
  {
   "cell_type": "code",
   "execution_count": 225,
   "id": "5fda3f4b",
   "metadata": {},
   "outputs": [
    {
     "data": {
      "text/html": [
       "<div>\n",
       "<style scoped>\n",
       "    .dataframe tbody tr th:only-of-type {\n",
       "        vertical-align: middle;\n",
       "    }\n",
       "\n",
       "    .dataframe tbody tr th {\n",
       "        vertical-align: top;\n",
       "    }\n",
       "\n",
       "    .dataframe thead th {\n",
       "        text-align: right;\n",
       "    }\n",
       "</style>\n",
       "<table border=\"1\" class=\"dataframe\">\n",
       "  <thead>\n",
       "    <tr style=\"text-align: right;\">\n",
       "      <th></th>\n",
       "      <th>customer_id</th>\n",
       "      <th>store_id</th>\n",
       "      <th>first_name</th>\n",
       "      <th>last_name</th>\n",
       "      <th>address</th>\n",
       "      <th>postal_code</th>\n",
       "      <th>district</th>\n",
       "      <th>city</th>\n",
       "      <th>country</th>\n",
       "    </tr>\n",
       "  </thead>\n",
       "  <tbody>\n",
       "    <tr>\n",
       "      <th>188</th>\n",
       "      <td>189</td>\n",
       "      <td>1</td>\n",
       "      <td>LORETTA</td>\n",
       "      <td>CARPENTER</td>\n",
       "      <td>891 Novi Sad Manor</td>\n",
       "      <td>5379</td>\n",
       "      <td>Ontario</td>\n",
       "      <td>Oshawa</td>\n",
       "      <td>Canada</td>\n",
       "    </tr>\n",
       "    <tr>\n",
       "      <th>409</th>\n",
       "      <td>410</td>\n",
       "      <td>2</td>\n",
       "      <td>CURTIS</td>\n",
       "      <td>IRBY</td>\n",
       "      <td>432 Garden Grove Street</td>\n",
       "      <td>65630</td>\n",
       "      <td>Ontario</td>\n",
       "      <td>Richmond Hill</td>\n",
       "      <td>Canada</td>\n",
       "    </tr>\n",
       "    <tr>\n",
       "      <th>435</th>\n",
       "      <td>436</td>\n",
       "      <td>1</td>\n",
       "      <td>TROY</td>\n",
       "      <td>QUIGLEY</td>\n",
       "      <td>983 Santa F Way</td>\n",
       "      <td>47472</td>\n",
       "      <td>British Colombia</td>\n",
       "      <td>Vancouver</td>\n",
       "      <td>Canada</td>\n",
       "    </tr>\n",
       "    <tr>\n",
       "      <th>462</th>\n",
       "      <td>463</td>\n",
       "      <td>2</td>\n",
       "      <td>DARRELL</td>\n",
       "      <td>POWER</td>\n",
       "      <td>1844 Usak Avenue</td>\n",
       "      <td>84461</td>\n",
       "      <td>Nova Scotia</td>\n",
       "      <td>Halifax</td>\n",
       "      <td>Canada</td>\n",
       "    </tr>\n",
       "    <tr>\n",
       "      <th>475</th>\n",
       "      <td>476</td>\n",
       "      <td>1</td>\n",
       "      <td>DERRICK</td>\n",
       "      <td>BOURQUE</td>\n",
       "      <td>1153 Allende Way</td>\n",
       "      <td>20336</td>\n",
       "      <td>Qubec</td>\n",
       "      <td>Gatineau</td>\n",
       "      <td>Canada</td>\n",
       "    </tr>\n",
       "  </tbody>\n",
       "</table>\n",
       "</div>"
      ],
      "text/plain": [
       "     customer_id  store_id first_name  last_name                  address  \\\n",
       "188          189         1    LORETTA  CARPENTER       891 Novi Sad Manor   \n",
       "409          410         2     CURTIS       IRBY  432 Garden Grove Street   \n",
       "435          436         1       TROY    QUIGLEY          983 Santa F Way   \n",
       "462          463         2    DARRELL      POWER         1844 Usak Avenue   \n",
       "475          476         1    DERRICK    BOURQUE         1153 Allende Way   \n",
       "\n",
       "     postal_code          district           city country  \n",
       "188         5379           Ontario         Oshawa  Canada  \n",
       "409        65630           Ontario  Richmond Hill  Canada  \n",
       "435        47472  British Colombia      Vancouver  Canada  \n",
       "462        84461       Nova Scotia        Halifax  Canada  \n",
       "475        20336             Qubec       Gatineau  Canada  "
      ]
     },
     "execution_count": 225,
     "metadata": {},
     "output_type": "execute_result"
    }
   ],
   "source": [
    "customer[customer['country']=='Canada']"
   ]
  },
  {
   "cell_type": "code",
   "execution_count": 226,
   "id": "dfcc0ad3",
   "metadata": {},
   "outputs": [
    {
     "data": {
      "text/html": [
       "<div>\n",
       "<style scoped>\n",
       "    .dataframe tbody tr th:only-of-type {\n",
       "        vertical-align: middle;\n",
       "    }\n",
       "\n",
       "    .dataframe tbody tr th {\n",
       "        vertical-align: top;\n",
       "    }\n",
       "\n",
       "    .dataframe thead th {\n",
       "        text-align: right;\n",
       "    }\n",
       "</style>\n",
       "<table border=\"1\" class=\"dataframe\">\n",
       "  <thead>\n",
       "    <tr style=\"text-align: right;\">\n",
       "      <th></th>\n",
       "      <th>customer_id</th>\n",
       "      <th>store_id</th>\n",
       "      <th>first_name</th>\n",
       "      <th>last_name</th>\n",
       "      <th>address</th>\n",
       "      <th>postal_code</th>\n",
       "      <th>district</th>\n",
       "      <th>city</th>\n",
       "      <th>country</th>\n",
       "    </tr>\n",
       "  </thead>\n",
       "  <tbody>\n",
       "  </tbody>\n",
       "</table>\n",
       "</div>"
      ],
      "text/plain": [
       "Empty DataFrame\n",
       "Columns: [customer_id, store_id, first_name, last_name, address, postal_code, district, city, country]\n",
       "Index: []"
      ]
     },
     "execution_count": 226,
     "metadata": {},
     "output_type": "execute_result"
    }
   ],
   "source": [
    "customer[customer['country']=='Australia']"
   ]
  },
  {
   "cell_type": "markdown",
   "id": "39fbdaf5",
   "metadata": {},
   "source": [
    "---"
   ]
  },
  {
   "cell_type": "markdown",
   "id": "cbfd5481",
   "metadata": {},
   "source": [
    "## Rangkuman"
   ]
  },
  {
   "cell_type": "markdown",
   "id": "bc6df3cb",
   "metadata": {},
   "source": [
    "* Dapat dilihat bahwa dari data sampai 2006 ini toko sakila memiliki pola buka toko dan transaksi yang cukup aneh.\n",
    "* Toko tampak buka 24 jam dalam 8 hari periode dan akan tutup selama 21 hari berikutnya.\n",
    "* Kebijakan 24 jam buka ini sebenarnya tidaklah salah, namun karena pada 1 toko hanya ada 1 staff, maka shift 24 jam selama 8 hari berturut-turut tidaklah masuk akal.\n",
    "* Total sales dan sales per hari dalam 1 tahun tidaklah buruk, namun karena tidak ada data profit membuat susah menganalisis performa secara menyeluruh.\n",
    "* Dalam hal rental, terdapat kerugian karena ada beberapa rental yang belum kembali.\n",
    "* Potensi untuk replacement costnya adalah $1.800.\n",
    "* Dalam hal pengembalian rentalpun banyak yang terlambat, hampir sekitar 40%.\n",
    "* Kebijakan harus dibuat untuk menurutkan tingkat keterlambatan dan mencegah adanya rental yang tidak kembali.\n",
    "* Salah satu caranya adalah mensyaratkan penyewa harus berada di 1 kota yang sama dengan pegawai dan toko.\n",
    "* Ini berlandaskan bahwa ternyata banyak penyewa yang berasal dari luar negeri.\n",
    "* Secara keseluruhan tidak ada perbedaan tingkat performa antara kedua toko dan kedua staff.\n",
    "* Memang paling akhir adalah kebijakan perusahaan harus dibenahi."
   ]
  },
  {
   "cell_type": "markdown",
   "id": "f12148aa",
   "metadata": {},
   "source": [
    "# Terima kasih"
   ]
  }
 ],
 "metadata": {
  "kernelspec": {
   "display_name": "learn_p",
   "language": "python",
   "name": "learn_p"
  },
  "language_info": {
   "codemirror_mode": {
    "name": "ipython",
    "version": 3
   },
   "file_extension": ".py",
   "mimetype": "text/x-python",
   "name": "python",
   "nbconvert_exporter": "python",
   "pygments_lexer": "ipython3",
   "version": "3.8.12"
  }
 },
 "nbformat": 4,
 "nbformat_minor": 5
}
